{
 "cells": [
  {
   "cell_type": "code",
   "execution_count": 1,
   "id": "b3887310",
   "metadata": {},
   "outputs": [],
   "source": [
    "import pandas as pd\n",
    "import os\n",
    "\n",
    "data_name = 'UltraProcessed_Food'\n",
    "data = pd.read_csv(f'{data_name}/data.csv', index_col=0)\n",
    "data.to_csv(f'data_{data_name}/0_data.csv', index=False, header=False)\n",
    "\n",
    "def adjacency_to_parents_dict(filename):\n",
    "    parents_dict = {}\n",
    "    with open(filename, 'r') as f:\n",
    "        lines = f.readlines()\n",
    "        for child_index, line in enumerate(lines):\n",
    "            values = list(map(int, line.strip().split('\\t')))\n",
    "            parents_dict[child_index] = [(child_index,-1)]\n",
    "            for parent_index, value in enumerate(values):\n",
    "                if value == 1:\n",
    "                    parents_dict[child_index].append((parent_index,-1))\n",
    "    return parents_dict\n",
    "\n",
    "parents = adjacency_to_parents_dict(f'{data_name}/GroundTruth.txt')\n",
    "with open(f'data_{data_name}/0_node_parents.txt', 'w') as f:\n",
    "    f.write(str(parents))"
   ]
  },
  {
   "cell_type": "code",
   "execution_count": 2,
   "id": "7ab0b270",
   "metadata": {},
   "outputs": [],
   "source": [
    "from group_causation.groups_extraction import GeneticCausalGroupsExtractor\n",
    "\n",
    "\n",
    "def extract_and_save_groups(data_name):\n",
    "    data = pd.read_csv(f'./data_{data_name}/0_data.csv', header=None).values\n",
    "    group_extractor = GeneticCausalGroupsExtractor(data, \n",
    "                                                scores=['explainability_score'], \n",
    "                                                scores_weights=[1.0])\n",
    "        \n",
    "    groups = group_extractor.extract_groups()\n",
    "\n",
    "    print(data_name, 'dataset obtained the groups:', groups)\n",
    "    \n",
    "    with open(f'./data_{data_name}/0_groups.txt', 'w') as f:\n",
    "        f.write(str(groups))\n",
    "    \n",
    "\n",
    "# extract_and_save_groups(data_name)"
   ]
  },
  {
   "cell_type": "markdown",
   "id": "ad4e28da",
   "metadata": {},
   "source": [
    "## Convert node-level parents to group-level parents"
   ]
  },
  {
   "cell_type": "code",
   "execution_count": 3,
   "id": "cc1b1afd",
   "metadata": {},
   "outputs": [],
   "source": [
    "def find_index_with_element(groups, x):\n",
    "    for i, group in enumerate(groups):\n",
    "        if x in group: return i\n",
    "    return None\n",
    "\n",
    "with open(f'./data_{data_name}/0_groups.txt', 'r') as f:\n",
    "    groups = eval(f.read())\n",
    "with open(f'./data_{data_name}/0_node_parents.txt', 'r') as f:\n",
    "    node_parents = eval(f.read())\n",
    "\n",
    "group_parents = {}\n",
    "for son_group_idx, son_group in enumerate(groups):\n",
    "    group_parents[son_group_idx] = []\n",
    "    for son_node in son_group:\n",
    "        for parent_node, lag in node_parents[son_node]:\n",
    "            parent_group_idx = find_index_with_element(groups, parent_node)\n",
    "            if parent_group_idx is None:\n",
    "                print(f'Error: parent node {parent_node} not found in any group')\n",
    "                continue\n",
    "            if (parent_group_idx, lag) not in group_parents[son_group_idx]:\n",
    "                group_parents[son_group_idx].append((parent_group_idx, -1))\n",
    "            \n",
    "with open(f'./data_{data_name}/0_parents.txt', 'w') as f:\n",
    "    f.write(str(group_parents))"
   ]
  },
  {
   "cell_type": "markdown",
   "id": "f90a0ce1",
   "metadata": {},
   "source": [
    "## Perform the Benchmark"
   ]
  },
  {
   "cell_type": "code",
   "execution_count": 4,
   "id": "23116155",
   "metadata": {},
   "outputs": [],
   "source": [
    "from matplotlib import pyplot as plt\n",
    "\n",
    "from group_causation.benchmark import BenchmarkGroupCausalDiscovery\n",
    "\n",
    "from group_causation.utils import static_parameters\n",
    "from group_causation.group_causal_discovery import DimensionReductionGroupCausalDiscovery\n",
    "from group_causation.group_causal_discovery import MicroLevelGroupCausalDiscovery\n",
    "from group_causation.group_causal_discovery import HybridGroupCausalDiscovery\n",
    "\n",
    "algorithms = {\n",
    "    'group-embedding': HybridGroupCausalDiscovery,\n",
    "    'subgroups': HybridGroupCausalDiscovery,\n",
    "    'pca+pcmci': DimensionReductionGroupCausalDiscovery,\n",
    "    # 'pca+dynotears': DimensionReductionGroupCausalDiscovery,\n",
    "    'micro-level': MicroLevelGroupCausalDiscovery,\n",
    "}\n",
    "algorithms_parameters = {\n",
    "    'pca+pcmci': {'dimensionality_reduction': 'pca', 'node_causal_discovery_alg': 'pcmci',\n",
    "                            'node_causal_discovery_params': {'min_lag': 1, 'max_lag': 3, 'pc_alpha': 0.05}},\n",
    "    \n",
    "    'pca+dynotears': {'dimensionality_reduction': 'pca', 'node_causal_discovery_alg': 'dynotears',\n",
    "                            'node_causal_discovery_params': {'min_lag': 1, 'max_lag': 3, 'lambda_w': 0.0000000, 'lambda_a': 0.0000000}},\n",
    "    \n",
    "    'micro-level': {'node_causal_discovery_alg': 'pcmci',\n",
    "                            'node_causal_discovery_params': {'min_lag': 1, 'max_lag': 3, 'pc_alpha': 0.05}},\n",
    "    \n",
    "    'group-embedding': {'dimensionality_reduction': 'pca', \n",
    "               'dimensionality_reduction_params': {'explained_variance_threshold': 0.7,\n",
    "                                                   'groups_division_method': 'group_embedding'},\n",
    "                'node_causal_discovery_alg': 'pcmci',\n",
    "                'node_causal_discovery_params': {'min_lag': 1, 'max_lag': 3, 'pc_alpha': 0.05},\n",
    "                'verbose': 0},\n",
    "    \n",
    "    'subgroups': {'dimensionality_reduction': 'pca', \n",
    "               'dimensionality_reduction_params': {'explained_variance_threshold': 0.7,\n",
    "                                                   'groups_division_method': 'subgroups'},\n",
    "                'node_causal_discovery_alg': 'pcmci',\n",
    "                'node_causal_discovery_params': {'min_lag': 1, 'max_lag': 3, 'pc_alpha': 0.05},\n",
    "                'verbose': 0},\n",
    "}\n",
    "\n",
    "data_generation_options = {}\n",
    "\n",
    "benchmark_options = {\n",
    "    'static_parameters': (static_parameters, {}),\n",
    "}\n",
    "\n",
    "chosen_option = 'static_parameters'\n",
    "\n",
    "\n",
    "def execute_benchmark(data_name):\n",
    "    benchmark = BenchmarkGroupCausalDiscovery()\n",
    "    results_folder = f'results_{data_name}'\n",
    "    datasets_folder = f'data_{data_name}'\n",
    "    \n",
    "    options_generator, options_kwargs = benchmark_options[chosen_option]\n",
    "    parameters_iterator = options_generator(data_generation_options,\n",
    "                                                algorithms_parameters,\n",
    "                                                **options_kwargs)\n",
    "    results = benchmark.benchmark_causal_discovery(algorithms=algorithms,\n",
    "                                        parameters_iterator=parameters_iterator,\n",
    "                                        datasets_folder=datasets_folder,\n",
    "                                        generate_toy_data=False,\n",
    "                                        results_folder=results_folder,\n",
    "                                        n_executions=1,\n",
    "                                        verbose=2)\n",
    "    \n",
    "    return results, benchmark"
   ]
  },
  {
   "cell_type": "code",
   "execution_count": 5,
   "id": "00c6f570",
   "metadata": {},
   "outputs": [
    {
     "name": "stdout",
     "output_type": "stream",
     "text": [
      "\n",
      "--------------------------------------------------\n",
      "\u001b[34m Datasets have been loaded. \u001b[0m\n",
      "\u001b[32m Executing algorithm group-embedding \u001b[0m\n"
     ]
    },
    {
     "name": "stderr",
     "output_type": "stream",
     "text": [
      "100%|██████████| 1/1 [00:34<00:00, 34.94s/it]\n"
     ]
    },
    {
     "name": "stdout",
     "output_type": "stream",
     "text": [
      "Algorithm HybridGroupCausalDiscovery executed in 34.911 seconds and 339.931 MB of memory\n",
      "Predicted parents: {0: [(0, -3), (3, -1), (3, -2), (3, -3), (1, -1), (0, -2), (1, -2), (0, -1)], 1: [(2, -2), (3, -2), (3, -1), (2, -3), (3, -3), (1, -1), (1, -2), (1, -3), (0, -1)], 2: [(2, -1), (2, -2), (3, -1), (2, -3), (1, -1), (0, -1)], 3: [(2, -2), (2, -1), (0, -3), (3, -1), (3, -2), (2, -3), (3, -3), (1, -1), (0, -2), (0, -1)]}\n",
      "Predicted parents summary: {0: [(1, -1), (0, -1), (3, -1)], 1: [(2, -1), (3, -1), (1, -1), (0, -1)], 2: [(2, -1), (3, -1), (1, -1), (0, -1)], 3: [(2, -1), (1, -1), (0, -1), (3, -1)]}\n",
      "results_per_execution=[{'time': 34.91120505332947, 'memory': 339.931136, 'TP': 11, 'FP': 22, 'FN': 2, 'precision': 0.3333333333333333, 'recall': 0.8461538461538461, 'f1': 0.47826086956521735, 'shd': 24, 'TP_summary': 12, 'FP_summary': 3, 'FN_summary': 1, 'precision_summary': 0.8, 'recall_summary': 0.9230769230769231, 'f1_summary': 0.8571428571428571, 'shd_summary': 4}]\n",
      "\u001b[32m Executing algorithm subgroups \u001b[0m\n"
     ]
    },
    {
     "name": "stderr",
     "output_type": "stream",
     "text": [
      "100%|██████████| 1/1 [01:13<00:00, 73.47s/it]\n"
     ]
    },
    {
     "name": "stdout",
     "output_type": "stream",
     "text": [
      "Algorithm HybridGroupCausalDiscovery executed in 73.369 seconds and 348.320 MB of memory\n",
      "Predicted parents: {0: [(2, -2), (2, -1), (0, -3), (3, -2), (3, -1), (3, -3), (1, -2), (1, -1), (0, -2), (1, -3), (0, -1)], 1: [(2, -2), (0, -3), (3, -2), (3, -1), (2, -3), (3, -3), (1, -2), (1, -1), (1, -3), (0, -1)], 2: [(2, -1), (2, -2), (3, -1), (3, -2), (2, -3), (3, -3), (1, -1)], 3: [(2, -1), (2, -2), (0, -3), (3, -1), (3, -2), (2, -3), (3, -3), (1, -2), (0, -2), (1, -1), (0, -1)]}\n",
      "Predicted parents summary: {0: [(2, -1), (1, -1), (0, -1), (3, -1)], 1: [(2, -1), (1, -1), (0, -1), (3, -1)], 2: [(2, -1), (3, -1), (1, -1)], 3: [(2, -1), (1, -1), (0, -1), (3, -1)]}\n",
      "results_per_execution=[{'time': 73.36892056465149, 'memory': 348.31974399999996, 'TP': 12, 'FP': 27, 'FN': 1, 'precision': 0.3076923076923077, 'recall': 0.9230769230769231, 'f1': 0.4615384615384615, 'shd': 28, 'TP_summary': 13, 'FP_summary': 2, 'FN_summary': 0, 'precision_summary': 0.8666666666666667, 'recall_summary': 1.0, 'f1_summary': 0.9285714285714286, 'shd_summary': 2}]\n",
      "\u001b[32m Executing algorithm pca+pcmci \u001b[0m\n"
     ]
    },
    {
     "name": "stderr",
     "output_type": "stream",
     "text": [
      "100%|██████████| 1/1 [00:05<00:00,  5.01s/it]\n"
     ]
    },
    {
     "name": "stdout",
     "output_type": "stream",
     "text": [
      "Algorithm DimensionReductionGroupCausalDiscovery executed in 4.984 seconds and 347.763 MB of memory\n",
      "Predicted parents: {0: [(0, -1), (0, -2), (3, -2), (3, -1), (0, -3), (3, -3), (1, -2)], 1: [(1, -1), (1, -3), (2, -2), (2, -3)], 2: [(2, -1), (1, -1), (2, -3), (2, -2), (3, -1)], 3: [(3, -1), (3, -3), (1, -1), (3, -2), (1, -2), (0, -3), (1, -3)]}\n",
      "Predicted parents summary: {0: [(1, -1), (0, -1), (3, -1)], 1: [(2, -1), (1, -1)], 2: [(2, -1), (3, -1), (1, -1)], 3: [(3, -1), (1, -1), (0, -1)]}\n",
      "results_per_execution=[{'time': 4.983623266220093, 'memory': 347.76268799999997, 'TP': 7, 'FP': 16, 'FN': 6, 'precision': 0.30434782608695654, 'recall': 0.5384615384615384, 'f1': 0.3888888888888889, 'shd': 22, 'TP_summary': 10, 'FP_summary': 1, 'FN_summary': 3, 'precision_summary': 0.9090909090909091, 'recall_summary': 0.7692307692307693, 'f1_summary': 0.8333333333333333, 'shd_summary': 4}]\n",
      "\u001b[32m Executing algorithm micro-level \u001b[0m\n"
     ]
    },
    {
     "name": "stderr",
     "output_type": "stream",
     "text": [
      "100%|██████████| 1/1 [01:37<00:00, 97.66s/it]"
     ]
    },
    {
     "name": "stdout",
     "output_type": "stream",
     "text": [
      "Algorithm MicroLevelGroupCausalDiscovery executed in 97.640 seconds and 349.856 MB of memory\n",
      "Predicted parents: {0: [(2, -1), (2, -2), (0, -3), (3, -2), (3, -1), (3, -3), (1, -1), (1, -2), (0, -2), (1, -3), (0, -1)], 1: [(2, -2), (0, -3), (3, -2), (3, -1), (2, -3), (3, -3), (1, -2), (1, -1), (1, -3), (0, -1)], 2: [(2, -1), (2, -2), (3, -1), (3, -2), (2, -3), (3, -3), (1, -1), (1, -2), (0, -1)], 3: [(2, -2), (2, -1), (0, -3), (3, -1), (3, -2), (2, -3), (3, -3), (1, -1), (0, -1), (1, -2), (0, -2)]}\n",
      "Predicted parents summary: {0: [(2, -1), (1, -1), (0, -1), (3, -1)], 1: [(2, -1), (1, -1), (0, -1), (3, -1)], 2: [(2, -1), (3, -1), (1, -1), (0, -1)], 3: [(2, -1), (1, -1), (0, -1), (3, -1)]}\n",
      "results_per_execution=[{'time': 97.63994026184082, 'memory': 349.85574399999996, 'TP': 12, 'FP': 29, 'FN': 1, 'precision': 0.2926829268292683, 'recall': 0.9230769230769231, 'f1': 0.4444444444444444, 'shd': 30, 'TP_summary': 13, 'FP_summary': 3, 'FN_summary': 0, 'precision_summary': 0.8125, 'recall_summary': 1.0, 'f1_summary': 0.896551724137931, 'shd_summary': 3}]\n",
      "current_results={'group-embedding': [{'time': 34.91120505332947, 'memory': 339.931136, 'TP': 11, 'FP': 22, 'FN': 2, 'precision': 0.3333333333333333, 'recall': 0.8461538461538461, 'f1': 0.47826086956521735, 'shd': 24, 'TP_summary': 12, 'FP_summary': 3, 'FN_summary': 1, 'precision_summary': 0.8, 'recall_summary': 0.9230769230769231, 'f1_summary': 0.8571428571428571, 'shd_summary': 4}], 'subgroups': [{'time': 73.36892056465149, 'memory': 348.31974399999996, 'TP': 12, 'FP': 27, 'FN': 1, 'precision': 0.3076923076923077, 'recall': 0.9230769230769231, 'f1': 0.4615384615384615, 'shd': 28, 'TP_summary': 13, 'FP_summary': 2, 'FN_summary': 0, 'precision_summary': 0.8666666666666667, 'recall_summary': 1.0, 'f1_summary': 0.9285714285714286, 'shd_summary': 2}], 'pca+pcmci': [{'time': 4.983623266220093, 'memory': 347.76268799999997, 'TP': 7, 'FP': 16, 'FN': 6, 'precision': 0.30434782608695654, 'recall': 0.5384615384615384, 'f1': 0.3888888888888889, 'shd': 22, 'TP_summary': 10, 'FP_summary': 1, 'FN_summary': 3, 'precision_summary': 0.9090909090909091, 'recall_summary': 0.7692307692307693, 'f1_summary': 0.8333333333333333, 'shd_summary': 4}], 'micro-level': [{'time': 97.63994026184082, 'memory': 349.85574399999996, 'TP': 12, 'FP': 29, 'FN': 1, 'precision': 0.2926829268292683, 'recall': 0.9230769230769231, 'f1': 0.4444444444444444, 'shd': 30, 'TP_summary': 13, 'FP_summary': 3, 'FN_summary': 0, 'precision_summary': 0.8125, 'recall_summary': 1.0, 'f1_summary': 0.896551724137931, 'shd_summary': 3}]}\n"
     ]
    },
    {
     "name": "stderr",
     "output_type": "stream",
     "text": [
      "\n"
     ]
    },
    {
     "data": {
      "text/plain": [
       "({'group-embedding': [{'time': 34.91120505332947,\n",
       "    'memory': 339.931136,\n",
       "    'TP': 11,\n",
       "    'FP': 22,\n",
       "    'FN': 2,\n",
       "    'precision': 0.3333333333333333,\n",
       "    'recall': 0.8461538461538461,\n",
       "    'f1': 0.47826086956521735,\n",
       "    'shd': 24,\n",
       "    'TP_summary': 12,\n",
       "    'FP_summary': 3,\n",
       "    'FN_summary': 1,\n",
       "    'precision_summary': 0.8,\n",
       "    'recall_summary': 0.9230769230769231,\n",
       "    'f1_summary': 0.8571428571428571,\n",
       "    'shd_summary': 4,\n",
       "    'dataset_iteration': 0}],\n",
       "  'subgroups': [{'time': 73.36892056465149,\n",
       "    'memory': 348.31974399999996,\n",
       "    'TP': 12,\n",
       "    'FP': 27,\n",
       "    'FN': 1,\n",
       "    'precision': 0.3076923076923077,\n",
       "    'recall': 0.9230769230769231,\n",
       "    'f1': 0.4615384615384615,\n",
       "    'shd': 28,\n",
       "    'TP_summary': 13,\n",
       "    'FP_summary': 2,\n",
       "    'FN_summary': 0,\n",
       "    'precision_summary': 0.8666666666666667,\n",
       "    'recall_summary': 1.0,\n",
       "    'f1_summary': 0.9285714285714286,\n",
       "    'shd_summary': 2,\n",
       "    'dataset_iteration': 0}],\n",
       "  'pca+pcmci': [{'time': 4.983623266220093,\n",
       "    'memory': 347.76268799999997,\n",
       "    'TP': 7,\n",
       "    'FP': 16,\n",
       "    'FN': 6,\n",
       "    'precision': 0.30434782608695654,\n",
       "    'recall': 0.5384615384615384,\n",
       "    'f1': 0.3888888888888889,\n",
       "    'shd': 22,\n",
       "    'TP_summary': 10,\n",
       "    'FP_summary': 1,\n",
       "    'FN_summary': 3,\n",
       "    'precision_summary': 0.9090909090909091,\n",
       "    'recall_summary': 0.7692307692307693,\n",
       "    'f1_summary': 0.8333333333333333,\n",
       "    'shd_summary': 4,\n",
       "    'dataset_iteration': 0}],\n",
       "  'micro-level': [{'time': 97.63994026184082,\n",
       "    'memory': 349.85574399999996,\n",
       "    'TP': 12,\n",
       "    'FP': 29,\n",
       "    'FN': 1,\n",
       "    'precision': 0.2926829268292683,\n",
       "    'recall': 0.9230769230769231,\n",
       "    'f1': 0.4444444444444444,\n",
       "    'shd': 30,\n",
       "    'TP_summary': 13,\n",
       "    'FP_summary': 3,\n",
       "    'FN_summary': 0,\n",
       "    'precision_summary': 0.8125,\n",
       "    'recall_summary': 1.0,\n",
       "    'f1_summary': 0.896551724137931,\n",
       "    'shd_summary': 3,\n",
       "    'dataset_iteration': 0}]},\n",
       " <group_causation.benchmark.BenchmarkGroupCausalDiscovery at 0x75ed2c3ac730>)"
      ]
     },
     "execution_count": 5,
     "metadata": {},
     "output_type": "execute_result"
    }
   ],
   "source": [
    "execute_benchmark(data_name)"
   ]
  },
  {
   "cell_type": "code",
   "execution_count": 6,
   "id": "3a3d6a7d",
   "metadata": {},
   "outputs": [
    {
     "name": "stdout",
     "output_type": "stream",
     "text": [
      "\\begin{tabular}{llrrrrr}\n",
      "\\toprule\n",
      " & algorithm & precision_summary & recall_summary & f1_summary & shd_summary & time \\\\\n",
      "\\midrule\n",
      "0 & micro-level & 0.812 & 1.000 & 0.897 & 3 & 97.640 \\\\\n",
      "1 & subgroups & 0.867 & 1.000 & 0.929 & 2 & 73.369 \\\\\n",
      "2 & group-embedding & 0.800 & 0.923 & 0.857 & 4 & 34.911 \\\\\n",
      "3 & pca+pcmci & 0.909 & 0.769 & 0.833 & 4 & 4.984 \\\\\n",
      "4 & pca+dynotears & 0.000 & 0.000 & 0.000 & 14 & 20.895 \\\\\n",
      "\\bottomrule\n",
      "\\end{tabular}\n",
      "\n"
     ]
    }
   ],
   "source": [
    "results = [pd.read_csv(f'results_{data_name}/{file}') for file in os.listdir(f'results_{data_name}') if file.endswith('.csv')]\n",
    "algorithms = [file.split('_')[1].split('.')[0] for file in os.listdir(f'results_{data_name}') if file.endswith('.csv')]\n",
    "\n",
    "for result, algorithm in zip(results, algorithms): result['algorithm'] = algorithm\n",
    "results = pd.concat(results, ignore_index=True)\n",
    "\n",
    "results = results[['algorithm', 'precision_summary', 'recall_summary', 'f1_summary', 'shd_summary', 'time']]\n",
    "# results\n",
    "print(results.to_latex(float_format=\"%.3f\"))"
   ]
  },
  {
   "cell_type": "code",
   "execution_count": 7,
   "id": "9a9236b5",
   "metadata": {},
   "outputs": [
    {
     "name": "stdout",
     "output_type": "stream",
     "text": [
      "{0: [(0, -1), (1, -1), (2, -1), (3, -1)], 1: [(1, -1), (2, -1), (3, -1)], 2: [(2, -1), (3, -1)], 3: [(3, -1), (0, -1), (1, -1), (2, -1)]}\n"
     ]
    },
    {
     "data": {
      "text/plain": [
       "<Figure size 1000x600 with 0 Axes>"
      ]
     },
     "metadata": {},
     "output_type": "display_data"
    },
    {
     "data": {
      "image/png": "[encoded data removed]",
      "text/plain": [
       "<Figure size 640x480 with 1 Axes>"
      ]
     },
     "metadata": {},
     "output_type": "display_data"
    }
   ],
   "source": [
    "from group_causation.create_toy_datasets import plot_ts_graph\n",
    "\n",
    "def plot_parents_graph(data_name):\n",
    "    with open(f'data_{data_name}/0_parents.txt') as f:\n",
    "        group_parents = eval(f.read())\n",
    "        \n",
    "    print(group_parents)\n",
    "    plt.figure(figsize=(10, 6))\n",
    "    plot_ts_graph(group_parents)\n",
    "    plt.savefig(f'results_{data_name}/parents_graph.pdf')\n",
    "\n",
    "plot_parents_graph(data_name)"
   ]
  }
 ],
 "metadata": {
  "kernelspec": {
   "display_name": "causal-inference",
   "language": "python",
   "name": "python3"
  },
  "language_info": {
   "codemirror_mode": {
    "name": "ipython",
    "version": 3
   },
   "file_extension": ".py",
   "mimetype": "text/x-python",
   "name": "python",
   "nbconvert_exporter": "python",
   "pygments_lexer": "ipython3",
   "version": "3.9.21"
  }
 },
 "nbformat": 4,
 "nbformat_minor": 5
}
