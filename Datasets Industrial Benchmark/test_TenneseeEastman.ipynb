{
 "cells": [
  {
   "cell_type": "code",
   "execution_count": 1,
   "id": "b3887310",
   "metadata": {},
   "outputs": [],
   "source": [
    "import pandas as pd\n",
    "import os\n",
    "\n",
    "data_name = 'TenneseeEastman'\n",
    "data = pd.read_csv(f'{data_name}/data.csv', index_col=0)\n",
    "data.to_csv(f'data_{data_name}/0_data.csv', index=False, header=False)\n",
    "\n",
    "def adjacency_to_parents_dict(filename):\n",
    "    parents_dict = {}\n",
    "    with open(filename, 'r') as f:\n",
    "        lines = f.readlines()\n",
    "        for child_index, line in enumerate(lines):\n",
    "            values = list(map(int, line.strip().split('\\t')))\n",
    "            parents_dict[child_index] = [(child_index,-1)]\n",
    "            for parent_index, value in enumerate(values):\n",
    "                if value == 1:\n",
    "                    parents_dict[child_index].append((parent_index,-1))\n",
    "    return parents_dict\n",
    "\n",
    "parents = adjacency_to_parents_dict(f'{data_name}/GroundTruth.txt')\n",
    "with open(f'data_{data_name}/0_node_parents.txt', 'w') as f:\n",
    "    f.write(str(parents))"
   ]
  },
  {
   "cell_type": "code",
   "execution_count": 2,
   "id": "7ab0b270",
   "metadata": {},
   "outputs": [],
   "source": [
    "from group_causation.groups_extraction import GeneticCausalGroupsExtractor\n",
    "\n",
    "\n",
    "def extract_and_save_groups(data_name):\n",
    "    data = pd.read_csv(f'./data_{data_name}/0_data.csv', header=None).values\n",
    "    group_extractor = GeneticCausalGroupsExtractor(data, \n",
    "                                                scores=['explainability_score'], \n",
    "                                                scores_weights=[1.0])\n",
    "        \n",
    "    groups = group_extractor.extract_groups()\n",
    "\n",
    "    print(data_name, 'dataset obtained the groups:', groups)\n",
    "    \n",
    "    with open(f'./data_{data_name}/0_groups.txt', 'w') as f:\n",
    "        f.write(str(groups))\n",
    "    \n",
    "\n",
    "# extract_and_save_groups(data_name)"
   ]
  },
  {
   "cell_type": "markdown",
   "id": "ad4e28da",
   "metadata": {},
   "source": [
    "## Convert node-level parents to group-level parents"
   ]
  },
  {
   "cell_type": "code",
   "execution_count": 3,
   "id": "cc1b1afd",
   "metadata": {},
   "outputs": [],
   "source": [
    "def find_index_with_element(groups, x):\n",
    "    for i, group in enumerate(groups):\n",
    "        if x in group: return i\n",
    "    return None\n",
    "\n",
    "with open(f'./data_{data_name}/0_groups.txt', 'r') as f:\n",
    "    groups = eval(f.read())\n",
    "with open(f'./data_{data_name}/0_node_parents.txt', 'r') as f:\n",
    "    node_parents = eval(f.read())\n",
    "\n",
    "group_parents = {}\n",
    "for son_group_idx, son_group in enumerate(groups):\n",
    "    group_parents[son_group_idx] = []\n",
    "    for son_node in son_group:\n",
    "        for parent_node, lag in node_parents[son_node]:\n",
    "            parent_group_idx = find_index_with_element(groups, parent_node)\n",
    "            if parent_group_idx is None:\n",
    "                print(f'Error: parent node {parent_node} not found in any group')\n",
    "                continue\n",
    "            if (parent_group_idx, lag) not in group_parents[son_group_idx]:\n",
    "                group_parents[son_group_idx].append((parent_group_idx, -1))\n",
    "            \n",
    "with open(f'./data_{data_name}/0_parents.txt', 'w') as f:\n",
    "    f.write(str(group_parents))"
   ]
  },
  {
   "cell_type": "markdown",
   "id": "f90a0ce1",
   "metadata": {},
   "source": [
    "## Perform the Benchmark"
   ]
  },
  {
   "cell_type": "code",
   "execution_count": 4,
   "id": "23116155",
   "metadata": {},
   "outputs": [],
   "source": [
    "from matplotlib import pyplot as plt\n",
    "\n",
    "from group_causation.benchmark import BenchmarkGroupCausalDiscovery\n",
    "\n",
    "from group_causation.utils import static_parameters\n",
    "from group_causation.group_causal_discovery import DimensionReductionGroupCausalDiscovery\n",
    "from group_causation.group_causal_discovery import MicroLevelGroupCausalDiscovery\n",
    "from group_causation.group_causal_discovery import HybridGroupCausalDiscovery\n",
    "\n",
    "algorithms = {\n",
    "    'group-embedding': HybridGroupCausalDiscovery,\n",
    "    'subgroups': HybridGroupCausalDiscovery,\n",
    "    'pca+pcmci': DimensionReductionGroupCausalDiscovery,\n",
    "    # 'pca+dynotears': DimensionReductionGroupCausalDiscovery,\n",
    "    'micro-level': MicroLevelGroupCausalDiscovery,\n",
    "}\n",
    "algorithms_parameters = {\n",
    "    'pca+pcmci': {'dimensionality_reduction': 'pca', 'node_causal_discovery_alg': 'pcmci',\n",
    "                            'node_causal_discovery_params': {'min_lag': 1, 'max_lag': 3, 'pc_alpha': 0.05}},\n",
    "    \n",
    "    'pca+dynotears': {'dimensionality_reduction': 'pca', 'node_causal_discovery_alg': 'dynotears',\n",
    "                            'node_causal_discovery_params': {'min_lag': 1, 'max_lag': 3, 'lambda_w': 0.0000000, 'lambda_a': 0.0000000}},\n",
    "    \n",
    "    'micro-level': {'node_causal_discovery_alg': 'pcmci',\n",
    "                            'node_causal_discovery_params': {'min_lag': 1, 'max_lag': 3, 'pc_alpha': 0.05}},\n",
    "    \n",
    "    'group-embedding': {'dimensionality_reduction': 'pca', \n",
    "               'dimensionality_reduction_params': {'explained_variance_threshold': 0.5,\n",
    "                                                   'groups_division_method': 'group_embedding'},\n",
    "                'node_causal_discovery_alg': 'pcmci',\n",
    "                'node_causal_discovery_params': {'min_lag': 1, 'max_lag': 3, 'pc_alpha': 0.05},\n",
    "                'verbose': 0},\n",
    "    \n",
    "    'subgroups': {'dimensionality_reduction': 'pca', \n",
    "               'dimensionality_reduction_params': {'explained_variance_threshold': 0.5,\n",
    "                                                   'groups_division_method': 'subgroups'},\n",
    "                'node_causal_discovery_alg': 'pcmci',\n",
    "                'node_causal_discovery_params': {'min_lag': 1, 'max_lag': 3, 'pc_alpha': 0.05},\n",
    "                'verbose': 0},\n",
    "}\n",
    "\n",
    "data_generation_options = {}\n",
    "\n",
    "benchmark_options = {\n",
    "    'static_parameters': (static_parameters, {}),\n",
    "}\n",
    "\n",
    "chosen_option = 'static_parameters'\n",
    "\n",
    "\n",
    "def execute_benchmark(data_name):\n",
    "    benchmark = BenchmarkGroupCausalDiscovery()\n",
    "    results_folder = f'results_{data_name}'\n",
    "    datasets_folder = f'data_{data_name}'\n",
    "    \n",
    "    options_generator, options_kwargs = benchmark_options[chosen_option]\n",
    "    parameters_iterator = options_generator(data_generation_options,\n",
    "                                                algorithms_parameters,\n",
    "                                                **options_kwargs)\n",
    "    results = benchmark.benchmark_causal_discovery(algorithms=algorithms,\n",
    "                                        parameters_iterator=parameters_iterator,\n",
    "                                        datasets_folder=datasets_folder,\n",
    "                                        generate_toy_data=False,\n",
    "                                        results_folder=results_folder,\n",
    "                                        n_executions=1,\n",
    "                                        verbose=2)\n",
    "    \n",
    "    return results, benchmark"
   ]
  },
  {
   "cell_type": "code",
   "execution_count": 5,
   "id": "00c6f570",
   "metadata": {},
   "outputs": [
    {
     "name": "stdout",
     "output_type": "stream",
     "text": [
      "\n",
      "--------------------------------------------------\n",
      "\u001b[34m Datasets have been loaded. \u001b[0m\n",
      "\u001b[32m Executing algorithm group-embedding \u001b[0m\n"
     ]
    },
    {
     "name": "stderr",
     "output_type": "stream",
     "text": [
      "  0%|          | 0/1 [00:00<?, ?it/s]"
     ]
    },
    {
     "name": "stderr",
     "output_type": "stream",
     "text": [
      "100%|██████████| 1/1 [00:10<00:00, 10.91s/it]\n"
     ]
    },
    {
     "name": "stdout",
     "output_type": "stream",
     "text": [
      "Algorithm HybridGroupCausalDiscovery executed in 10.872 seconds and 297.320 MB of memory\n",
      "Predicted parents: {0: [(4, -1), (3, -1), (0, -1), (4, -2)], 1: [(2, -1), (3, -2), (3, -1), (4, -3), (2, -3), (1, -2), (1, -1), (1, -3)], 2: [(2, -2), (2, -1), (3, -1), (3, -2), (4, -3), (2, -3), (4, -2)], 3: [(2, -1), (2, -2), (3, -1), (3, -2), (2, -3), (3, -3), (1, -1), (4, -1), (0, -1)], 4: [(3, -1), (3, -2), (4, -3), (1, -1), (1, -3), (4, -2), (4, -1), (0, -1)]}\n",
      "Predicted parents summary: {0: [(4, -1), (3, -1), (0, -1)], 1: [(4, -1), (2, -1), (3, -1), (1, -1)], 2: [(4, -1), (2, -1), (3, -1)], 3: [(2, -1), (3, -1), (1, -1), (4, -1), (0, -1)], 4: [(4, -1), (3, -1), (1, -1), (0, -1)]}\n",
      "results_per_execution=[{'time': 10.872054815292358, 'memory': 297.320448, 'TP': 13, 'FP': 23, 'FN': 3, 'precision': 0.3611111111111111, 'recall': 0.8125, 'f1': 0.5, 'shd': 26, 'TP_summary': 15, 'FP_summary': 4, 'FN_summary': 1, 'precision_summary': 0.7894736842105263, 'recall_summary': 0.9375, 'f1_summary': 0.8571428571428572, 'shd_summary': 5}]\n",
      "\u001b[32m Executing algorithm subgroups \u001b[0m\n"
     ]
    },
    {
     "name": "stderr",
     "output_type": "stream",
     "text": [
      "100%|██████████| 1/1 [00:17<00:00, 17.31s/it]\n"
     ]
    },
    {
     "name": "stdout",
     "output_type": "stream",
     "text": [
      "Algorithm HybridGroupCausalDiscovery executed in 17.198 seconds and 298.095 MB of memory\n",
      "Predicted parents: {0: [(3, -2), (3, -1), (1, -1), (4, -2), (4, -1), (0, -2)], 1: [(2, -1), (3, -2), (3, -1), (4, -3), (1, -2), (1, -1), (1, -3), (4, -1), (0, -2)], 2: [(2, -2), (2, -1), (3, -1), (3, -2), (2, -3), (3, -3), (1, -1)], 3: [(2, -1), (2, -2), (3, -1), (3, -2), (2, -3), (3, -3), (1, -1), (1, -2), (1, -3), (4, -1)], 4: [(2, -2), (2, -1), (3, -1), (3, -2), (4, -3), (1, -1), (4, -2), (4, -1)]}\n",
      "Predicted parents summary: {0: [(4, -1), (3, -1), (1, -1), (0, -1)], 1: [(2, -1), (3, -1), (1, -1), (4, -1), (0, -1)], 2: [(2, -1), (3, -1), (1, -1)], 3: [(4, -1), (2, -1), (3, -1), (1, -1)], 4: [(4, -1), (2, -1), (3, -1), (1, -1)]}\n",
      "results_per_execution=[{'time': 17.19824981689453, 'memory': 298.094592, 'TP': 13, 'FP': 27, 'FN': 3, 'precision': 0.325, 'recall': 0.8125, 'f1': 0.46428571428571436, 'shd': 30, 'TP_summary': 14, 'FP_summary': 6, 'FN_summary': 2, 'precision_summary': 0.7, 'recall_summary': 0.875, 'f1_summary': 0.7777777777777777, 'shd_summary': 8}]\n",
      "\u001b[32m Executing algorithm pca+pcmci \u001b[0m\n"
     ]
    },
    {
     "name": "stderr",
     "output_type": "stream",
     "text": [
      "100%|██████████| 1/1 [00:02<00:00,  2.37s/it]\n"
     ]
    },
    {
     "name": "stdout",
     "output_type": "stream",
     "text": [
      "Algorithm DimensionReductionGroupCausalDiscovery executed in 2.345 seconds and 298.484 MB of memory\n",
      "Predicted parents: {0: [(4, -1), (4, -2), (2, -1)], 1: [(1, -1), (2, -1), (1, -2), (2, -3)], 2: [(2, -3), (2, -1), (2, -2)], 3: [(3, -1), (2, -1), (3, -2), (4, -1), (1, -2)], 4: [(4, -1), (4, -2), (4, -3), (3, -1)]}\n",
      "Predicted parents summary: {0: [(4, -1), (2, -1)], 1: [(2, -1), (1, -1)], 2: [(2, -1)], 3: [(4, -1), (2, -1), (3, -1), (1, -1)], 4: [(4, -1), (3, -1)]}\n",
      "results_per_execution=[{'time': 2.344937562942505, 'memory': 298.48371199999997, 'TP': 6, 'FP': 13, 'FN': 10, 'precision': 0.3157894736842105, 'recall': 0.375, 'f1': 0.34285714285714286, 'shd': 23, 'TP_summary': 7, 'FP_summary': 4, 'FN_summary': 9, 'precision_summary': 0.6363636363636364, 'recall_summary': 0.4375, 'f1_summary': 0.5185185185185185, 'shd_summary': 13}]\n",
      "\u001b[32m Executing algorithm micro-level \u001b[0m\n"
     ]
    },
    {
     "name": "stderr",
     "output_type": "stream",
     "text": [
      "100%|██████████| 1/1 [00:41<00:00, 41.85s/it]"
     ]
    },
    {
     "name": "stdout",
     "output_type": "stream",
     "text": [
      "Algorithm MicroLevelGroupCausalDiscovery executed in 41.838 seconds and 304.652 MB of memory\n",
      "Predicted parents: {0: [(2, -2), (3, -1), (3, -2), (3, -3), (4, -2), (4, -1), (0, -2)], 1: [(2, -1), (3, -2), (3, -1), (4, -3), (3, -3), (1, -1), (1, -2), (4, -2), (4, -1), (0, -2)], 2: [(2, -1), (2, -2), (0, -3), (3, -1), (3, -2), (2, -3), (3, -3), (1, -1), (4, -1), (4, -2), (0, -1)], 3: [(2, -1), (2, -2), (0, -3), (3, -2), (3, -1), (4, -3), (3, -3), (1, -1), (4, -2), (4, -1), (0, -2)], 4: [(2, -1), (3, -1), (3, -2), (4, -3), (3, -3), (4, -2), (4, -1), (0, -1)]}\n",
      "Predicted parents summary: {0: [(4, -1), (2, -1), (3, -1), (0, -1)], 1: [(2, -1), (3, -1), (1, -1), (4, -1), (0, -1)], 2: [(2, -1), (3, -1), (1, -1), (4, -1), (0, -1)], 3: [(2, -1), (3, -1), (1, -1), (4, -1), (0, -1)], 4: [(4, -1), (2, -1), (3, -1), (0, -1)]}\n",
      "results_per_execution=[{'time': 41.83779716491699, 'memory': 304.652288, 'TP': 12, 'FP': 35, 'FN': 4, 'precision': 0.2553191489361702, 'recall': 0.75, 'f1': 0.380952380952381, 'shd': 39, 'TP_summary': 14, 'FP_summary': 9, 'FN_summary': 2, 'precision_summary': 0.6086956521739131, 'recall_summary': 0.875, 'f1_summary': 0.717948717948718, 'shd_summary': 11}]\n",
      "current_results={'group-embedding': [{'time': 10.872054815292358, 'memory': 297.320448, 'TP': 13, 'FP': 23, 'FN': 3, 'precision': 0.3611111111111111, 'recall': 0.8125, 'f1': 0.5, 'shd': 26, 'TP_summary': 15, 'FP_summary': 4, 'FN_summary': 1, 'precision_summary': 0.7894736842105263, 'recall_summary': 0.9375, 'f1_summary': 0.8571428571428572, 'shd_summary': 5}], 'subgroups': [{'time': 17.19824981689453, 'memory': 298.094592, 'TP': 13, 'FP': 27, 'FN': 3, 'precision': 0.325, 'recall': 0.8125, 'f1': 0.46428571428571436, 'shd': 30, 'TP_summary': 14, 'FP_summary': 6, 'FN_summary': 2, 'precision_summary': 0.7, 'recall_summary': 0.875, 'f1_summary': 0.7777777777777777, 'shd_summary': 8}], 'pca+pcmci': [{'time': 2.344937562942505, 'memory': 298.48371199999997, 'TP': 6, 'FP': 13, 'FN': 10, 'precision': 0.3157894736842105, 'recall': 0.375, 'f1': 0.34285714285714286, 'shd': 23, 'TP_summary': 7, 'FP_summary': 4, 'FN_summary': 9, 'precision_summary': 0.6363636363636364, 'recall_summary': 0.4375, 'f1_summary': 0.5185185185185185, 'shd_summary': 13}], 'micro-level': [{'time': 41.83779716491699, 'memory': 304.652288, 'TP': 12, 'FP': 35, 'FN': 4, 'precision': 0.2553191489361702, 'recall': 0.75, 'f1': 0.380952380952381, 'shd': 39, 'TP_summary': 14, 'FP_summary': 9, 'FN_summary': 2, 'precision_summary': 0.6086956521739131, 'recall_summary': 0.875, 'f1_summary': 0.717948717948718, 'shd_summary': 11}]}\n"
     ]
    },
    {
     "name": "stderr",
     "output_type": "stream",
     "text": [
      "\n"
     ]
    },
    {
     "data": {
      "text/plain": [
       "({'group-embedding': [{'time': 10.872054815292358,\n",
       "    'memory': 297.320448,\n",
       "    'TP': 13,\n",
       "    'FP': 23,\n",
       "    'FN': 3,\n",
       "    'precision': 0.3611111111111111,\n",
       "    'recall': 0.8125,\n",
       "    'f1': 0.5,\n",
       "    'shd': 26,\n",
       "    'TP_summary': 15,\n",
       "    'FP_summary': 4,\n",
       "    'FN_summary': 1,\n",
       "    'precision_summary': 0.7894736842105263,\n",
       "    'recall_summary': 0.9375,\n",
       "    'f1_summary': 0.8571428571428572,\n",
       "    'shd_summary': 5,\n",
       "    'dataset_iteration': 0}],\n",
       "  'subgroups': [{'time': 17.19824981689453,\n",
       "    'memory': 298.094592,\n",
       "    'TP': 13,\n",
       "    'FP': 27,\n",
       "    'FN': 3,\n",
       "    'precision': 0.325,\n",
       "    'recall': 0.8125,\n",
       "    'f1': 0.46428571428571436,\n",
       "    'shd': 30,\n",
       "    'TP_summary': 14,\n",
       "    'FP_summary': 6,\n",
       "    'FN_summary': 2,\n",
       "    'precision_summary': 0.7,\n",
       "    'recall_summary': 0.875,\n",
       "    'f1_summary': 0.7777777777777777,\n",
       "    'shd_summary': 8,\n",
       "    'dataset_iteration': 0}],\n",
       "  'pca+pcmci': [{'time': 2.344937562942505,\n",
       "    'memory': 298.48371199999997,\n",
       "    'TP': 6,\n",
       "    'FP': 13,\n",
       "    'FN': 10,\n",
       "    'precision': 0.3157894736842105,\n",
       "    'recall': 0.375,\n",
       "    'f1': 0.34285714285714286,\n",
       "    'shd': 23,\n",
       "    'TP_summary': 7,\n",
       "    'FP_summary': 4,\n",
       "    'FN_summary': 9,\n",
       "    'precision_summary': 0.6363636363636364,\n",
       "    'recall_summary': 0.4375,\n",
       "    'f1_summary': 0.5185185185185185,\n",
       "    'shd_summary': 13,\n",
       "    'dataset_iteration': 0}],\n",
       "  'micro-level': [{'time': 41.83779716491699,\n",
       "    'memory': 304.652288,\n",
       "    'TP': 12,\n",
       "    'FP': 35,\n",
       "    'FN': 4,\n",
       "    'precision': 0.2553191489361702,\n",
       "    'recall': 0.75,\n",
       "    'f1': 0.380952380952381,\n",
       "    'shd': 39,\n",
       "    'TP_summary': 14,\n",
       "    'FP_summary': 9,\n",
       "    'FN_summary': 2,\n",
       "    'precision_summary': 0.6086956521739131,\n",
       "    'recall_summary': 0.875,\n",
       "    'f1_summary': 0.717948717948718,\n",
       "    'shd_summary': 11,\n",
       "    'dataset_iteration': 0}]},\n",
       " <group_causation.benchmark.BenchmarkGroupCausalDiscovery at 0x7253a41b1670>)"
      ]
     },
     "execution_count": 5,
     "metadata": {},
     "output_type": "execute_result"
    }
   ],
   "source": [
    "execute_benchmark(data_name)"
   ]
  },
  {
   "cell_type": "code",
   "execution_count": 6,
   "id": "3a3d6a7d",
   "metadata": {},
   "outputs": [
    {
     "name": "stdout",
     "output_type": "stream",
     "text": [
      "\\begin{tabular}{llrrrrr}\n",
      "\\toprule\n",
      " & algorithm & precision_summary & recall_summary & f1_summary & shd_summary & time \\\\\n",
      "\\midrule\n",
      "0 & micro-level & 0.609 & 0.875 & 0.718 & 11 & 41.838 \\\\\n",
      "1 & subgroups & 0.700 & 0.875 & 0.778 & 8 & 17.198 \\\\\n",
      "2 & group-embedding & 0.789 & 0.938 & 0.857 & 5 & 10.872 \\\\\n",
      "3 & pca+pcmci & 0.636 & 0.438 & 0.519 & 13 & 2.345 \\\\\n",
      "4 & pca+dynotears & 0.000 & 0.000 & 0.000 & 31 & 165.253 \\\\\n",
      "\\bottomrule\n",
      "\\end{tabular}\n",
      "\n"
     ]
    }
   ],
   "source": [
    "results = [pd.read_csv(f'results_{data_name}/{file}') for file in os.listdir(f'results_{data_name}') if file.endswith('.csv')]\n",
    "algorithms = [file.split('_')[1].split('.')[0] for file in os.listdir(f'results_{data_name}') if file.endswith('.csv')]\n",
    "\n",
    "for result, algorithm in zip(results, algorithms): result['algorithm'] = algorithm\n",
    "results = pd.concat(results, ignore_index=True)\n",
    "\n",
    "results = results[['algorithm', 'precision_summary', 'recall_summary', 'f1_summary', 'shd_summary', 'time']]\n",
    "# results\n",
    "print(results.to_latex(float_format=\"%.3f\"))"
   ]
  },
  {
   "cell_type": "code",
   "execution_count": 7,
   "id": "9a9236b5",
   "metadata": {},
   "outputs": [
    {
     "name": "stdout",
     "output_type": "stream",
     "text": [
      "{0: [(0, -1), (4, -1), (3, -1), (1, -1)], 1: [(1, -1), (4, -1), (3, -1)], 2: [(2, -1), (3, -1), (4, -1)], 3: [(3, -1), (2, -1), (0, -1), (1, -1)], 4: [(4, -1), (1, -1)]}\n"
     ]
    },
    {
     "data": {
      "text/plain": [
       "<Figure size 1000x600 with 0 Axes>"
      ]
     },
     "metadata": {},
     "output_type": "display_data"
    },
    {
     "data": {
      "image/png": "[encoded data removed]",
      "text/plain": [
       "<Figure size 640x480 with 1 Axes>"
      ]
     },
     "metadata": {},
     "output_type": "display_data"
    }
   ],
   "source": [
    "from group_causation.create_toy_datasets import plot_ts_graph\n",
    "\n",
    "def plot_parents_graph(data_name):\n",
    "    with open(f'data_{data_name}/0_parents.txt') as f:\n",
    "        group_parents = eval(f.read())\n",
    "        \n",
    "    print(group_parents)\n",
    "    plt.figure(figsize=(10, 6))\n",
    "    plot_ts_graph(group_parents)\n",
    "    plt.savefig(f'results_{data_name}/parents_graph.pdf')\n",
    "\n",
    "plot_parents_graph(data_name)"
   ]
  },
  {
   "cell_type": "code",
   "execution_count": 23,
   "id": "ec368cdc",
   "metadata": {},
   "outputs": [
    {
     "name": "stdout",
     "output_type": "stream",
     "text": [
      "False positives: \\{$X^2_{t-1}\\rightarrow X^1_t$, $X^0_{t-1}\\rightarrow X^1_t$, $X^1_{t-1}\\rightarrow X^2_t$, $X^4_{t-1}\\rightarrow X^3_t$, $X^2_{t-1}\\rightarrow X^4_t$, $X^3_{t-1}\\rightarrow X^4_t$\\}\n",
      "False negatives: \\{$X^4_{t-1}\\rightarrow X^2_t$, $X^0_{t-1}\\rightarrow X^3_t$\\}\n"
     ]
    }
   ],
   "source": [
    "def show_false_positives_and_negatives(predicted_parents):\n",
    "    with open(f'data_{data_name}/0_parents.txt') as f:\n",
    "        real_parents = eval(f.read())\n",
    "    \n",
    "    false_positives = '\\{'\n",
    "    false_negatives = '\\{'\n",
    "    for group_idx, parents in predicted_parents.items():\n",
    "        for parent_idx, lag in parents:\n",
    "            if (parent_idx, -1) not in real_parents[group_idx]:\n",
    "                false_positives += f'$X^{parent_idx}'+'_{t-1}\\\\rightarrow X^'+f'{group_idx}_t$, '\n",
    "        for real_parent_idx, real_lag in real_parents[group_idx]:\n",
    "            if (real_parent_idx, real_lag) not in parents:\n",
    "                false_negatives += f'$X^{real_parent_idx}'+'_{t-1}\\\\rightarrow X^'+f'{group_idx}_t$, '\n",
    "\n",
    "    false_positives = false_positives[:-2] + '\\}'\n",
    "    false_negatives = false_negatives[:-2] + '\\}'\n",
    "    print(f'False positives: {false_positives}')\n",
    "    print(f'False negatives: {false_negatives}')\n",
    "\n",
    "\n",
    "show_false_positives_and_negatives(\n",
    "    predicted_parents=\n",
    " {0: [(4, -1), (3, -1), (1, -1), (0, -1)], 1: [(2, -1), (3, -1), (1, -1), (4, -1), (0, -1)], 2: [(2, -1), (3, -1), (1, -1)], 3: [(4, -1), (2, -1), (3, -1), (1, -1)], 4: [(4, -1), (2, -1), (3, -1), (1, -1)]}\n",
    ")"
   ]
  }
 ],
 "metadata": {
  "kernelspec": {
   "display_name": "causal-inference",
   "language": "python",
   "name": "python3"
  },
  "language_info": {
   "codemirror_mode": {
    "name": "ipython",
    "version": 3
   },
   "file_extension": ".py",
   "mimetype": "text/x-python",
   "name": "python",
   "nbconvert_exporter": "python",
   "pygments_lexer": "ipython3",
   "version": "3.9.21"
  }
 },
 "nbformat": 4,
 "nbformat_minor": 5
}
