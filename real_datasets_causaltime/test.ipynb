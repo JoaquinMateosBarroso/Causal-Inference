{
 "cells": [
  {
   "cell_type": "markdown",
   "id": "370075c8",
   "metadata": {},
   "source": [
    "## Transforming data in csv and parents format"
   ]
  },
  {
   "cell_type": "code",
   "execution_count": 1,
   "id": "ce5623a1",
   "metadata": {},
   "outputs": [
    {
     "name": "stdout",
     "output_type": "stream",
     "text": [
      "Data Name: medical\n",
      "Shape of Graph H: (20, 20)\n",
      "Shape of Time-series Data: (480, 20, 20) (Sample_num, Time_step, Node_num)\n",
      "Data Name: traffic\n",
      "Shape of Graph H: (20, 20)\n",
      "Shape of Time-series Data: (480, 20, 20) (Sample_num, Time_step, Node_num)\n",
      "Data Name: pm25\n",
      "Shape of Graph H: (36, 36)\n",
      "Shape of Time-series Data: (480, 20, 36) (Sample_num, Time_step, Node_num)\n"
     ]
    }
   ],
   "source": [
    "import os\n",
    "import numpy as np\n",
    "import sys\n",
    "import random\n",
    "random.seed(0)\n",
    "np.random.seed(0)\n",
    "\n",
    "import pandas as pd\n",
    "sys.path.append('../')\n",
    "\n",
    "data_names = ['medical', 'traffic', 'pm25']\n",
    "\n",
    "def matrix_graph_to_parents(matrix_graph: np.ndarray) -> dict[int, list[int]]:\n",
    "    \"\"\"\n",
    "    Convert a matrix graph to a dictionary representation of parents.\n",
    "\n",
    "    Args:\n",
    "        matrix_graph (np.ndarray): The adjacency matrix representing the graph.\n",
    "\n",
    "    Returns:\n",
    "        dict[int, list[int]]: A dictionary where keys are node indices and values are lists of parent node indices.\n",
    "    \"\"\"\n",
    "    parents = {}\n",
    "    for i in range(matrix_graph.shape[0]):\n",
    "        parents[i] = np.where(matrix_graph[i] == 1)[0].tolist()\n",
    "    \n",
    "    parents = {k: [(v, -1) for v in vs] for k, vs in parents.items()}\n",
    "    return parents\n",
    "\n",
    "SAMPLE_NUM = 480 # All the datasets have 480 samples\n",
    "for data_name in data_names:\n",
    "    data = np.load('./' + data_name + '/gen_data.npy')\n",
    "    data = data[:, 20:, :data.shape[2] // 2]  # Forget the residuals and for some reason first 20 values are random\n",
    "    matrix_graph = np.load('./' + data_name + '/graph.npy')\n",
    "\n",
    "    print(f\"Data Name: {data_name}\")\n",
    "    print(f'Shape of Graph H: {matrix_graph.shape}')\n",
    "    print(f'Shape of Time-series Data: {data.shape} (Sample_num, Time_step, Node_num)')\n",
    "\n",
    "    os.makedirs(f'./data_{data_name}', exist_ok=True)\n",
    "    for i in range(data.shape[0]): # Iterate over samples\n",
    "        with open(f'./data_{data_name}/{i}_node_parents.txt', 'w') as f:\n",
    "            f.write(str(matrix_graph_to_parents(matrix_graph))) # Same matrix graph for all samples\n",
    "        \n",
    "        current_data = data[i, :, :]  # Select the i-th sample\n",
    "        \n",
    "        pd.DataFrame(current_data).to_csv(f'./data_{data_name}/{i}_data.csv', index=False, header=False)\n"
   ]
  },
  {
   "cell_type": "markdown",
   "id": "87d0e3ac",
   "metadata": {},
   "source": [
    "## Find the groups we are going to use"
   ]
  },
  {
   "cell_type": "code",
   "execution_count": 2,
   "id": "788f8552",
   "metadata": {},
   "outputs": [
    {
     "name": "stdout",
     "output_type": "stream",
     "text": [
      "medical dataset obtained the groups: [{1, 2, 5, 8, 12, 13, 16, 17, 18}, {4, 9, 10, 11, 15, 19}, {3, 7}, {0, 6, 14}]\n",
      "traffic dataset obtained the groups: [{12}, {15}, {0, 1, 2, 3, 4, 5, 6, 7, 8, 9, 10, 11, 13, 14, 16, 17, 18, 19}]\n",
      "pm25 dataset obtained the groups: [{0, 3, 4, 7}, {24, 1, 28}, {32, 2, 29}, {5}, {33, 6}, {8, 16, 12}, {9}, {34, 10, 11, 14, 18}, {17, 21, 13, 25}, {15}, {19, 23}, {20}, {26, 22}, {27, 30, 31}, {35}]\n"
     ]
    }
   ],
   "source": [
    "import shutil\n",
    "import os\n",
    "\n",
    "from group_causation.groups_extraction import GeneticCausalGroupsExtractor\n",
    "\n",
    "\n",
    "datasets_groups = {k: None for k in data_names}\n",
    "def extract_and_save_groups(data_name):\n",
    "    data = pd.read_csv(f'./data_{data_name}/0_data.csv', header=None).values\n",
    "    if data.shape[1] > 30: # Since there are many variables, consider the harmonic variance\n",
    "        group_extractor = GeneticCausalGroupsExtractor(data, \n",
    "                                                    scores=['harmonic_variance_explained', 'explainability_score'], \n",
    "                                                    scores_weights=[0.1, 1.0])\n",
    "    else:\n",
    "        group_extractor = GeneticCausalGroupsExtractor(data, \n",
    "                                                    scores=['explainability_score'], \n",
    "                                                    scores_weights=[1.0])\n",
    "        \n",
    "    groups = group_extractor.extract_groups()\n",
    "    datasets_groups[data_name] = groups\n",
    "\n",
    "    print(data_name, 'dataset obtained the groups:', groups)\n",
    "    \n",
    "    with open(f'./data_{data_name}/0_groups.txt', 'w') as f:\n",
    "        f.write(str(groups))\n",
    "    \n",
    "    for i in range(1, SAMPLE_NUM):\n",
    "        shutil.copyfile(f'./data_{data_name}/0_groups.txt', f'./data_{data_name}/{i}_groups.txt')\n",
    "\n",
    "for data_name in data_names:\n",
    "    extract_and_save_groups(data_name)"
   ]
  },
  {
   "cell_type": "markdown",
   "id": "d7e12a67",
   "metadata": {},
   "source": [
    "## Convert node-level parents to group-level parents"
   ]
  },
  {
   "cell_type": "code",
   "execution_count": 3,
   "id": "982b4af3",
   "metadata": {},
   "outputs": [],
   "source": [
    "def find_index_with_element(groups, x):\n",
    "    for i, group in enumerate(groups):\n",
    "        if x in group: return i\n",
    "    return None\n",
    "\n",
    "for data_name, groups in datasets_groups.items():\n",
    "    with open(f'./data_{data_name}/0_node_parents.txt', 'r') as f:\n",
    "        node_parents = eval(f.read())\n",
    "    \n",
    "    group_parents = {}\n",
    "    for son_group_idx, son_group in enumerate(groups):\n",
    "        group_parents[son_group_idx] = []\n",
    "        for son_node in son_group:\n",
    "            for parent_node, lag in node_parents[son_node]:\n",
    "                parent_group_idx = find_index_with_element(groups, parent_node)\n",
    "                if (parent_group_idx, lag) not in group_parents[son_group_idx]:\n",
    "                    group_parents[son_group_idx].append((parent_group_idx, -1))\n",
    "                \n",
    "    with open(f'./data_{data_name}/0_parents.txt', 'w') as f:\n",
    "        f.write(str(group_parents))\n",
    "    for i in range(1, SAMPLE_NUM):\n",
    "        shutil.copyfile(f'./data_{data_name}/0_parents.txt', f'./data_{data_name}/{i}_parents.txt')"
   ]
  },
  {
   "cell_type": "code",
   "execution_count": 4,
   "id": "394c8e0e",
   "metadata": {},
   "outputs": [
    {
     "data": {
      "text/plain": [
       "7"
      ]
     },
     "execution_count": 4,
     "metadata": {},
     "output_type": "execute_result"
    }
   ],
   "source": [
    "find_index_with_element(groups, 11)"
   ]
  },
  {
   "cell_type": "markdown",
   "id": "9088e762",
   "metadata": {},
   "source": [
    "## Perform the benchmark for each of the datasets"
   ]
  },
  {
   "cell_type": "code",
   "execution_count": 7,
   "id": "9d3be1b6",
   "metadata": {},
   "outputs": [],
   "source": [
    "from matplotlib import pyplot as plt\n",
    "\n",
    "from group_causation.benchmark import BenchmarkGroupCausalDiscovery\n",
    "\n",
    "from group_causation.utils import static_parameters\n",
    "from group_causation.group_causal_discovery import DimensionReductionGroupCausalDiscovery\n",
    "from group_causation.group_causal_discovery import MicroLevelGroupCausalDiscovery\n",
    "from group_causation.group_causal_discovery import HybridGroupCausalDiscovery\n",
    "\n",
    "algorithms = {\n",
    "    # 'group-embedding': HybridGroupCausalDiscovery,\n",
    "    # 'subgroups': HybridGroupCausalDiscovery,\n",
    "    # 'pca+pcmci': DimensionReductionGroupCausalDiscovery,\n",
    "    'pca+dynotears': DimensionReductionGroupCausalDiscovery,\n",
    "    # 'micro-level': MicroLevelGroupCausalDiscovery,\n",
    "}\n",
    "algorithms_parameters = {\n",
    "    'pca+pcmci': {'dimensionality_reduction': 'pca', 'node_causal_discovery_alg': 'pcmci',\n",
    "                            'node_causal_discovery_params': {'min_lag': 1, 'max_lag': 3, 'pc_alpha': 0.05}},\n",
    "    \n",
    "    'pca+dynotears': {'dimensionality_reduction': 'pca', 'node_causal_discovery_alg': 'dynotears',\n",
    "                            'node_causal_discovery_params': {'min_lag': 1, 'max_lag': 3, 'lambda_w': 0.001, 'lambda_a': 0.001}},\n",
    "    \n",
    "    'micro-level': {'node_causal_discovery_alg': 'pcmci',\n",
    "                            'node_causal_discovery_params': {'min_lag': 1, 'max_lag': 3, 'pc_alpha': 0.05}},\n",
    "    \n",
    "    'group-embedding': {'dimensionality_reduction': 'pca', \n",
    "               'dimensionality_reduction_params': {'explained_variance_threshold': 0.7,\n",
    "                                                   'groups_division_method': 'group_embedding'},\n",
    "                'node_causal_discovery_alg': 'pcmci',\n",
    "                'node_causal_discovery_params': {'min_lag': 1, 'max_lag': 3, 'pc_alpha': 0.05},\n",
    "                'verbose': 0},\n",
    "    \n",
    "    'subgroups': {'dimensionality_reduction': 'pca', \n",
    "               'dimensionality_reduction_params': {'explained_variance_threshold': 0.7,\n",
    "                                                   'groups_division_method': 'subgroups'},\n",
    "                'node_causal_discovery_alg': 'pcmci',\n",
    "                'node_causal_discovery_params': {'min_lag': 1, 'max_lag': 3, 'pc_alpha': 0.05},\n",
    "                'verbose': 0},\n",
    "}\n",
    "\n",
    "data_generation_options = {}\n",
    "\n",
    "benchmark_options = {\n",
    "    'static_parameters': (static_parameters, {}),\n",
    "}\n",
    "\n",
    "chosen_option = 'static_parameters'\n",
    "\n",
    "\n",
    "def execute_benchmark(data_name):    \n",
    "    benchmark = BenchmarkGroupCausalDiscovery()\n",
    "    results_folder = f'results_{data_name}'\n",
    "    datasets_folder = f'data_{data_name}'\n",
    "    \n",
    "    options_generator, options_kwargs = benchmark_options[chosen_option]\n",
    "    parameters_iterator = options_generator(data_generation_options,\n",
    "                                                algorithms_parameters,\n",
    "                                                **options_kwargs)\n",
    "    results = benchmark.benchmark_causal_discovery(algorithms=algorithms,\n",
    "                                        parameters_iterator=parameters_iterator,\n",
    "                                        datasets_folder=datasets_folder,\n",
    "                                        generate_toy_data=False,\n",
    "                                        results_folder=results_folder,\n",
    "                                        n_executions=5,\n",
    "                                        verbose=1)\n",
    "    \n",
    "    return results, benchmark"
   ]
  },
  {
   "cell_type": "code",
   "execution_count": 8,
   "id": "ba2d1b3c",
   "metadata": {},
   "outputs": [
    {
     "name": "stdout",
     "output_type": "stream",
     "text": [
      "Executing benchmark of pm25\n",
      "\n",
      "--------------------------------------------------\n",
      "\u001b[34m Datasets have been loaded. \u001b[0m\n",
      "\u001b[32m Executing algorithm pca+dynotears \u001b[0m\n"
     ]
    },
    {
     "name": "stderr",
     "output_type": "stream",
     "text": [
      "  0%|          | 1/480 [00:01<08:29,  1.06s/it]"
     ]
    },
    {
     "name": "stdout",
     "output_type": "stream",
     "text": [
      "wa_est.sum()=7.702970872333293\n",
      "wa_est.sum()=0.0\n"
     ]
    },
    {
     "name": "stderr",
     "output_type": "stream",
     "text": [
      "  0%|          | 2/480 [00:12<56:24,  7.08s/it]"
     ]
    },
    {
     "name": "stdout",
     "output_type": "stream",
     "text": [
      "wa_est.sum()=30.094515126723145\n"
     ]
    },
    {
     "name": "stderr",
     "output_type": "stream",
     "text": [
      "  1%|          | 3/480 [00:13<36:26,  4.58s/it]"
     ]
    },
    {
     "name": "stdout",
     "output_type": "stream",
     "text": [
      "wa_est.sum()=10.931905064966367\n"
     ]
    },
    {
     "name": "stderr",
     "output_type": "stream",
     "text": [
      "  1%|          | 4/480 [00:15<26:49,  3.38s/it]"
     ]
    },
    {
     "name": "stdout",
     "output_type": "stream",
     "text": [
      "wa_est.sum()=11.777220612364326\n"
     ]
    },
    {
     "name": "stderr",
     "output_type": "stream",
     "text": [
      "  1%|          | 5/480 [00:16<18:54,  2.39s/it]"
     ]
    },
    {
     "name": "stdout",
     "output_type": "stream",
     "text": [
      "wa_est.sum()=6.857214251558434\n"
     ]
    },
    {
     "name": "stderr",
     "output_type": "stream",
     "text": [
      "  1%|▏         | 6/480 [00:17<15:20,  1.94s/it]"
     ]
    },
    {
     "name": "stdout",
     "output_type": "stream",
     "text": [
      "wa_est.sum()=8.121084270121905\n"
     ]
    },
    {
     "name": "stderr",
     "output_type": "stream",
     "text": [
      "  1%|▏         | 6/480 [00:19<25:49,  3.27s/it]Process MemTimer-17:\n",
      "Traceback (most recent call last):\n",
      "  File \"/home/joaquin/miniconda3/envs/causal-inference/lib/python3.9/multiprocessing/process.py\", line 315, in _bootstrap\n",
      "    self.run()\n",
      "  File \"/home/joaquin/miniconda3/envs/causal-inference/lib/python3.9/site-packages/memory_profiler.py\", line 262, in run\n",
      "    stop = self.pipe.poll(self.interval)\n",
      "  File \"/home/joaquin/miniconda3/envs/causal-inference/lib/python3.9/multiprocessing/connection.py\", line 257, in poll\n",
      "    return self._poll(timeout)\n",
      "  File \"/home/joaquin/miniconda3/envs/causal-inference/lib/python3.9/multiprocessing/connection.py\", line 424, in _poll\n",
      "    r = wait([self], timeout)\n",
      "  File \"/home/joaquin/miniconda3/envs/causal-inference/lib/python3.9/multiprocessing/connection.py\", line 931, in wait\n",
      "    ready = selector.select(timeout)\n",
      "  File \"/home/joaquin/miniconda3/envs/causal-inference/lib/python3.9/selectors.py\", line 416, in select\n",
      "    fd_event_list = self._selector.poll(timeout)\n",
      "KeyboardInterrupt\n",
      "\n"
     ]
    },
    {
     "ename": "UnboundLocalError",
     "evalue": "local variable 'time' referenced before assignment",
     "output_type": "error",
     "traceback": [
      "\u001b[0;31m---------------------------------------------------------------------------\u001b[0m",
      "\u001b[0;31mKeyboardInterrupt\u001b[0m                         Traceback (most recent call last)",
      "File \u001b[0;32m~/Documents/Asignaturas/TFG UCO/Introduction-to-Causal-Inference/src/group-causation/group_causation/benchmark.py:508\u001b[0m, in \u001b[0;36mBenchmarkGroupCausalDiscovery.test_particular_algorithm_particular_dataset\u001b[0;34m(self, causal_dataset, causalDiscovery, algorithm_parameters)\u001b[0m\n\u001b[1;32m    507\u001b[0m \u001b[38;5;28;01mtry\u001b[39;00m:\n\u001b[0;32m--> 508\u001b[0m     predicted_parents, time, memory \u001b[38;5;241m=\u001b[39m \u001b[43malgorithm\u001b[49m\u001b[38;5;241;43m.\u001b[39;49m\u001b[43mextract_parents_time_and_memory\u001b[49m\u001b[43m(\u001b[49m\u001b[43m)\u001b[49m\n\u001b[1;32m    509\u001b[0m \u001b[38;5;28;01mexcept\u001b[39;00m \u001b[38;5;167;01mException\u001b[39;00m \u001b[38;5;28;01mas\u001b[39;00m e:\n",
      "File \u001b[0;32m~/Documents/Asignaturas/TFG UCO/Introduction-to-Causal-Inference/src/group-causation/group_causation/causal_discovery_base.py:50\u001b[0m, in \u001b[0;36mCausalDiscovery.extract_parents_time_and_memory\u001b[0;34m(self)\u001b[0m\n\u001b[1;32m     49\u001b[0m tic \u001b[38;5;241m=\u001b[39m time\u001b[38;5;241m.\u001b[39mtime()\n\u001b[0;32m---> 50\u001b[0m memory, parents \u001b[38;5;241m=\u001b[39m \u001b[43mmemory_usage\u001b[49m\u001b[43m(\u001b[49m\u001b[43m \u001b[49m\u001b[38;5;28;43mself\u001b[39;49m\u001b[38;5;241;43m.\u001b[39;49m\u001b[43mextract_parents\u001b[49m\u001b[43m,\u001b[49m\u001b[43m \u001b[49m\u001b[43mretval\u001b[49m\u001b[38;5;241;43m=\u001b[39;49m\u001b[38;5;28;43;01mTrue\u001b[39;49;00m\u001b[43m,\u001b[49m\u001b[43m \u001b[49m\u001b[43minclude_children\u001b[49m\u001b[38;5;241;43m=\u001b[39;49m\u001b[38;5;28;43;01mTrue\u001b[39;49;00m\u001b[43m,\u001b[49m\u001b[43m \u001b[49m\u001b[43mmultiprocess\u001b[49m\u001b[38;5;241;43m=\u001b[39;49m\u001b[38;5;28;43;01mTrue\u001b[39;49;00m\u001b[43m)\u001b[49m\n\u001b[1;32m     51\u001b[0m toc \u001b[38;5;241m=\u001b[39m time\u001b[38;5;241m.\u001b[39mtime()\n",
      "File \u001b[0;32m~/miniconda3/envs/causal-inference/lib/python3.9/site-packages/memory_profiler.py:379\u001b[0m, in \u001b[0;36mmemory_usage\u001b[0;34m(proc, interval, timeout, timestamps, include_children, multiprocess, max_usage, retval, stream, backend, max_iterations)\u001b[0m\n\u001b[1;32m    378\u001b[0m \u001b[38;5;28;01mtry\u001b[39;00m:\n\u001b[0;32m--> 379\u001b[0m     returned \u001b[38;5;241m=\u001b[39m \u001b[43mf\u001b[49m\u001b[43m(\u001b[49m\u001b[38;5;241;43m*\u001b[39;49m\u001b[43margs\u001b[49m\u001b[43m,\u001b[49m\u001b[43m \u001b[49m\u001b[38;5;241;43m*\u001b[39;49m\u001b[38;5;241;43m*\u001b[39;49m\u001b[43mkw\u001b[49m\u001b[43m)\u001b[49m\n\u001b[1;32m    380\u001b[0m     parent_conn\u001b[38;5;241m.\u001b[39msend(\u001b[38;5;241m0\u001b[39m)  \u001b[38;5;66;03m# finish timing\u001b[39;00m\n",
      "File \u001b[0;32m~/Documents/Asignaturas/TFG UCO/Introduction-to-Causal-Inference/src/group-causation/group_causation/group_causal_discovery/dimension_reduction.py:79\u001b[0m, in \u001b[0;36mDimensionReductionGroupCausalDiscovery.extract_parents\u001b[0;34m(self)\u001b[0m\n\u001b[1;32m     77\u001b[0m \u001b[38;5;28mself\u001b[39m\u001b[38;5;241m.\u001b[39mcausal_discovery_alg \u001b[38;5;241m=\u001b[39m \u001b[38;5;28mself\u001b[39m\u001b[38;5;241m.\u001b[39m_getCausalDiscoveryAlgorithm()\n\u001b[0;32m---> 79\u001b[0m group_parents \u001b[38;5;241m=\u001b[39m \u001b[38;5;28;43mself\u001b[39;49m\u001b[38;5;241;43m.\u001b[39;49m\u001b[43mcausal_discovery_alg\u001b[49m\u001b[38;5;241;43m.\u001b[39;49m\u001b[43mextract_parents\u001b[49m\u001b[43m(\u001b[49m\u001b[43m)\u001b[49m\n\u001b[1;32m     81\u001b[0m \u001b[38;5;28;01mreturn\u001b[39;00m group_parents\n",
      "File \u001b[0;32m~/Documents/Asignaturas/TFG UCO/Introduction-to-Causal-Inference/src/group-causation/group_causation/micro_causal_discovery/causal_discovery_causalnex.py:30\u001b[0m, in \u001b[0;36mDynotearsWrapper.extract_parents\u001b[0;34m(self)\u001b[0m\n\u001b[1;32m     24\u001b[0m \u001b[38;5;250m\u001b[39m\u001b[38;5;124;03m'''\u001b[39;00m\n\u001b[1;32m     25\u001b[0m \u001b[38;5;124;03mReturns the parents dict\u001b[39;00m\n\u001b[1;32m     26\u001b[0m \u001b[38;5;124;03m\u001b[39;00m\n\u001b[1;32m     27\u001b[0m \u001b[38;5;124;03mArgs:\u001b[39;00m\n\u001b[1;32m     28\u001b[0m \u001b[38;5;124;03m    data : np.array with the data, shape (n_samples, n_features)\u001b[39;00m\n\u001b[1;32m     29\u001b[0m \u001b[38;5;124;03m'''\u001b[39;00m\n\u001b[0;32m---> 30\u001b[0m predicted_parents \u001b[38;5;241m=\u001b[39m \u001b[43mfrom_pandas_dynamic\u001b[49m\u001b[43m(\u001b[49m\u001b[43mtime_series\u001b[49m\u001b[38;5;241;43m=\u001b[39;49m\u001b[38;5;28;43mself\u001b[39;49m\u001b[38;5;241;43m.\u001b[39;49m\u001b[43mdf\u001b[49m\u001b[43m,\u001b[49m\n\u001b[1;32m     31\u001b[0m \u001b[43m                                                \u001b[49m\u001b[43mp\u001b[49m\u001b[38;5;241;43m=\u001b[39;49m\u001b[38;5;28;43mself\u001b[39;49m\u001b[38;5;241;43m.\u001b[39;49m\u001b[43mmax_lag\u001b[49m\u001b[43m,\u001b[49m\n\u001b[1;32m     32\u001b[0m \u001b[43m                                                \u001b[49m\u001b[38;5;241;43m*\u001b[39;49m\u001b[38;5;241;43m*\u001b[39;49m\u001b[38;5;28;43mself\u001b[39;49m\u001b[38;5;241;43m.\u001b[39;49m\u001b[43mkwargs\u001b[49m\u001b[43m)\u001b[49m\n\u001b[1;32m     34\u001b[0m \u001b[38;5;28;01mif\u001b[39;00m \u001b[38;5;28mself\u001b[39m\u001b[38;5;241m.\u001b[39mmin_lag \u001b[38;5;241m>\u001b[39m \u001b[38;5;241m0\u001b[39m:\n",
      "File \u001b[0;32m~/Documents/Asignaturas/TFG UCO/Introduction-to-Causal-Inference/src/group-causation/group_causation/micro_causal_discovery/causal_discovery_causalnex.py:133\u001b[0m, in \u001b[0;36mfrom_pandas_dynamic\u001b[0;34m(time_series, p, lambda_w, lambda_a, max_iter, h_tol, w_threshold, tabu_edges, tabu_parent_nodes, tabu_child_nodes)\u001b[0m\n\u001b[1;32m    131\u001b[0m     tabu_child_nodes \u001b[38;5;241m=\u001b[39m [col_idx[n] \u001b[38;5;28;01mfor\u001b[39;00m n \u001b[38;5;129;01min\u001b[39;00m tabu_child_nodes]\n\u001b[0;32m--> 133\u001b[0m g \u001b[38;5;241m=\u001b[39m \u001b[43mfrom_numpy_dynamic\u001b[49m\u001b[43m(\u001b[49m\n\u001b[1;32m    134\u001b[0m \u001b[43m    \u001b[49m\u001b[43mX\u001b[49m\u001b[43m,\u001b[49m\n\u001b[1;32m    135\u001b[0m \u001b[43m    \u001b[49m\u001b[43mXlags\u001b[49m\u001b[43m,\u001b[49m\n\u001b[1;32m    136\u001b[0m \u001b[43m    \u001b[49m\u001b[43mlambda_w\u001b[49m\u001b[43m,\u001b[49m\n\u001b[1;32m    137\u001b[0m \u001b[43m    \u001b[49m\u001b[43mlambda_a\u001b[49m\u001b[43m,\u001b[49m\n\u001b[1;32m    138\u001b[0m \u001b[43m    \u001b[49m\u001b[43mmax_iter\u001b[49m\u001b[43m,\u001b[49m\n\u001b[1;32m    139\u001b[0m \u001b[43m    \u001b[49m\u001b[43mh_tol\u001b[49m\u001b[43m,\u001b[49m\n\u001b[1;32m    140\u001b[0m \u001b[43m    \u001b[49m\u001b[43mw_threshold\u001b[49m\u001b[43m,\u001b[49m\n\u001b[1;32m    141\u001b[0m \u001b[43m    \u001b[49m\u001b[43mtabu_edges\u001b[49m\u001b[43m,\u001b[49m\n\u001b[1;32m    142\u001b[0m \u001b[43m    \u001b[49m\u001b[43mtabu_parent_nodes\u001b[49m\u001b[43m,\u001b[49m\n\u001b[1;32m    143\u001b[0m \u001b[43m    \u001b[49m\u001b[43mtabu_child_nodes\u001b[49m\u001b[43m,\u001b[49m\n\u001b[1;32m    144\u001b[0m \u001b[43m\u001b[49m\u001b[43m)\u001b[49m\n\u001b[1;32m    145\u001b[0m \u001b[38;5;28;01mreturn\u001b[39;00m g\n",
      "File \u001b[0;32m~/Documents/Asignaturas/TFG UCO/Introduction-to-Causal-Inference/src/group-causation/group_causation/micro_causal_discovery/causal_discovery_causalnex.py:236\u001b[0m, in \u001b[0;36mfrom_numpy_dynamic\u001b[0;34m(X, Xlags, lambda_w, lambda_a, max_iter, h_tol, w_threshold, tabu_edges, tabu_parent_nodes, tabu_child_nodes)\u001b[0m\n\u001b[1;32m    235\u001b[0m bnds \u001b[38;5;241m=\u001b[39m bnds_w \u001b[38;5;241m+\u001b[39m bnds_a\n\u001b[0;32m--> 236\u001b[0m w_est, a_est \u001b[38;5;241m=\u001b[39m \u001b[43m_learn_dynamic_structure\u001b[49m\u001b[43m(\u001b[49m\n\u001b[1;32m    237\u001b[0m \u001b[43m    \u001b[49m\u001b[43mX\u001b[49m\u001b[43m,\u001b[49m\u001b[43m \u001b[49m\u001b[43mXlags\u001b[49m\u001b[43m,\u001b[49m\u001b[43m \u001b[49m\u001b[43mbnds\u001b[49m\u001b[43m,\u001b[49m\u001b[43m \u001b[49m\u001b[43mlambda_w\u001b[49m\u001b[43m,\u001b[49m\u001b[43m \u001b[49m\u001b[43mlambda_a\u001b[49m\u001b[43m,\u001b[49m\u001b[43m \u001b[49m\u001b[43mmax_iter\u001b[49m\u001b[43m,\u001b[49m\u001b[43m \u001b[49m\u001b[43mh_tol\u001b[49m\n\u001b[1;32m    238\u001b[0m \u001b[43m\u001b[49m\u001b[43m)\u001b[49m\n\u001b[1;32m    240\u001b[0m w_est[np\u001b[38;5;241m.\u001b[39mabs(w_est) \u001b[38;5;241m<\u001b[39m w_threshold] \u001b[38;5;241m=\u001b[39m \u001b[38;5;241m0\u001b[39m\n",
      "File \u001b[0;32m~/Documents/Asignaturas/TFG UCO/Introduction-to-Causal-Inference/src/group-causation/group_causation/micro_causal_discovery/causal_discovery_causalnex.py:457\u001b[0m, in \u001b[0;36m_learn_dynamic_structure\u001b[0;34m(X, Xlags, bnds, lambda_w, lambda_a, max_iter, h_tol)\u001b[0m\n\u001b[1;32m    456\u001b[0m \u001b[38;5;28;01mwhile\u001b[39;00m (rho \u001b[38;5;241m<\u001b[39m \u001b[38;5;241m1e20\u001b[39m) \u001b[38;5;129;01mand\u001b[39;00m (h_new \u001b[38;5;241m>\u001b[39m \u001b[38;5;241m0.25\u001b[39m \u001b[38;5;241m*\u001b[39m h_value \u001b[38;5;129;01mor\u001b[39;00m h_new \u001b[38;5;241m==\u001b[39m np\u001b[38;5;241m.\u001b[39minf):\n\u001b[0;32m--> 457\u001b[0m     wa_new \u001b[38;5;241m=\u001b[39m sopt\u001b[38;5;241m.\u001b[39mminimize(\n\u001b[1;32m    458\u001b[0m         _func, wa_est, method\u001b[38;5;241m=\u001b[39m\u001b[38;5;124m\"\u001b[39m\u001b[38;5;124mL-BFGS-B\u001b[39m\u001b[38;5;124m\"\u001b[39m, jac\u001b[38;5;241m=\u001b[39m_grad, bounds\u001b[38;5;241m=\u001b[39mbnds\n\u001b[1;32m    459\u001b[0m     )\u001b[38;5;241m.\u001b[39mx\n\u001b[1;32m    460\u001b[0m     h_new \u001b[38;5;241m=\u001b[39m _h(wa_new)\n",
      "File \u001b[0;32m~/miniconda3/envs/causal-inference/lib/python3.9/site-packages/scipy/optimize/_minimize.py:710\u001b[0m, in \u001b[0;36mminimize\u001b[0;34m(fun, x0, args, method, jac, hess, hessp, bounds, constraints, tol, callback, options)\u001b[0m\n\u001b[1;32m    709\u001b[0m \u001b[38;5;28;01melif\u001b[39;00m meth \u001b[38;5;241m==\u001b[39m \u001b[38;5;124m'\u001b[39m\u001b[38;5;124ml-bfgs-b\u001b[39m\u001b[38;5;124m'\u001b[39m:\n\u001b[0;32m--> 710\u001b[0m     res \u001b[38;5;241m=\u001b[39m \u001b[43m_minimize_lbfgsb\u001b[49m\u001b[43m(\u001b[49m\u001b[43mfun\u001b[49m\u001b[43m,\u001b[49m\u001b[43m \u001b[49m\u001b[43mx0\u001b[49m\u001b[43m,\u001b[49m\u001b[43m \u001b[49m\u001b[43margs\u001b[49m\u001b[43m,\u001b[49m\u001b[43m \u001b[49m\u001b[43mjac\u001b[49m\u001b[43m,\u001b[49m\u001b[43m \u001b[49m\u001b[43mbounds\u001b[49m\u001b[43m,\u001b[49m\n\u001b[1;32m    711\u001b[0m \u001b[43m                           \u001b[49m\u001b[43mcallback\u001b[49m\u001b[38;5;241;43m=\u001b[39;49m\u001b[43mcallback\u001b[49m\u001b[43m,\u001b[49m\u001b[43m \u001b[49m\u001b[38;5;241;43m*\u001b[39;49m\u001b[38;5;241;43m*\u001b[39;49m\u001b[43moptions\u001b[49m\u001b[43m)\u001b[49m\n\u001b[1;32m    712\u001b[0m \u001b[38;5;28;01melif\u001b[39;00m meth \u001b[38;5;241m==\u001b[39m \u001b[38;5;124m'\u001b[39m\u001b[38;5;124mtnc\u001b[39m\u001b[38;5;124m'\u001b[39m:\n",
      "File \u001b[0;32m~/miniconda3/envs/causal-inference/lib/python3.9/site-packages/scipy/optimize/_lbfgsb_py.py:307\u001b[0m, in \u001b[0;36m_minimize_lbfgsb\u001b[0;34m(fun, x0, args, jac, bounds, disp, maxcor, ftol, gtol, eps, maxfun, maxiter, iprint, callback, maxls, finite_diff_rel_step, **unknown_options)\u001b[0m\n\u001b[1;32m    305\u001b[0m         iprint \u001b[38;5;241m=\u001b[39m disp\n\u001b[0;32m--> 307\u001b[0m sf \u001b[38;5;241m=\u001b[39m \u001b[43m_prepare_scalar_function\u001b[49m\u001b[43m(\u001b[49m\u001b[43mfun\u001b[49m\u001b[43m,\u001b[49m\u001b[43m \u001b[49m\u001b[43mx0\u001b[49m\u001b[43m,\u001b[49m\u001b[43m \u001b[49m\u001b[43mjac\u001b[49m\u001b[38;5;241;43m=\u001b[39;49m\u001b[43mjac\u001b[49m\u001b[43m,\u001b[49m\u001b[43m \u001b[49m\u001b[43margs\u001b[49m\u001b[38;5;241;43m=\u001b[39;49m\u001b[43margs\u001b[49m\u001b[43m,\u001b[49m\u001b[43m \u001b[49m\u001b[43mepsilon\u001b[49m\u001b[38;5;241;43m=\u001b[39;49m\u001b[43meps\u001b[49m\u001b[43m,\u001b[49m\n\u001b[1;32m    308\u001b[0m \u001b[43m                              \u001b[49m\u001b[43mbounds\u001b[49m\u001b[38;5;241;43m=\u001b[39;49m\u001b[43mnew_bounds\u001b[49m\u001b[43m,\u001b[49m\n\u001b[1;32m    309\u001b[0m \u001b[43m                              \u001b[49m\u001b[43mfinite_diff_rel_step\u001b[49m\u001b[38;5;241;43m=\u001b[39;49m\u001b[43mfinite_diff_rel_step\u001b[49m\u001b[43m)\u001b[49m\n\u001b[1;32m    311\u001b[0m func_and_grad \u001b[38;5;241m=\u001b[39m sf\u001b[38;5;241m.\u001b[39mfun_and_grad\n",
      "File \u001b[0;32m~/miniconda3/envs/causal-inference/lib/python3.9/site-packages/scipy/optimize/_optimize.py:383\u001b[0m, in \u001b[0;36m_prepare_scalar_function\u001b[0;34m(fun, x0, jac, args, bounds, epsilon, finite_diff_rel_step, hess)\u001b[0m\n\u001b[1;32m    381\u001b[0m \u001b[38;5;66;03m# ScalarFunction caches. Reuse of fun(x) during grad\u001b[39;00m\n\u001b[1;32m    382\u001b[0m \u001b[38;5;66;03m# calculation reduces overall function evaluations.\u001b[39;00m\n\u001b[0;32m--> 383\u001b[0m sf \u001b[38;5;241m=\u001b[39m \u001b[43mScalarFunction\u001b[49m\u001b[43m(\u001b[49m\u001b[43mfun\u001b[49m\u001b[43m,\u001b[49m\u001b[43m \u001b[49m\u001b[43mx0\u001b[49m\u001b[43m,\u001b[49m\u001b[43m \u001b[49m\u001b[43margs\u001b[49m\u001b[43m,\u001b[49m\u001b[43m \u001b[49m\u001b[43mgrad\u001b[49m\u001b[43m,\u001b[49m\u001b[43m \u001b[49m\u001b[43mhess\u001b[49m\u001b[43m,\u001b[49m\n\u001b[1;32m    384\u001b[0m \u001b[43m                    \u001b[49m\u001b[43mfinite_diff_rel_step\u001b[49m\u001b[43m,\u001b[49m\u001b[43m \u001b[49m\u001b[43mbounds\u001b[49m\u001b[43m,\u001b[49m\u001b[43m \u001b[49m\u001b[43mepsilon\u001b[49m\u001b[38;5;241;43m=\u001b[39;49m\u001b[43mepsilon\u001b[49m\u001b[43m)\u001b[49m\n\u001b[1;32m    386\u001b[0m \u001b[38;5;28;01mreturn\u001b[39;00m sf\n",
      "File \u001b[0;32m~/miniconda3/envs/causal-inference/lib/python3.9/site-packages/scipy/optimize/_differentiable_functions.py:177\u001b[0m, in \u001b[0;36mScalarFunction.__init__\u001b[0;34m(self, fun, x0, args, grad, hess, finite_diff_rel_step, finite_diff_bounds, epsilon)\u001b[0m\n\u001b[1;32m    176\u001b[0m \u001b[38;5;28mself\u001b[39m\u001b[38;5;241m.\u001b[39m_update_grad_impl \u001b[38;5;241m=\u001b[39m update_grad\n\u001b[0;32m--> 177\u001b[0m \u001b[38;5;28;43mself\u001b[39;49m\u001b[38;5;241;43m.\u001b[39;49m\u001b[43m_update_grad\u001b[49m\u001b[43m(\u001b[49m\u001b[43m)\u001b[49m\n\u001b[1;32m    179\u001b[0m \u001b[38;5;66;03m# Hessian Evaluation\u001b[39;00m\n",
      "File \u001b[0;32m~/miniconda3/envs/causal-inference/lib/python3.9/site-packages/scipy/optimize/_differentiable_functions.py:256\u001b[0m, in \u001b[0;36mScalarFunction._update_grad\u001b[0;34m(self)\u001b[0m\n\u001b[1;32m    255\u001b[0m \u001b[38;5;28;01mif\u001b[39;00m \u001b[38;5;129;01mnot\u001b[39;00m \u001b[38;5;28mself\u001b[39m\u001b[38;5;241m.\u001b[39mg_updated:\n\u001b[0;32m--> 256\u001b[0m     \u001b[38;5;28;43mself\u001b[39;49m\u001b[38;5;241;43m.\u001b[39;49m\u001b[43m_update_grad_impl\u001b[49m\u001b[43m(\u001b[49m\u001b[43m)\u001b[49m\n\u001b[1;32m    257\u001b[0m     \u001b[38;5;28mself\u001b[39m\u001b[38;5;241m.\u001b[39mg_updated \u001b[38;5;241m=\u001b[39m \u001b[38;5;28;01mTrue\u001b[39;00m\n",
      "File \u001b[0;32m~/miniconda3/envs/causal-inference/lib/python3.9/site-packages/scipy/optimize/_differentiable_functions.py:167\u001b[0m, in \u001b[0;36mScalarFunction.__init__.<locals>.update_grad\u001b[0;34m()\u001b[0m\n\u001b[1;32m    166\u001b[0m \u001b[38;5;28;01mdef\u001b[39;00m\u001b[38;5;250m \u001b[39m\u001b[38;5;21mupdate_grad\u001b[39m():\n\u001b[0;32m--> 167\u001b[0m     \u001b[38;5;28mself\u001b[39m\u001b[38;5;241m.\u001b[39mg \u001b[38;5;241m=\u001b[39m \u001b[43mgrad_wrapped\u001b[49m\u001b[43m(\u001b[49m\u001b[38;5;28;43mself\u001b[39;49m\u001b[38;5;241;43m.\u001b[39;49m\u001b[43mx\u001b[49m\u001b[43m)\u001b[49m\n",
      "File \u001b[0;32m~/miniconda3/envs/causal-inference/lib/python3.9/site-packages/scipy/optimize/_differentiable_functions.py:164\u001b[0m, in \u001b[0;36mScalarFunction.__init__.<locals>.grad_wrapped\u001b[0;34m(x)\u001b[0m\n\u001b[1;32m    163\u001b[0m \u001b[38;5;28mself\u001b[39m\u001b[38;5;241m.\u001b[39mngev \u001b[38;5;241m+\u001b[39m\u001b[38;5;241m=\u001b[39m \u001b[38;5;241m1\u001b[39m\n\u001b[0;32m--> 164\u001b[0m \u001b[38;5;28;01mreturn\u001b[39;00m np\u001b[38;5;241m.\u001b[39matleast_1d(\u001b[43mgrad\u001b[49m\u001b[43m(\u001b[49m\u001b[43mnp\u001b[49m\u001b[38;5;241;43m.\u001b[39;49m\u001b[43mcopy\u001b[49m\u001b[43m(\u001b[49m\u001b[43mx\u001b[49m\u001b[43m)\u001b[49m\u001b[43m,\u001b[49m\u001b[43m \u001b[49m\u001b[38;5;241;43m*\u001b[39;49m\u001b[43margs\u001b[49m\u001b[43m)\u001b[49m)\n",
      "File \u001b[0;32m~/Documents/Asignaturas/TFG UCO/Introduction-to-Causal-Inference/src/group-causation/group_causation/micro_causal_discovery/causal_discovery_causalnex.py:425\u001b[0m, in \u001b[0;36m_learn_dynamic_structure.<locals>._grad\u001b[0;34m(wa_vec)\u001b[0m\n\u001b[1;32m    424\u001b[0m _w_mat, _a_mat \u001b[38;5;241m=\u001b[39m _reshape_wa(wa_vec, d_vars, p_orders)\n\u001b[0;32m--> 425\u001b[0m e_mat \u001b[38;5;241m=\u001b[39m \u001b[43mslin\u001b[49m\u001b[38;5;241;43m.\u001b[39;49m\u001b[43mexpm\u001b[49m\u001b[43m(\u001b[49m\u001b[43m_w_mat\u001b[49m\u001b[43m \u001b[49m\u001b[38;5;241;43m*\u001b[39;49m\u001b[43m \u001b[49m\u001b[43m_w_mat\u001b[49m\u001b[43m)\u001b[49m\n\u001b[1;32m    426\u001b[0m loss_grad_w \u001b[38;5;241m=\u001b[39m (\n\u001b[1;32m    427\u001b[0m     \u001b[38;5;241m-\u001b[39m\u001b[38;5;241m1.0\u001b[39m\n\u001b[1;32m    428\u001b[0m     \u001b[38;5;241m/\u001b[39m n\n\u001b[1;32m    429\u001b[0m     \u001b[38;5;241m*\u001b[39m (X\u001b[38;5;241m.\u001b[39mT\u001b[38;5;241m.\u001b[39mdot(X\u001b[38;5;241m.\u001b[39mdot(np\u001b[38;5;241m.\u001b[39meye(d_vars, d_vars) \u001b[38;5;241m-\u001b[39m _w_mat) \u001b[38;5;241m-\u001b[39m Xlags\u001b[38;5;241m.\u001b[39mdot(_a_mat)))\n\u001b[1;32m    430\u001b[0m )\n",
      "File \u001b[0;32m~/miniconda3/envs/causal-inference/lib/python3.9/site-packages/scipy/linalg/_matfuncs.py:350\u001b[0m, in \u001b[0;36mexpm\u001b[0;34m(A)\u001b[0m\n\u001b[1;32m    348\u001b[0m     Am[:\u001b[38;5;241m4\u001b[39m] \u001b[38;5;241m*\u001b[39m\u001b[38;5;241m=\u001b[39m [[[\u001b[38;5;241m2\u001b[39m\u001b[38;5;241m*\u001b[39m\u001b[38;5;241m*\u001b[39m(\u001b[38;5;241m-\u001b[39ms)]], [[\u001b[38;5;241m4\u001b[39m\u001b[38;5;241m*\u001b[39m\u001b[38;5;241m*\u001b[39m(\u001b[38;5;241m-\u001b[39ms)]], [[\u001b[38;5;241m16\u001b[39m\u001b[38;5;241m*\u001b[39m\u001b[38;5;241m*\u001b[39m(\u001b[38;5;241m-\u001b[39ms)]], [[\u001b[38;5;241m64\u001b[39m\u001b[38;5;241m*\u001b[39m\u001b[38;5;241m*\u001b[39m(\u001b[38;5;241m-\u001b[39ms)]]]\n\u001b[0;32m--> 350\u001b[0m \u001b[43mpade_UV_calc\u001b[49m\u001b[43m(\u001b[49m\u001b[43mAm\u001b[49m\u001b[43m,\u001b[49m\u001b[43m \u001b[49m\u001b[43mn\u001b[49m\u001b[43m,\u001b[49m\u001b[43m \u001b[49m\u001b[43mm\u001b[49m\u001b[43m)\u001b[49m\n\u001b[1;32m    351\u001b[0m eAw \u001b[38;5;241m=\u001b[39m Am[\u001b[38;5;241m0\u001b[39m]\n",
      "\u001b[0;31mKeyboardInterrupt\u001b[0m: ",
      "\nDuring handling of the above exception, another exception occurred:\n",
      "\u001b[0;31mUnboundLocalError\u001b[0m                         Traceback (most recent call last)",
      "Cell \u001b[0;32mIn[8], line 10\u001b[0m\n\u001b[1;32m      8\u001b[0m \u001b[38;5;28;01mfor\u001b[39;00m data_name \u001b[38;5;129;01min\u001b[39;00m (data_names\u001b[38;5;241m:=\u001b[39m[\u001b[38;5;124m'\u001b[39m\u001b[38;5;124mpm25\u001b[39m\u001b[38;5;124m'\u001b[39m, \u001b[38;5;124m'\u001b[39m\u001b[38;5;124mmedical\u001b[39m\u001b[38;5;124m'\u001b[39m, \u001b[38;5;124m'\u001b[39m\u001b[38;5;124mtraffic\u001b[39m\u001b[38;5;124m'\u001b[39m]):\n\u001b[1;32m      9\u001b[0m     \u001b[38;5;28mprint\u001b[39m(\u001b[38;5;124m'\u001b[39m\u001b[38;5;124mExecuting benchmark of\u001b[39m\u001b[38;5;124m'\u001b[39m, data_name)\n\u001b[0;32m---> 10\u001b[0m     results, benchmark \u001b[38;5;241m=\u001b[39m \u001b[43mexecute_benchmark\u001b[49m\u001b[43m(\u001b[49m\u001b[43mdata_name\u001b[49m\u001b[43m)\u001b[49m\n\u001b[1;32m     12\u001b[0m \u001b[38;5;66;03m# Plot graphs\u001b[39;00m\n\u001b[1;32m     13\u001b[0m \u001b[38;5;66;03m# for data_name in (data_names:=['pm25', 'medical', 'traffic']):\u001b[39;00m\n\u001b[1;32m     14\u001b[0m \u001b[38;5;66;03m#     results_folder = f'results_{data_name}'\u001b[39;00m\n\u001b[0;32m   (...)\u001b[0m\n\u001b[1;32m     18\u001b[0m \u001b[38;5;66;03m#                                                     ['shd', 'f1', 'precision', 'recall']],\u001b[39;00m\n\u001b[1;32m     19\u001b[0m \u001b[38;5;66;03m#                                     dataset_iteration_to_plot=0)\u001b[39;00m\n",
      "Cell \u001b[0;32mIn[7], line 60\u001b[0m, in \u001b[0;36mexecute_benchmark\u001b[0;34m(data_name)\u001b[0m\n\u001b[1;32m     56\u001b[0m options_generator, options_kwargs \u001b[38;5;241m=\u001b[39m benchmark_options[chosen_option]\n\u001b[1;32m     57\u001b[0m parameters_iterator \u001b[38;5;241m=\u001b[39m options_generator(data_generation_options,\n\u001b[1;32m     58\u001b[0m                                             algorithms_parameters,\n\u001b[1;32m     59\u001b[0m                                             \u001b[38;5;241m*\u001b[39m\u001b[38;5;241m*\u001b[39moptions_kwargs)\n\u001b[0;32m---> 60\u001b[0m results \u001b[38;5;241m=\u001b[39m \u001b[43mbenchmark\u001b[49m\u001b[38;5;241;43m.\u001b[39;49m\u001b[43mbenchmark_causal_discovery\u001b[49m\u001b[43m(\u001b[49m\u001b[43malgorithms\u001b[49m\u001b[38;5;241;43m=\u001b[39;49m\u001b[43malgorithms\u001b[49m\u001b[43m,\u001b[49m\n\u001b[1;32m     61\u001b[0m \u001b[43m                                    \u001b[49m\u001b[43mparameters_iterator\u001b[49m\u001b[38;5;241;43m=\u001b[39;49m\u001b[43mparameters_iterator\u001b[49m\u001b[43m,\u001b[49m\n\u001b[1;32m     62\u001b[0m \u001b[43m                                    \u001b[49m\u001b[43mdatasets_folder\u001b[49m\u001b[38;5;241;43m=\u001b[39;49m\u001b[43mdatasets_folder\u001b[49m\u001b[43m,\u001b[49m\n\u001b[1;32m     63\u001b[0m \u001b[43m                                    \u001b[49m\u001b[43mgenerate_toy_data\u001b[49m\u001b[38;5;241;43m=\u001b[39;49m\u001b[38;5;28;43;01mFalse\u001b[39;49;00m\u001b[43m,\u001b[49m\n\u001b[1;32m     64\u001b[0m \u001b[43m                                    \u001b[49m\u001b[43mresults_folder\u001b[49m\u001b[38;5;241;43m=\u001b[39;49m\u001b[43mresults_folder\u001b[49m\u001b[43m,\u001b[49m\n\u001b[1;32m     65\u001b[0m \u001b[43m                                    \u001b[49m\u001b[43mn_executions\u001b[49m\u001b[38;5;241;43m=\u001b[39;49m\u001b[38;5;241;43m5\u001b[39;49m\u001b[43m,\u001b[49m\n\u001b[1;32m     66\u001b[0m \u001b[43m                                    \u001b[49m\u001b[43mverbose\u001b[49m\u001b[38;5;241;43m=\u001b[39;49m\u001b[38;5;241;43m1\u001b[39;49m\u001b[43m)\u001b[49m\n\u001b[1;32m     68\u001b[0m \u001b[38;5;28;01mreturn\u001b[39;00m results, benchmark\n",
      "File \u001b[0;32m~/Documents/Asignaturas/TFG UCO/Introduction-to-Causal-Inference/src/group-causation/group_causation/benchmark.py:115\u001b[0m, in \u001b[0;36mBenchmarkBase.benchmark_causal_discovery\u001b[0;34m(self, algorithms, parameters_iterator, generate_toy_data, datasets_folder, results_folder, n_executions, verbose)\u001b[0m\n\u001b[1;32m    113\u001b[0m     \u001b[38;5;28mself\u001b[39m\u001b[38;5;241m.\u001b[39mbenchmark_with_toy_data(algorithms, parameters_iterator, n_executions, datasets_folder)\n\u001b[1;32m    114\u001b[0m \u001b[38;5;28;01melse\u001b[39;00m:\n\u001b[0;32m--> 115\u001b[0m     \u001b[38;5;28;43mself\u001b[39;49m\u001b[38;5;241;43m.\u001b[39;49m\u001b[43mbenchmark_with_given_data\u001b[49m\u001b[43m(\u001b[49m\u001b[43malgorithms\u001b[49m\u001b[43m,\u001b[49m\u001b[43m \u001b[49m\u001b[43mparameters_iterator\u001b[49m\u001b[43m,\u001b[49m\u001b[43m \u001b[49m\u001b[43mn_executions\u001b[49m\u001b[43m,\u001b[49m\u001b[43m \u001b[49m\u001b[43mdatasets_folder\u001b[49m\u001b[43m)\u001b[49m\n\u001b[1;32m    117\u001b[0m \u001b[38;5;28;01mreturn\u001b[39;00m \u001b[38;5;28mself\u001b[39m\u001b[38;5;241m.\u001b[39mresults\n",
      "File \u001b[0;32m~/Documents/Asignaturas/TFG UCO/Introduction-to-Causal-Inference/src/group-causation/group_causation/benchmark.py:195\u001b[0m, in \u001b[0;36mBenchmarkBase.benchmark_with_given_data\u001b[0;34m(self, algorithms, parameters_iterator, n_executions_per_data_param, datasets_folder)\u001b[0m\n\u001b[1;32m    192\u001b[0m     \u001b[38;5;28mprint\u001b[39m(BLUE, \u001b[38;5;124m'\u001b[39m\u001b[38;5;124mDatasets have been loaded.\u001b[39m\u001b[38;5;124m'\u001b[39m, RESET)\n\u001b[1;32m    194\u001b[0m \u001b[38;5;66;03m# Generate and save results of all algorithms with given datasets\u001b[39;00m\n\u001b[0;32m--> 195\u001b[0m current_results \u001b[38;5;241m=\u001b[39m \u001b[38;5;28;43mself\u001b[39;49m\u001b[38;5;241;43m.\u001b[39;49m\u001b[43mtest_algorithms\u001b[49m\u001b[43m(\u001b[49m\u001b[43mcausal_datasets\u001b[49m\u001b[43m,\u001b[49m\u001b[43m \u001b[49m\u001b[43malgorithms\u001b[49m\u001b[43m,\u001b[49m\n\u001b[1;32m    196\u001b[0m \u001b[43m                                        \u001b[49m\u001b[43mcurrent_algorithms_parameters\u001b[49m\u001b[43m)\u001b[49m\n\u001b[1;32m    197\u001b[0m \u001b[38;5;28mprint\u001b[39m(\u001b[38;5;124mf\u001b[39m\u001b[38;5;124m'\u001b[39m\u001b[38;5;132;01m{\u001b[39;00mcurrent_results\u001b[38;5;132;01m=}\u001b[39;00m\u001b[38;5;124m'\u001b[39m)\n\u001b[1;32m    198\u001b[0m \u001b[38;5;28;01mfor\u001b[39;00m name, algorithm_results \u001b[38;5;129;01min\u001b[39;00m current_results\u001b[38;5;241m.\u001b[39mitems():\n",
      "File \u001b[0;32m~/Documents/Asignaturas/TFG UCO/Introduction-to-Causal-Inference/src/group-causation/group_causation/benchmark.py:223\u001b[0m, in \u001b[0;36mBenchmarkBase.test_algorithms\u001b[0;34m(self, causal_datasets, algorithms, algorithms_parameters)\u001b[0m\n\u001b[1;32m    221\u001b[0m result \u001b[38;5;241m=\u001b[39m \u001b[38;5;28mdict\u001b[39m() \u001b[38;5;66;03m# keys are score names and values are the score values\u001b[39;00m\n\u001b[1;32m    222\u001b[0m \u001b[38;5;28;01mfor\u001b[39;00m name, algorithm \u001b[38;5;129;01min\u001b[39;00m algorithms\u001b[38;5;241m.\u001b[39mitems():\n\u001b[0;32m--> 223\u001b[0m     algorithm_results \u001b[38;5;241m=\u001b[39m \u001b[38;5;28;43mself\u001b[39;49m\u001b[38;5;241;43m.\u001b[39;49m\u001b[43mtest_particular_algorithm\u001b[49m\u001b[43m(\u001b[49m\u001b[43malgorithm_name\u001b[49m\u001b[38;5;241;43m=\u001b[39;49m\u001b[43mname\u001b[49m\u001b[43m,\u001b[49m\n\u001b[1;32m    224\u001b[0m \u001b[43m                            \u001b[49m\u001b[43mcausal_datasets\u001b[49m\u001b[38;5;241;43m=\u001b[39;49m\u001b[43mcausal_datasets\u001b[49m\u001b[43m,\u001b[49m\u001b[43m \u001b[49m\u001b[43mcausalDiscovery\u001b[49m\u001b[38;5;241;43m=\u001b[39;49m\u001b[43malgorithm\u001b[49m\u001b[43m,\u001b[49m\n\u001b[1;32m    225\u001b[0m \u001b[43m                            \u001b[49m\u001b[43malgorithm_parameters\u001b[49m\u001b[38;5;241;43m=\u001b[39;49m\u001b[43malgorithms_parameters\u001b[49m\u001b[43m[\u001b[49m\u001b[43mname\u001b[49m\u001b[43m]\u001b[49m\u001b[43m)\u001b[49m\n\u001b[1;32m    226\u001b[0m     result[name] \u001b[38;5;241m=\u001b[39m algorithm_results\n\u001b[1;32m    228\u001b[0m \u001b[38;5;28;01mreturn\u001b[39;00m result\n",
      "File \u001b[0;32m~/Documents/Asignaturas/TFG UCO/Introduction-to-Causal-Inference/src/group-causation/group_causation/benchmark.py:245\u001b[0m, in \u001b[0;36mBenchmarkBase.test_particular_algorithm\u001b[0;34m(self, algorithm_name, causal_datasets, causalDiscovery, algorithm_parameters)\u001b[0m\n\u001b[1;32m    243\u001b[0m results_per_execution \u001b[38;5;241m=\u001b[39m []\n\u001b[1;32m    244\u001b[0m \u001b[38;5;28;01mfor\u001b[39;00m causal_dataset \u001b[38;5;129;01min\u001b[39;00m tqdm(  causal_datasets ): \u001b[38;5;66;03m# tqdm is used to show a progress bar\u001b[39;00m\n\u001b[0;32m--> 245\u001b[0m     results_per_execution\u001b[38;5;241m.\u001b[39mappend( \u001b[38;5;28;43mself\u001b[39;49m\u001b[38;5;241;43m.\u001b[39;49m\u001b[43mtest_particular_algorithm_particular_dataset\u001b[49m\u001b[43m(\u001b[49m\u001b[43mcausal_dataset\u001b[49m\u001b[43m,\u001b[49m\u001b[43m \u001b[49m\u001b[43mcausalDiscovery\u001b[49m\u001b[43m,\u001b[49m\u001b[43m \u001b[49m\u001b[43malgorithm_parameters\u001b[49m\u001b[43m)\u001b[49m )\n\u001b[1;32m    247\u001b[0m \u001b[38;5;28;01mif\u001b[39;00m \u001b[38;5;28mself\u001b[39m\u001b[38;5;241m.\u001b[39mverbose \u001b[38;5;241m>\u001b[39m \u001b[38;5;241m1\u001b[39m:\n\u001b[1;32m    248\u001b[0m     \u001b[38;5;28mprint\u001b[39m(\u001b[38;5;124mf\u001b[39m\u001b[38;5;124m'\u001b[39m\u001b[38;5;132;01m{\u001b[39;00mresults_per_execution\u001b[38;5;132;01m=}\u001b[39;00m\u001b[38;5;124m'\u001b[39m)\n",
      "File \u001b[0;32m~/Documents/Asignaturas/TFG UCO/Introduction-to-Causal-Inference/src/group-causation/group_causation/benchmark.py:516\u001b[0m, in \u001b[0;36mBenchmarkGroupCausalDiscovery.test_particular_algorithm_particular_dataset\u001b[0;34m(self, causal_dataset, causalDiscovery, algorithm_parameters)\u001b[0m\n\u001b[1;32m    514\u001b[0m     memory \u001b[38;5;241m=\u001b[39m np\u001b[38;5;241m.\u001b[39mnan\n\u001b[1;32m    515\u001b[0m \u001b[38;5;28;01mfinally\u001b[39;00m:\n\u001b[0;32m--> 516\u001b[0m     result \u001b[38;5;241m=\u001b[39m {\u001b[38;5;124m'\u001b[39m\u001b[38;5;124mtime\u001b[39m\u001b[38;5;124m'\u001b[39m: \u001b[43mtime\u001b[49m, \u001b[38;5;124m'\u001b[39m\u001b[38;5;124mmemory\u001b[39m\u001b[38;5;124m'\u001b[39m: memory}\n\u001b[1;32m    517\u001b[0m     actual_parents \u001b[38;5;241m=\u001b[39m causal_dataset\u001b[38;5;241m.\u001b[39mparents_dict\n\u001b[1;32m    518\u001b[0m     actual_parents_summary \u001b[38;5;241m=\u001b[39m window_to_summary_graph(actual_parents)\n",
      "\u001b[0;31mUnboundLocalError\u001b[0m: local variable 'time' referenced before assignment"
     ]
    }
   ],
   "source": [
    "from group_causation.benchmark import BenchmarkGroupCausalDiscovery\n",
    "import matplotlib.pyplot as plt\n",
    "\n",
    "plt.style.use('default')\n",
    "plt.rcParams['text.usetex'] = True\n",
    "plt.rcParams['font.family'] = 'serif'\n",
    "\n",
    "for data_name in (data_names:=['pm25', 'medical', 'traffic']):\n",
    "    print('Executing benchmark of', data_name)\n",
    "    results, benchmark = execute_benchmark(data_name)\n",
    "\n",
    "# Plot graphs\n",
    "# for data_name in (data_names:=['pm25', 'medical', 'traffic']):\n",
    "#     results_folder = f'results_{data_name}'\n",
    "#     benchmark = BenchmarkGroupCausalDiscovery()\n",
    "#     benchmark.plot_particular_result(results_folder, results_folder + '/summary',\n",
    "#                                     scores=[f'{score}_summary' for score in \\\n",
    "#                                                     ['shd', 'f1', 'precision', 'recall']],\n",
    "#                                     dataset_iteration_to_plot=0)"
   ]
  }
 ],
 "metadata": {
  "kernelspec": {
   "display_name": "causal-inference",
   "language": "python",
   "name": "python3"
  },
  "language_info": {
   "codemirror_mode": {
    "name": "ipython",
    "version": 3
   },
   "file_extension": ".py",
   "mimetype": "text/x-python",
   "name": "python",
   "nbconvert_exporter": "python",
   "pygments_lexer": "ipython3",
   "version": "3.9.21"
  }
 },
 "nbformat": 4,
 "nbformat_minor": 5
}
