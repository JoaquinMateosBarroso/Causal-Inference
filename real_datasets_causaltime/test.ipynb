{
 "cells": [
  {
   "cell_type": "markdown",
   "id": "370075c8",
   "metadata": {},
   "source": [
    "## Transforming data in csv and parents format"
   ]
  },
  {
   "cell_type": "code",
   "execution_count": 1,
   "id": "ce5623a1",
   "metadata": {},
   "outputs": [
    {
     "name": "stdout",
     "output_type": "stream",
     "text": [
      "Data Name: pm25\n",
      "Shape of Graph H: (36, 36)\n",
      "Shape of Time-series Data: (480, 20, 36) (Sample_num, Time_step, Node_num)\n",
      "Data Name: medical\n",
      "Shape of Graph H: (20, 20)\n",
      "Shape of Time-series Data: (480, 20, 20) (Sample_num, Time_step, Node_num)\n",
      "Data Name: traffic\n",
      "Shape of Graph H: (20, 20)\n",
      "Shape of Time-series Data: (480, 20, 20) (Sample_num, Time_step, Node_num)\n"
     ]
    }
   ],
   "source": [
    "import os\n",
    "import numpy as np\n",
    "import sys\n",
    "import random\n",
    "random.seed(0)\n",
    "np.random.seed(0)\n",
    "\n",
    "import pandas as pd\n",
    "sys.path.append('../')\n",
    "\n",
    "data_names = ['pm25', 'medical', 'traffic']\n",
    "\n",
    "def matrix_graph_to_parents(matrix_graph: np.ndarray) -> dict[int, list[int]]:\n",
    "    \"\"\"\n",
    "    Convert a matrix graph to a dictionary representation of parents.\n",
    "\n",
    "    Args:\n",
    "        matrix_graph (np.ndarray): The adjacency matrix representing the graph.\n",
    "\n",
    "    Returns:\n",
    "        dict[int, list[int]]: A dictionary where keys are node indices and values are lists of parent node indices.\n",
    "    \"\"\"\n",
    "    parents = {}\n",
    "    for i in range(matrix_graph.shape[0]):\n",
    "        parents[i] = np.where(matrix_graph[i] == 1)[0].tolist()\n",
    "    \n",
    "    parents = {k: [(v, -1) for v in vs] for k, vs in parents.items()}\n",
    "    return parents\n",
    "\n",
    "SAMPLE_NUM = 480 # All the datasets have 480 samples\n",
    "for data_name in data_names:\n",
    "    data = np.load('./' + data_name + '/gen_data.npy')\n",
    "    data = data[:, 20:, :data.shape[2] // 2]  # Forget the residuals and for some reason first 20 values are random\n",
    "    matrix_graph = np.load('./' + data_name + '/graph.npy')\n",
    "\n",
    "    print(f\"Data Name: {data_name}\")\n",
    "    print(f'Shape of Graph H: {matrix_graph.shape}')\n",
    "    print(f'Shape of Time-series Data: {data.shape} (Sample_num, Time_step, Node_num)')\n",
    "\n",
    "    os.makedirs(f'./data_{data_name}', exist_ok=True)\n",
    "    for i in range(data.shape[0]): # Iterate over samples\n",
    "        with open(f'./data_{data_name}/{i}_node_parents.txt', 'w') as f:\n",
    "            f.write(str(matrix_graph_to_parents(matrix_graph))) # Same matrix graph for all samples\n",
    "        \n",
    "        current_data = data[i, :, :]  # Select the i-th sample\n",
    "        \n",
    "        pd.DataFrame(current_data).to_csv(f'./data_{data_name}/{i}_data.csv', index=False, header=False)\n"
   ]
  },
  {
   "cell_type": "markdown",
   "id": "87d0e3ac",
   "metadata": {},
   "source": [
    "## Find the groups we are going to use"
   ]
  },
  {
   "cell_type": "code",
   "execution_count": 5,
   "id": "788f8552",
   "metadata": {},
   "outputs": [
    {
     "name": "stdout",
     "output_type": "stream",
     "text": [
      "pm25 dataset obtained the groups: [{0, 4}, {35}, {2}, {3, 11, 7}, {5, 6}, {8, 9}, {10, 26, 22}, {12, 15, 16, 19, 23}, {17, 13, 21, 25}, {1, 18, 34, 14}, {24, 20, 28}, {27, 31}, {33, 29}, {30}, {32}]\n",
      "medical dataset obtained the groups: [{0, 11, 5}, {2, 3, 6, 7, 13, 18}, {4, 8, 9, 10, 19}, {1, 12, 14, 15, 16, 17}]\n",
      "traffic dataset obtained the groups: [{0, 1, 3, 5, 7, 8, 9, 10, 14, 16}, {4, 6, 11, 12, 13, 17, 18, 19}, {2, 15}]\n"
     ]
    }
   ],
   "source": [
    "import shutil\n",
    "import os\n",
    "\n",
    "from group_causation.groups_extraction import GeneticCausalGroupsExtractor\n",
    "\n",
    "\n",
    "datasets_groups = {k: None for k in data_names}\n",
    "def extract_and_save_groups(data_name):\n",
    "    data = pd.read_csv(f'./data_{data_name}/0_data.csv', header=None).values\n",
    "    if data.shape[1] > 30: # Since there are many variables, consider the harmonic variance\n",
    "        group_extractor = GeneticCausalGroupsExtractor(data, \n",
    "                                                    scores=['harmonic_variance_explained', 'explainability_score'], \n",
    "                                                    scores_weights=[0.1, 1.0])\n",
    "    else:\n",
    "        group_extractor = GeneticCausalGroupsExtractor(data, \n",
    "                                                    scores=['explainability_score'], \n",
    "                                                    scores_weights=[1.0])\n",
    "        \n",
    "    groups = group_extractor.extract_groups()\n",
    "    datasets_groups[data_name] = groups\n",
    "\n",
    "    print(data_name, 'dataset obtained the groups:', groups)\n",
    "    \n",
    "    with open(f'./data_{data_name}/0_groups.txt', 'w') as f:\n",
    "        f.write(str(groups))\n",
    "    \n",
    "    for i in range(1, SAMPLE_NUM):\n",
    "        shutil.copyfile(f'./data_{data_name}/0_groups.txt', f'./data_{data_name}/{i}_groups.txt')\n",
    "\n",
    "for data_name in data_names:\n",
    "    extract_and_save_groups(data_name)"
   ]
  },
  {
   "cell_type": "markdown",
   "id": "d7e12a67",
   "metadata": {},
   "source": [
    "## Convert node-level parents to group-level parents"
   ]
  },
  {
   "cell_type": "code",
   "execution_count": null,
   "id": "982b4af3",
   "metadata": {},
   "outputs": [],
   "source": [
    "def find_index_with_element(groups, x):\n",
    "    for i, group in enumerate(groups):\n",
    "        if x in group: return i\n",
    "    return None\n",
    "\n",
    "for data_name, groups in datasets_groups.items():\n",
    "    with open(f'./data_{data_name}/0_node_parents.txt', 'r') as f:\n",
    "        node_parents = eval(f.read())\n",
    "    \n",
    "    group_parents = {}\n",
    "    for son_group_idx, son_group in enumerate(groups):\n",
    "        group_parents[son_group_idx] = []\n",
    "        for son_node in son_group:\n",
    "            for parent_node, lag in node_parents[son_node]:\n",
    "                parent_group_idx = find_index_with_element(groups, parent_node)\n",
    "                if (parent_group_idx, lag) not in group_parents[son_group_idx]:\n",
    "                    group_parents[son_group_idx].append((parent_group_idx, -1))\n",
    "                \n",
    "    with open(f'./data_{data_name}/0_parents.txt', 'w') as f:\n",
    "        f.write(str(group_parents))\n",
    "    for i in range(1, SAMPLE_NUM):\n",
    "        shutil.copyfile(f'./data_{data_name}/0_parents.txt', f'./data_{data_name}/{i}_parents.txt')"
   ]
  },
  {
   "cell_type": "code",
   "execution_count": 14,
   "id": "394c8e0e",
   "metadata": {},
   "outputs": [
    {
     "data": {
      "text/plain": [
       "1"
      ]
     },
     "execution_count": 14,
     "metadata": {},
     "output_type": "execute_result"
    }
   ],
   "source": [
    "find_index_with_element(groups, 11)"
   ]
  },
  {
   "cell_type": "markdown",
   "id": "9088e762",
   "metadata": {},
   "source": [
    "## Perform the benchmark for each of the datasets"
   ]
  },
  {
   "cell_type": "code",
   "execution_count": null,
   "id": "9d3be1b6",
   "metadata": {},
   "outputs": [],
   "source": [
    "from matplotlib import pyplot as plt\n",
    "\n",
    "from group_causation.benchmark import BenchmarkGroupCausalDiscovery\n",
    "\n",
    "from group_causation.utils import static_parameters\n",
    "from group_causation.group_causal_discovery import DimensionReductionGroupCausalDiscovery\n",
    "from group_causation.group_causal_discovery import MicroLevelGroupCausalDiscovery\n",
    "from group_causation.group_causal_discovery import HybridGroupCausalDiscovery\n",
    "\n",
    "algorithms = {\n",
    "    'group-embedding': HybridGroupCausalDiscovery,\n",
    "    'subgroups': HybridGroupCausalDiscovery,\n",
    "    'pca+pcmci': DimensionReductionGroupCausalDiscovery,\n",
    "    'pca+dynotears': DimensionReductionGroupCausalDiscovery,\n",
    "    'micro-level': MicroLevelGroupCausalDiscovery,\n",
    "}\n",
    "algorithms_parameters = {\n",
    "    'pca+pcmci': {'dimensionality_reduction': 'pca', 'node_causal_discovery_alg': 'pcmci',\n",
    "                            'node_causal_discovery_params': {'min_lag': 1, 'max_lag': 3, 'pc_alpha': 0.05}},\n",
    "    \n",
    "    'pca+dynotears': {'dimensionality_reduction': 'pca', 'node_causal_discovery_alg': 'dynotears',\n",
    "                            'node_causal_discovery_params': {'max_lag': 3, 'lambda_w': 0.05, 'lambda_a': 0.05}},\n",
    "    \n",
    "    'micro-level': {'node_causal_discovery_alg': 'pcmci',\n",
    "                            'node_causal_discovery_params': {'min_lag': 1, 'max_lag': 3, 'pc_alpha': 0.05}},\n",
    "    \n",
    "    'group-embedding': {'dimensionality_reduction': 'pca', \n",
    "               'dimensionality_reduction_params': {'explained_variance_threshold': 0.3,\n",
    "                                                   'groups_division_method': 'group_embedding'},\n",
    "                'node_causal_discovery_alg': 'pcmci',\n",
    "                'node_causal_discovery_params': {'min_lag': 1, 'max_lag': 3, 'pc_alpha': 0.05},\n",
    "                'verbose': 0},\n",
    "    \n",
    "    'subgroups': {'dimensionality_reduction': 'pca', \n",
    "               'dimensionality_reduction_params': {'explained_variance_threshold': 0.3,\n",
    "                                                   'groups_division_method': 'subgroups'},\n",
    "                'node_causal_discovery_alg': 'pcmci',\n",
    "                'node_causal_discovery_params': {'min_lag': 1, 'max_lag': 3, 'pc_alpha': 0.05},\n",
    "                'verbose': 0},\n",
    "}\n",
    "\n",
    "data_generation_options = {}\n",
    "\n",
    "benchmark_options = {\n",
    "    'static_parameters': (static_parameters, {}),\n",
    "}\n",
    "\n",
    "chosen_option = 'static_parameters'\n",
    "\n",
    "\n",
    "def execute_benchmark(data_name):    \n",
    "    benchmark = BenchmarkGroupCausalDiscovery()\n",
    "    results_folder = f'results_{data_name}'\n",
    "    datasets_folder = f'data_{data_name}'\n",
    "    \n",
    "    options_generator, options_kwargs = benchmark_options[chosen_option]\n",
    "    parameters_iterator = options_generator(data_generation_options,\n",
    "                                                algorithms_parameters,\n",
    "                                                **options_kwargs)\n",
    "    results = benchmark.benchmark_causal_discovery(algorithms=algorithms,\n",
    "                                        parameters_iterator=parameters_iterator,\n",
    "                                        datasets_folder=datasets_folder,\n",
    "                                        generate_toy_data=False,\n",
    "                                        results_folder=results_folder,\n",
    "                                        n_executions=5,\n",
    "                                        verbose=1)\n",
    "    \n",
    "    return results, benchmark"
   ]
  },
  {
   "cell_type": "code",
   "execution_count": null,
   "id": "ba2d1b3c",
   "metadata": {},
   "outputs": [
    {
     "name": "stdout",
     "output_type": "stream",
     "text": [
      "Executing benchmark of pm25\n",
      "\n",
      "--------------------------------------------------\n",
      "\u001b[34m Datasets have been loaded. \u001b[0m\n",
      "\u001b[32m Executing algorithm group-embedding \u001b[0m\n"
     ]
    },
    {
     "name": "stderr",
     "output_type": "stream",
     "text": [
      "  0%|          | 1/203 [00:01<06:33,  1.95s/it]"
     ]
    },
    {
     "name": "stdout",
     "output_type": "stream",
     "text": [
      "predicted_parents={0: [], 1: [], 2: [(1, -1)], 3: [(1, -1)], 4: [], 5: [(1, -1)], 6: [(1, -1)], 7: [(1, -1)], 8: [(1, -1)], 9: [], 10: [(4, -1)], 11: [], 12: [(9, -1)]}\n",
      "causal_dataset.parents_dict={0: [(None, -1)], 1: [(None, -1)], 2: [(None, -1)], 3: [(None, -1)], 4: [(None, -1)], 5: [(None, -1)], 6: [(None, -1)], 7: [(None, -1)], 8: [(None, -1)], 9: [(None, -1)], 10: [(None, -1)], 11: [(None, -1)], 12: [(None, -1)]}\n"
     ]
    },
    {
     "name": "stderr",
     "output_type": "stream",
     "text": [
      "  1%|          | 2/203 [00:04<07:51,  2.34s/it]"
     ]
    },
    {
     "name": "stdout",
     "output_type": "stream",
     "text": [
      "predicted_parents={0: [(2, -1)], 1: [], 2: [(1, -3)], 3: [(2, -1), (6, -1)], 4: [(6, -1)], 5: [(7, -1), (2, -1)], 6: [(10, -3)], 7: [], 8: [], 9: [(7, -1)], 10: [(10, -1)], 11: [(1, -1)], 12: []}\n",
      "causal_dataset.parents_dict={0: [(None, -1)], 1: [(None, -1)], 2: [(None, -1)], 3: [(None, -1)], 4: [(None, -1)], 5: [(None, -1)], 6: [(None, -1)], 7: [(None, -1)], 8: [(None, -1)], 9: [(None, -1)], 10: [(None, -1)], 11: [(None, -1)], 12: [(None, -1)]}\n"
     ]
    },
    {
     "name": "stderr",
     "output_type": "stream",
     "text": [
      "  1%|▏         | 3/203 [00:07<07:56,  2.38s/it]"
     ]
    },
    {
     "name": "stdout",
     "output_type": "stream",
     "text": [
      "predicted_parents={0: [(0, -1)], 1: [(12, -1)], 2: [(7, -1), (3, -1)], 3: [(6, -2), (3, -2)], 4: [(7, -1), (1, -1)], 5: [(8, -1), (0, -1)], 6: [(7, -1), (4, -1)], 7: [(4, -2), (3, -1)], 8: [(3, -1)], 9: [], 10: [(10, -1)], 11: [(0, -3), (9, -1)], 12: []}\n",
      "causal_dataset.parents_dict={0: [(None, -1)], 1: [(None, -1)], 2: [(None, -1)], 3: [(None, -1)], 4: [(None, -1)], 5: [(None, -1)], 6: [(None, -1)], 7: [(None, -1)], 8: [(None, -1)], 9: [(None, -1)], 10: [(None, -1)], 11: [(None, -1)], 12: [(None, -1)]}\n"
     ]
    },
    {
     "name": "stderr",
     "output_type": "stream",
     "text": [
      "  2%|▏         | 4/203 [00:09<08:09,  2.46s/it]"
     ]
    },
    {
     "name": "stdout",
     "output_type": "stream",
     "text": [
      "predicted_parents={0: [(10, -2), (7, -1)], 1: [], 2: [(8, -1)], 3: [(1, -1)], 4: [], 5: [(7, -1), (3, -1), (0, -2)], 6: [(10, -1), (0, -1)], 7: [(0, -1)], 8: [(9, -3)], 9: [(9, -1)], 10: [(10, -2)], 11: [(8, -1)], 12: [(4, -1), (9, -3), (4, -2)]}\n",
      "causal_dataset.parents_dict={0: [(None, -1)], 1: [(None, -1)], 2: [(None, -1)], 3: [(None, -1)], 4: [(None, -1)], 5: [(None, -1)], 6: [(None, -1)], 7: [(None, -1)], 8: [(None, -1)], 9: [(None, -1)], 10: [(None, -1)], 11: [(None, -1)], 12: [(None, -1)]}\n"
     ]
    },
    {
     "name": "stderr",
     "output_type": "stream",
     "text": [
      "  2%|▏         | 5/203 [00:11<07:51,  2.38s/it]"
     ]
    },
    {
     "name": "stdout",
     "output_type": "stream",
     "text": [
      "predicted_parents={0: [(11, -2), (12, -3)], 1: [(2, -1), (9, -1)], 2: [(4, -2), (9, -1)], 3: [(4, -3)], 4: [], 5: [(7, -1)], 6: [(7, -1)], 7: [(7, -1)], 8: [(8, -1)], 9: [(6, -3), (4, -3), (12, -1)], 10: [(2, -2)], 11: [(11, -1)], 12: [(12, -1)]}\n",
      "causal_dataset.parents_dict={0: [(None, -1)], 1: [(None, -1)], 2: [(None, -1)], 3: [(None, -1)], 4: [(None, -1)], 5: [(None, -1)], 6: [(None, -1)], 7: [(None, -1)], 8: [(None, -1)], 9: [(None, -1)], 10: [(None, -1)], 11: [(None, -1)], 12: [(None, -1)]}\n"
     ]
    },
    {
     "name": "stderr",
     "output_type": "stream",
     "text": [
      "  3%|▎         | 6/203 [00:13<07:17,  2.22s/it]"
     ]
    },
    {
     "name": "stdout",
     "output_type": "stream",
     "text": [
      "predicted_parents={0: [(2, -2), (8, -2), (11, -1), (10, -3)], 1: [(5, -3)], 2: [(10, -1), (1, -3)], 3: [(2, -1), (11, -1)], 4: [(3, -1)], 5: [(4, -2), (3, -3)], 6: [(3, -1)], 7: [(3, -1), (9, -3)], 8: [(10, -1)], 9: [], 10: [(10, -1)], 11: [(8, -2), (9, -1)], 12: [(10, -1)]}\n",
      "causal_dataset.parents_dict={0: [(None, -1)], 1: [(None, -1)], 2: [(None, -1)], 3: [(None, -1)], 4: [(None, -1)], 5: [(None, -1)], 6: [(None, -1)], 7: [(None, -1)], 8: [(None, -1)], 9: [(None, -1)], 10: [(None, -1)], 11: [(None, -1)], 12: [(None, -1)]}\n"
     ]
    },
    {
     "name": "stderr",
     "output_type": "stream",
     "text": [
      "  3%|▎         | 7/203 [00:15<06:56,  2.13s/it]"
     ]
    },
    {
     "name": "stdout",
     "output_type": "stream",
     "text": [
      "predicted_parents={0: [(0, -1)], 1: [], 2: [], 3: [(4, -1), (2, -1)], 4: [(2, -1), (9, -3)], 5: [(5, -1)], 6: [], 7: [(8, -2)], 8: [(10, -2)], 9: [], 10: [], 11: [], 12: [(12, -3)]}\n",
      "causal_dataset.parents_dict={0: [(None, -1)], 1: [(None, -1)], 2: [(None, -1)], 3: [(None, -1)], 4: [(None, -1)], 5: [(None, -1)], 6: [(None, -1)], 7: [(None, -1)], 8: [(None, -1)], 9: [(None, -1)], 10: [(None, -1)], 11: [(None, -1)], 12: [(None, -1)]}\n"
     ]
    },
    {
     "name": "stderr",
     "output_type": "stream",
     "text": [
      "  4%|▍         | 8/203 [00:17<07:01,  2.16s/it]"
     ]
    },
    {
     "name": "stdout",
     "output_type": "stream",
     "text": [
      "predicted_parents={0: [(8, -2), (6, -2)], 1: [], 2: [(10, -2), (1, -2)], 3: [(4, -1), (1, -1)], 4: [(4, -2)], 5: [(4, -1)], 6: [(4, -1), (9, -1)], 7: [(4, -1), (6, -2)], 8: [(4, -1), (3, -1)], 9: [(1, -1)], 10: [(10, -1)], 11: [(11, -1)], 12: [(12, -1)]}\n",
      "causal_dataset.parents_dict={0: [(None, -1)], 1: [(None, -1)], 2: [(None, -1)], 3: [(None, -1)], 4: [(None, -1)], 5: [(None, -1)], 6: [(None, -1)], 7: [(None, -1)], 8: [(None, -1)], 9: [(None, -1)], 10: [(None, -1)], 11: [(None, -1)], 12: [(None, -1)]}\n"
     ]
    },
    {
     "name": "stderr",
     "output_type": "stream",
     "text": [
      "  4%|▍         | 9/203 [00:20<07:10,  2.22s/it]"
     ]
    },
    {
     "name": "stdout",
     "output_type": "stream",
     "text": [
      "predicted_parents={0: [(6, -1)], 1: [], 2: [(1, -1)], 3: [(3, -1)], 4: [(4, -1)], 5: [(11, -3)], 6: [], 7: [(10, -1), (2, -1)], 8: [(8, -1)], 9: [(5, -2)], 10: [(5, -3)], 11: [], 12: []}\n",
      "causal_dataset.parents_dict={0: [(None, -1)], 1: [(None, -1)], 2: [(None, -1)], 3: [(None, -1)], 4: [(None, -1)], 5: [(None, -1)], 6: [(None, -1)], 7: [(None, -1)], 8: [(None, -1)], 9: [(None, -1)], 10: [(None, -1)], 11: [(None, -1)], 12: [(None, -1)]}\n"
     ]
    },
    {
     "name": "stderr",
     "output_type": "stream",
     "text": [
      "  5%|▍         | 10/203 [00:22<06:42,  2.08s/it]"
     ]
    },
    {
     "name": "stdout",
     "output_type": "stream",
     "text": [
      "predicted_parents={0: [], 1: [(2, -3), (2, -1)], 2: [(2, -1)], 3: [], 4: [], 5: [], 6: [(8, -1)], 7: [(7, -1)], 8: [], 9: [(9, -1)], 10: [(2, -2)], 11: [], 12: [(2, -1), (9, -1)]}\n",
      "causal_dataset.parents_dict={0: [(None, -1)], 1: [(None, -1)], 2: [(None, -1)], 3: [(None, -1)], 4: [(None, -1)], 5: [(None, -1)], 6: [(None, -1)], 7: [(None, -1)], 8: [(None, -1)], 9: [(None, -1)], 10: [(None, -1)], 11: [(None, -1)], 12: [(None, -1)]}\n"
     ]
    },
    {
     "name": "stderr",
     "output_type": "stream",
     "text": [
      "  5%|▌         | 11/203 [00:23<06:17,  1.97s/it]"
     ]
    },
    {
     "name": "stdout",
     "output_type": "stream",
     "text": [
      "predicted_parents={0: [], 1: [(6, -2)], 2: [(10, -3)], 3: [], 4: [(6, -2)], 5: [], 6: [], 7: [], 8: [(7, -1), (6, -2)], 9: [(2, -3)], 10: [(12, -3)], 11: [(7, -1), (7, -2)], 12: [(1, -1)]}\n",
      "causal_dataset.parents_dict={0: [(None, -1)], 1: [(None, -1)], 2: [(None, -1)], 3: [(None, -1)], 4: [(None, -1)], 5: [(None, -1)], 6: [(None, -1)], 7: [(None, -1)], 8: [(None, -1)], 9: [(None, -1)], 10: [(None, -1)], 11: [(None, -1)], 12: [(None, -1)]}\n"
     ]
    },
    {
     "name": "stderr",
     "output_type": "stream",
     "text": [
      "  6%|▌         | 12/203 [00:25<06:07,  1.92s/it]"
     ]
    },
    {
     "name": "stdout",
     "output_type": "stream",
     "text": [
      "predicted_parents={0: [(2, -1), (0, -1)], 1: [(10, -2)], 2: [(2, -1)], 3: [(5, -1)], 4: [(12, -3), (12, -2)], 5: [(5, -1)], 6: [(5, -1)], 7: [], 8: [(12, -2)], 9: [], 10: [(0, -1)], 11: [(1, -2)], 12: [(12, -3)]}\n",
      "causal_dataset.parents_dict={0: [(None, -1)], 1: [(None, -1)], 2: [(None, -1)], 3: [(None, -1)], 4: [(None, -1)], 5: [(None, -1)], 6: [(None, -1)], 7: [(None, -1)], 8: [(None, -1)], 9: [(None, -1)], 10: [(None, -1)], 11: [(None, -1)], 12: [(None, -1)]}\n"
     ]
    },
    {
     "name": "stderr",
     "output_type": "stream",
     "text": [
      "  6%|▋         | 13/203 [00:28<06:37,  2.09s/it]"
     ]
    },
    {
     "name": "stdout",
     "output_type": "stream",
     "text": [
      "predicted_parents={0: [(9, -1)], 1: [(9, -1)], 2: [(2, -1)], 3: [(10, -1)], 4: [(4, -1), (8, -2)], 5: [(4, -1)], 6: [(6, -1), (0, -2)], 7: [(4, -1), (5, -2), (12, -2)], 8: [(2, -1), (9, -1)], 9: [(8, -1), (9, -1)], 10: [(9, -1)], 11: [(9, -1)], 12: [(3, -2)]}\n",
      "causal_dataset.parents_dict={0: [(None, -1)], 1: [(None, -1)], 2: [(None, -1)], 3: [(None, -1)], 4: [(None, -1)], 5: [(None, -1)], 6: [(None, -1)], 7: [(None, -1)], 8: [(None, -1)], 9: [(None, -1)], 10: [(None, -1)], 11: [(None, -1)], 12: [(None, -1)]}\n"
     ]
    },
    {
     "name": "stderr",
     "output_type": "stream",
     "text": [
      "  6%|▋         | 13/203 [00:29<07:06,  2.25s/it]Process MemTimer-14:\n",
      "Traceback (most recent call last):\n",
      "  File \"/home/joaquin/miniconda3/envs/causal-inference/lib/python3.9/multiprocessing/process.py\", line 315, in _bootstrap\n",
      "    self.run()\n",
      "  File \"/home/joaquin/miniconda3/envs/causal-inference/lib/python3.9/site-packages/memory_profiler.py\", line 262, in run\n",
      "    stop = self.pipe.poll(self.interval)\n",
      "  File \"/home/joaquin/miniconda3/envs/causal-inference/lib/python3.9/multiprocessing/connection.py\", line 257, in poll\n",
      "    return self._poll(timeout)\n",
      "  File \"/home/joaquin/miniconda3/envs/causal-inference/lib/python3.9/multiprocessing/connection.py\", line 424, in _poll\n",
      "    r = wait([self], timeout)\n",
      "  File \"/home/joaquin/miniconda3/envs/causal-inference/lib/python3.9/multiprocessing/connection.py\", line 931, in wait\n",
      "    ready = selector.select(timeout)\n",
      "  File \"/home/joaquin/miniconda3/envs/causal-inference/lib/python3.9/selectors.py\", line 416, in select\n",
      "    fd_event_list = self._selector.poll(timeout)\n",
      "KeyboardInterrupt\n",
      "\n"
     ]
    },
    {
     "ename": "UnboundLocalError",
     "evalue": "local variable 'predicted_parents' referenced before assignment",
     "output_type": "error",
     "traceback": [
      "\u001b[0;31m---------------------------------------------------------------------------\u001b[0m",
      "\u001b[0;31mKeyboardInterrupt\u001b[0m                         Traceback (most recent call last)",
      "File \u001b[0;32m~/Documents/Asignaturas/TFG UCO/Introduction-to-Causal-Inference/src/group-causation/group_causation/benchmark.py:507\u001b[0m, in \u001b[0;36mBenchmarkGroupCausalDiscovery.test_particular_algorithm_particular_dataset\u001b[0;34m(self, causal_dataset, causalDiscovery, algorithm_parameters)\u001b[0m\n\u001b[1;32m    506\u001b[0m \u001b[38;5;28;01mtry\u001b[39;00m:\n\u001b[0;32m--> 507\u001b[0m     predicted_parents, time, memory \u001b[38;5;241m=\u001b[39m \u001b[43malgorithm\u001b[49m\u001b[38;5;241;43m.\u001b[39;49m\u001b[43mextract_parents_time_and_memory\u001b[49m\u001b[43m(\u001b[49m\u001b[43m)\u001b[49m\n\u001b[1;32m    508\u001b[0m \u001b[38;5;28;01mexcept\u001b[39;00m \u001b[38;5;167;01mException\u001b[39;00m \u001b[38;5;28;01mas\u001b[39;00m e:\n",
      "File \u001b[0;32m~/Documents/Asignaturas/TFG UCO/Introduction-to-Causal-Inference/src/group-causation/group_causation/causal_discovery_base.py:50\u001b[0m, in \u001b[0;36mCausalDiscovery.extract_parents_time_and_memory\u001b[0;34m(self)\u001b[0m\n\u001b[1;32m     49\u001b[0m tic \u001b[38;5;241m=\u001b[39m time\u001b[38;5;241m.\u001b[39mtime()\n\u001b[0;32m---> 50\u001b[0m memory, parents \u001b[38;5;241m=\u001b[39m \u001b[43mmemory_usage\u001b[49m\u001b[43m(\u001b[49m\u001b[43m \u001b[49m\u001b[38;5;28;43mself\u001b[39;49m\u001b[38;5;241;43m.\u001b[39;49m\u001b[43mextract_parents\u001b[49m\u001b[43m,\u001b[49m\u001b[43m \u001b[49m\u001b[43mretval\u001b[49m\u001b[38;5;241;43m=\u001b[39;49m\u001b[38;5;28;43;01mTrue\u001b[39;49;00m\u001b[43m,\u001b[49m\u001b[43m \u001b[49m\u001b[43minclude_children\u001b[49m\u001b[38;5;241;43m=\u001b[39;49m\u001b[38;5;28;43;01mTrue\u001b[39;49;00m\u001b[43m,\u001b[49m\u001b[43m \u001b[49m\u001b[43mmultiprocess\u001b[49m\u001b[38;5;241;43m=\u001b[39;49m\u001b[38;5;28;43;01mTrue\u001b[39;49;00m\u001b[43m)\u001b[49m\n\u001b[1;32m     51\u001b[0m toc \u001b[38;5;241m=\u001b[39m time\u001b[38;5;241m.\u001b[39mtime()\n",
      "File \u001b[0;32m~/miniconda3/envs/causal-inference/lib/python3.9/site-packages/memory_profiler.py:379\u001b[0m, in \u001b[0;36mmemory_usage\u001b[0;34m(proc, interval, timeout, timestamps, include_children, multiprocess, max_usage, retval, stream, backend, max_iterations)\u001b[0m\n\u001b[1;32m    378\u001b[0m \u001b[38;5;28;01mtry\u001b[39;00m:\n\u001b[0;32m--> 379\u001b[0m     returned \u001b[38;5;241m=\u001b[39m \u001b[43mf\u001b[49m\u001b[43m(\u001b[49m\u001b[38;5;241;43m*\u001b[39;49m\u001b[43margs\u001b[49m\u001b[43m,\u001b[49m\u001b[43m \u001b[49m\u001b[38;5;241;43m*\u001b[39;49m\u001b[38;5;241;43m*\u001b[39;49m\u001b[43mkw\u001b[49m\u001b[43m)\u001b[49m\n\u001b[1;32m    380\u001b[0m     parent_conn\u001b[38;5;241m.\u001b[39msend(\u001b[38;5;241m0\u001b[39m)  \u001b[38;5;66;03m# finish timing\u001b[39;00m\n",
      "File \u001b[0;32m~/Documents/Asignaturas/TFG UCO/Introduction-to-Causal-Inference/src/group-causation/group_causation/group_causal_discovery/hybrid.py:75\u001b[0m, in \u001b[0;36mHybridGroupCausalDiscovery.extract_parents\u001b[0;34m(self)\u001b[0m\n\u001b[1;32m     69\u001b[0m \u001b[38;5;250m\u001b[39m\u001b[38;5;124;03m'''\u001b[39;00m\n\u001b[1;32m     70\u001b[0m \u001b[38;5;124;03mExtract the parents of each group of variables using the dimension reduction algorithm\u001b[39;00m\n\u001b[1;32m     71\u001b[0m \u001b[38;5;124;03m\u001b[39;00m\n\u001b[1;32m     72\u001b[0m \u001b[38;5;124;03mReturns:\u001b[39;00m\n\u001b[1;32m     73\u001b[0m \u001b[38;5;124;03m    Dictionary with the parents of each group of variables.\u001b[39;00m\n\u001b[1;32m     74\u001b[0m \u001b[38;5;124;03m'''\u001b[39;00m\n\u001b[0;32m---> 75\u001b[0m group_parents \u001b[38;5;241m=\u001b[39m \u001b[38;5;28;43mself\u001b[39;49m\u001b[38;5;241;43m.\u001b[39;49m\u001b[43mmicro_level_causal_discovery\u001b[49m\u001b[38;5;241;43m.\u001b[39;49m\u001b[43mextract_parents\u001b[49m\u001b[43m(\u001b[49m\u001b[43m)\u001b[49m\n\u001b[1;32m     78\u001b[0m \u001b[38;5;28;01mreturn\u001b[39;00m group_parents\n",
      "File \u001b[0;32m~/Documents/Asignaturas/TFG UCO/Introduction-to-Causal-Inference/src/group-causation/group_causation/group_causal_discovery/micro_level.py:46\u001b[0m, in \u001b[0;36mMicroLevelGroupCausalDiscovery.extract_parents\u001b[0;34m(self)\u001b[0m\n\u001b[1;32m     44\u001b[0m \u001b[38;5;28mself\u001b[39m\u001b[38;5;241m.\u001b[39mcausal_discovery_alg \u001b[38;5;241m=\u001b[39m \u001b[38;5;28mself\u001b[39m\u001b[38;5;241m.\u001b[39m_getCausalDiscoveryAlgorithm()\n\u001b[0;32m---> 46\u001b[0m node_parents \u001b[38;5;241m=\u001b[39m \u001b[38;5;28;43mself\u001b[39;49m\u001b[38;5;241;43m.\u001b[39;49m\u001b[43mcausal_discovery_alg\u001b[49m\u001b[38;5;241;43m.\u001b[39;49m\u001b[43mextract_parents\u001b[49m\u001b[43m(\u001b[49m\u001b[43m)\u001b[49m\n\u001b[1;32m     48\u001b[0m group_parents \u001b[38;5;241m=\u001b[39m \u001b[38;5;28mself\u001b[39m\u001b[38;5;241m.\u001b[39m_convert_node_to_group_parents(node_parents)\n",
      "File \u001b[0;32m~/Documents/Asignaturas/TFG UCO/Introduction-to-Causal-Inference/src/group-causation/group_causation/micro_causal_discovery/causal_discovery_tigramite.py:60\u001b[0m, in \u001b[0;36mPCMCIWrapper.extract_parents\u001b[0;34m(self)\u001b[0m\n\u001b[1;32m     55\u001b[0m \u001b[38;5;250m\u001b[39m\u001b[38;5;124;03m'''\u001b[39;00m\n\u001b[1;32m     56\u001b[0m \u001b[38;5;124;03mReturns the parents dict\u001b[39;00m\n\u001b[1;32m     57\u001b[0m \u001b[38;5;124;03m\u001b[39;00m\n\u001b[1;32m     58\u001b[0m \u001b[38;5;124;03m:param data: np.array with the data, shape (n_samples, n_features)\u001b[39;00m\n\u001b[1;32m     59\u001b[0m \u001b[38;5;124;03m'''\u001b[39;00m\n\u001b[0;32m---> 60\u001b[0m results \u001b[38;5;241m=\u001b[39m \u001b[38;5;28;43mself\u001b[39;49m\u001b[38;5;241;43m.\u001b[39;49m\u001b[43mpcmci\u001b[49m\u001b[38;5;241;43m.\u001b[39;49m\u001b[43mrun_pcmciplus\u001b[49m\u001b[43m(\u001b[49m\u001b[43mtau_min\u001b[49m\u001b[38;5;241;43m=\u001b[39;49m\u001b[38;5;28;43mself\u001b[39;49m\u001b[38;5;241;43m.\u001b[39;49m\u001b[43mmin_lag\u001b[49m\u001b[43m,\u001b[49m\u001b[43m \u001b[49m\u001b[43mtau_max\u001b[49m\u001b[38;5;241;43m=\u001b[39;49m\u001b[38;5;28;43mself\u001b[39;49m\u001b[38;5;241;43m.\u001b[39;49m\u001b[43mmax_lag\u001b[49m\u001b[43m,\u001b[49m\n\u001b[1;32m     61\u001b[0m \u001b[43m                                    \u001b[49m\u001b[43mpc_alpha\u001b[49m\u001b[38;5;241;43m=\u001b[39;49m\u001b[38;5;28;43mself\u001b[39;49m\u001b[38;5;241;43m.\u001b[39;49m\u001b[43mpc_alpha\u001b[49m\u001b[43m,\u001b[49m\u001b[43m \u001b[49m\u001b[38;5;241;43m*\u001b[39;49m\u001b[38;5;241;43m*\u001b[39;49m\u001b[38;5;28;43mself\u001b[39;49m\u001b[38;5;241;43m.\u001b[39;49m\u001b[43mextra_args\u001b[49m\u001b[43m)\u001b[49m\n\u001b[1;32m     62\u001b[0m parents \u001b[38;5;241m=\u001b[39m \u001b[38;5;28mself\u001b[39m\u001b[38;5;241m.\u001b[39mpcmci\u001b[38;5;241m.\u001b[39mreturn_parents_dict(graph\u001b[38;5;241m=\u001b[39mresults[\u001b[38;5;124m'\u001b[39m\u001b[38;5;124mgraph\u001b[39m\u001b[38;5;124m'\u001b[39m], \n\u001b[1;32m     63\u001b[0m                                          val_matrix\u001b[38;5;241m=\u001b[39mresults[\u001b[38;5;124m'\u001b[39m\u001b[38;5;124mval_matrix\u001b[39m\u001b[38;5;124m'\u001b[39m],\n\u001b[1;32m     64\u001b[0m                                          include_lagzero_parents\u001b[38;5;241m=\u001b[39m\u001b[38;5;28;01mTrue\u001b[39;00m)\n",
      "File \u001b[0;32m~/miniconda3/envs/causal-inference/lib/python3.9/site-packages/tigramite/pcmci.py:2182\u001b[0m, in \u001b[0;36mPCMCI.run_pcmciplus\u001b[0;34m(self, selected_links, link_assumptions, tau_min, tau_max, pc_alpha, contemp_collider_rule, conflict_resolution, reset_lagged_links, max_conds_dim, max_combinations, max_conds_py, max_conds_px, max_conds_px_lagged, fdr_method)\u001b[0m\n\u001b[1;32m   2179\u001b[0m \u001b[38;5;66;03m#\u001b[39;00m\n\u001b[1;32m   2180\u001b[0m \u001b[38;5;66;03m# Phase 1: Get a superset of lagged parents from run_pc_stable\u001b[39;00m\n\u001b[1;32m   2181\u001b[0m \u001b[38;5;66;03m#\u001b[39;00m\n\u001b[0;32m-> 2182\u001b[0m lagged_parents \u001b[38;5;241m=\u001b[39m \u001b[38;5;28;43mself\u001b[39;49m\u001b[38;5;241;43m.\u001b[39;49m\u001b[43mrun_pc_stable\u001b[49m\u001b[43m(\u001b[49m\u001b[43mlink_assumptions\u001b[49m\u001b[38;5;241;43m=\u001b[39;49m\u001b[43mlink_assumptions\u001b[49m\u001b[43m,\u001b[49m\n\u001b[1;32m   2183\u001b[0m \u001b[43m                    \u001b[49m\u001b[43mtau_min\u001b[49m\u001b[38;5;241;43m=\u001b[39;49m\u001b[43mtau_min\u001b[49m\u001b[43m,\u001b[49m\n\u001b[1;32m   2184\u001b[0m \u001b[43m                    \u001b[49m\u001b[43mtau_max\u001b[49m\u001b[38;5;241;43m=\u001b[39;49m\u001b[43mtau_max\u001b[49m\u001b[43m,\u001b[49m\n\u001b[1;32m   2185\u001b[0m \u001b[43m                    \u001b[49m\u001b[43mpc_alpha\u001b[49m\u001b[38;5;241;43m=\u001b[39;49m\u001b[43mpc_alpha\u001b[49m\u001b[43m,\u001b[49m\n\u001b[1;32m   2186\u001b[0m \u001b[43m                    \u001b[49m\u001b[43mmax_conds_dim\u001b[49m\u001b[38;5;241;43m=\u001b[39;49m\u001b[43mmax_conds_dim\u001b[49m\u001b[43m,\u001b[49m\n\u001b[1;32m   2187\u001b[0m \u001b[43m                    \u001b[49m\u001b[43mmax_combinations\u001b[49m\u001b[38;5;241;43m=\u001b[39;49m\u001b[43mmax_combinations\u001b[49m\u001b[43m)\u001b[49m\n\u001b[1;32m   2188\u001b[0m \u001b[38;5;66;03m# Extract p- and val-matrix\u001b[39;00m\n",
      "File \u001b[0;32m~/miniconda3/envs/causal-inference/lib/python3.9/site-packages/tigramite/pcmci.py:689\u001b[0m, in \u001b[0;36mPCMCI.run_pc_stable\u001b[0;34m(self, selected_links, link_assumptions, tau_min, tau_max, save_iterations, pc_alpha, max_conds_dim, max_combinations)\u001b[0m\n\u001b[1;32m    687\u001b[0m \u001b[38;5;66;03m# Get the results for this alpha value\u001b[39;00m\n\u001b[1;32m    688\u001b[0m results[pc_alpha_here] \u001b[38;5;241m=\u001b[39m \\\n\u001b[0;32m--> 689\u001b[0m     \u001b[38;5;28;43mself\u001b[39;49m\u001b[38;5;241;43m.\u001b[39;49m\u001b[43m_run_pc_stable_single\u001b[49m\u001b[43m(\u001b[49m\u001b[43mj\u001b[49m\u001b[43m,\u001b[49m\n\u001b[1;32m    690\u001b[0m \u001b[43m                               \u001b[49m\u001b[43mlink_assumptions_j\u001b[49m\u001b[38;5;241;43m=\u001b[39;49m\u001b[43m_int_link_assumptions\u001b[49m\u001b[43m[\u001b[49m\u001b[43mj\u001b[49m\u001b[43m]\u001b[49m\u001b[43m,\u001b[49m\n\u001b[1;32m    691\u001b[0m \u001b[43m                               \u001b[49m\u001b[43mtau_min\u001b[49m\u001b[38;5;241;43m=\u001b[39;49m\u001b[43mtau_min\u001b[49m\u001b[43m,\u001b[49m\n\u001b[1;32m    692\u001b[0m \u001b[43m                               \u001b[49m\u001b[43mtau_max\u001b[49m\u001b[38;5;241;43m=\u001b[39;49m\u001b[43mtau_max\u001b[49m\u001b[43m,\u001b[49m\n\u001b[1;32m    693\u001b[0m \u001b[43m                               \u001b[49m\u001b[43msave_iterations\u001b[49m\u001b[38;5;241;43m=\u001b[39;49m\u001b[43msave_iterations\u001b[49m\u001b[43m,\u001b[49m\n\u001b[1;32m    694\u001b[0m \u001b[43m                               \u001b[49m\u001b[43mpc_alpha\u001b[49m\u001b[38;5;241;43m=\u001b[39;49m\u001b[43mpc_alpha_here\u001b[49m\u001b[43m,\u001b[49m\n\u001b[1;32m    695\u001b[0m \u001b[43m                               \u001b[49m\u001b[43mmax_conds_dim\u001b[49m\u001b[38;5;241;43m=\u001b[39;49m\u001b[43mmax_conds_dim\u001b[49m\u001b[43m,\u001b[49m\n\u001b[1;32m    696\u001b[0m \u001b[43m                               \u001b[49m\u001b[43mmax_combinations\u001b[49m\u001b[38;5;241;43m=\u001b[39;49m\u001b[43mmax_combinations\u001b[49m\u001b[43m)\u001b[49m\n\u001b[1;32m    697\u001b[0m \u001b[38;5;66;03m# Figure out the best score if there is more than one pc_alpha\u001b[39;00m\n\u001b[1;32m    698\u001b[0m \u001b[38;5;66;03m# value\u001b[39;00m\n",
      "File \u001b[0;32m~/miniconda3/envs/causal-inference/lib/python3.9/site-packages/tigramite/pcmci.py:419\u001b[0m, in \u001b[0;36mPCMCI._run_pc_stable_single\u001b[0;34m(self, j, link_assumptions_j, tau_min, tau_max, save_iterations, pc_alpha, max_conds_dim, max_combinations)\u001b[0m\n\u001b[1;32m    418\u001b[0m \u001b[38;5;28;01melse\u001b[39;00m:\n\u001b[0;32m--> 419\u001b[0m     val, pval, dependent \u001b[38;5;241m=\u001b[39m \u001b[38;5;28;43mself\u001b[39;49m\u001b[38;5;241;43m.\u001b[39;49m\u001b[43mcond_ind_test\u001b[49m\u001b[38;5;241;43m.\u001b[39;49m\u001b[43mrun_test\u001b[49m\u001b[43m(\u001b[49m\u001b[43mX\u001b[49m\u001b[38;5;241;43m=\u001b[39;49m\u001b[43m[\u001b[49m\u001b[43mparent\u001b[49m\u001b[43m]\u001b[49m\u001b[43m,\u001b[49m\n\u001b[1;32m    420\u001b[0m \u001b[43m                                \u001b[49m\u001b[43mY\u001b[49m\u001b[38;5;241;43m=\u001b[39;49m\u001b[43m[\u001b[49m\u001b[43m(\u001b[49m\u001b[43mj\u001b[49m\u001b[43m,\u001b[49m\u001b[43m \u001b[49m\u001b[38;5;241;43m0\u001b[39;49m\u001b[43m)\u001b[49m\u001b[43m]\u001b[49m\u001b[43m,\u001b[49m\n\u001b[1;32m    421\u001b[0m \u001b[43m                                \u001b[49m\u001b[43mZ\u001b[49m\u001b[38;5;241;43m=\u001b[39;49m\u001b[43mZ\u001b[49m\u001b[43m,\u001b[49m\n\u001b[1;32m    422\u001b[0m \u001b[43m                                \u001b[49m\u001b[43mtau_max\u001b[49m\u001b[38;5;241;43m=\u001b[39;49m\u001b[43mtau_max\u001b[49m\u001b[43m,\u001b[49m\n\u001b[1;32m    423\u001b[0m \u001b[43m                                \u001b[49m\u001b[43malpha_or_thres\u001b[49m\u001b[38;5;241;43m=\u001b[39;49m\u001b[43mpc_alpha\u001b[49m\u001b[43m,\u001b[49m\n\u001b[1;32m    424\u001b[0m \u001b[43m                                \u001b[49m\u001b[43m)\u001b[49m\n\u001b[1;32m    425\u001b[0m \u001b[38;5;66;03m# Print some information if needed\u001b[39;00m\n",
      "File \u001b[0;32m~/miniconda3/envs/causal-inference/lib/python3.9/site-packages/tigramite/independence_tests/independence_tests_base.py:429\u001b[0m, in \u001b[0;36mCondIndTest.run_test\u001b[0;34m(self, X, Y, Z, tau_max, cut_off, alpha_or_thres)\u001b[0m\n\u001b[1;32m    427\u001b[0m \u001b[38;5;28;01melse\u001b[39;00m:\n\u001b[1;32m    428\u001b[0m     \u001b[38;5;66;03m# Get the dependence measure, reycling residuals if need be\u001b[39;00m\n\u001b[0;32m--> 429\u001b[0m     val \u001b[38;5;241m=\u001b[39m \u001b[38;5;28;43mself\u001b[39;49m\u001b[38;5;241;43m.\u001b[39;49m\u001b[43m_get_dependence_measure_recycle\u001b[49m\u001b[43m(\u001b[49m\u001b[43mnonzero_X\u001b[49m\u001b[43m,\u001b[49m\u001b[43m \u001b[49m\u001b[43mnonzero_Y\u001b[49m\u001b[43m,\u001b[49m\u001b[43m \u001b[49m\u001b[43mnonzero_Z\u001b[49m\u001b[43m,\u001b[49m\u001b[43m \u001b[49m\n\u001b[1;32m    430\u001b[0m \u001b[43m                                \u001b[49m\u001b[43mnonzero_xyz\u001b[49m\u001b[43m,\u001b[49m\u001b[43m \u001b[49m\u001b[43mnonzero_array\u001b[49m\u001b[43m,\u001b[49m\u001b[43m \u001b[49m\u001b[43mnonzero_data_type\u001b[49m\u001b[43m)\u001b[49m\n\u001b[1;32m    431\u001b[0m     \u001b[38;5;66;03m# Get the p-value (None if significance = 'fixed_thres')\u001b[39;00m\n",
      "File \u001b[0;32m~/miniconda3/envs/causal-inference/lib/python3.9/site-packages/tigramite/independence_tests/independence_tests_base.py:701\u001b[0m, in \u001b[0;36mCondIndTest._get_dependence_measure_recycle\u001b[0;34m(self, X, Y, Z, xyz, array, data_type)\u001b[0m\n\u001b[1;32m    700\u001b[0m \u001b[38;5;28;01melse\u001b[39;00m:\n\u001b[0;32m--> 701\u001b[0m     \u001b[38;5;28;01mreturn\u001b[39;00m \u001b[38;5;28;43mself\u001b[39;49m\u001b[38;5;241;43m.\u001b[39;49m\u001b[43mget_dependence_measure\u001b[49m\u001b[43m(\u001b[49m\u001b[43marray\u001b[49m\u001b[43m,\u001b[49m\u001b[43m \u001b[49m\u001b[43mxyz\u001b[49m\u001b[43m)\u001b[49m\n",
      "File \u001b[0;32m~/miniconda3/envs/causal-inference/lib/python3.9/site-packages/tigramite/independence_tests/parcorr.py:146\u001b[0m, in \u001b[0;36mParCorr.get_dependence_measure\u001b[0;34m(self, array, xyz, data_type)\u001b[0m\n\u001b[1;32m    145\u001b[0m y_vals \u001b[38;5;241m=\u001b[39m \u001b[38;5;28mself\u001b[39m\u001b[38;5;241m.\u001b[39m_get_single_residuals(array, target_var\u001b[38;5;241m=\u001b[39m\u001b[38;5;241m1\u001b[39m)\n\u001b[0;32m--> 146\u001b[0m val, _ \u001b[38;5;241m=\u001b[39m \u001b[43mstats\u001b[49m\u001b[38;5;241;43m.\u001b[39;49m\u001b[43mpearsonr\u001b[49m\u001b[43m(\u001b[49m\u001b[43mx_vals\u001b[49m\u001b[43m,\u001b[49m\u001b[43m \u001b[49m\u001b[43my_vals\u001b[49m\u001b[43m)\u001b[49m\n\u001b[1;32m    147\u001b[0m \u001b[38;5;28;01mreturn\u001b[39;00m val\n",
      "File \u001b[0;32m~/miniconda3/envs/causal-inference/lib/python3.9/site-packages/scipy/stats/_stats_py.py:4858\u001b[0m, in \u001b[0;36mpearsonr\u001b[0;34m(x, y, alternative, method)\u001b[0m\n\u001b[1;32m   4857\u001b[0m ab \u001b[38;5;241m=\u001b[39m n\u001b[38;5;241m/\u001b[39m\u001b[38;5;241m2\u001b[39m \u001b[38;5;241m-\u001b[39m \u001b[38;5;241m1\u001b[39m\n\u001b[0;32m-> 4858\u001b[0m dist \u001b[38;5;241m=\u001b[39m \u001b[43mstats\u001b[49m\u001b[38;5;241;43m.\u001b[39;49m\u001b[43mbeta\u001b[49m\u001b[43m(\u001b[49m\u001b[43mab\u001b[49m\u001b[43m,\u001b[49m\u001b[43m \u001b[49m\u001b[43mab\u001b[49m\u001b[43m,\u001b[49m\u001b[43m \u001b[49m\u001b[43mloc\u001b[49m\u001b[38;5;241;43m=\u001b[39;49m\u001b[38;5;241;43m-\u001b[39;49m\u001b[38;5;241;43m1\u001b[39;49m\u001b[43m,\u001b[49m\u001b[43m \u001b[49m\u001b[43mscale\u001b[49m\u001b[38;5;241;43m=\u001b[39;49m\u001b[38;5;241;43m2\u001b[39;49m\u001b[43m)\u001b[49m\n\u001b[1;32m   4859\u001b[0m \u001b[38;5;28;01mif\u001b[39;00m alternative \u001b[38;5;241m==\u001b[39m \u001b[38;5;124m'\u001b[39m\u001b[38;5;124mtwo-sided\u001b[39m\u001b[38;5;124m'\u001b[39m:\n",
      "File \u001b[0;32m~/miniconda3/envs/causal-inference/lib/python3.9/site-packages/scipy/stats/_distn_infrastructure.py:849\u001b[0m, in \u001b[0;36mrv_generic.__call__\u001b[0;34m(self, *args, **kwds)\u001b[0m\n\u001b[1;32m    848\u001b[0m \u001b[38;5;28;01mdef\u001b[39;00m\u001b[38;5;250m \u001b[39m\u001b[38;5;21m__call__\u001b[39m(\u001b[38;5;28mself\u001b[39m, \u001b[38;5;241m*\u001b[39margs, \u001b[38;5;241m*\u001b[39m\u001b[38;5;241m*\u001b[39mkwds):\n\u001b[0;32m--> 849\u001b[0m     \u001b[38;5;28;01mreturn\u001b[39;00m \u001b[38;5;28;43mself\u001b[39;49m\u001b[38;5;241;43m.\u001b[39;49m\u001b[43mfreeze\u001b[49m\u001b[43m(\u001b[49m\u001b[38;5;241;43m*\u001b[39;49m\u001b[43margs\u001b[49m\u001b[43m,\u001b[49m\u001b[43m \u001b[49m\u001b[38;5;241;43m*\u001b[39;49m\u001b[38;5;241;43m*\u001b[39;49m\u001b[43mkwds\u001b[49m\u001b[43m)\u001b[49m\n",
      "File \u001b[0;32m~/miniconda3/envs/causal-inference/lib/python3.9/site-packages/scipy/stats/_distn_infrastructure.py:844\u001b[0m, in \u001b[0;36mrv_generic.freeze\u001b[0;34m(self, *args, **kwds)\u001b[0m\n\u001b[1;32m    843\u001b[0m \u001b[38;5;28;01mif\u001b[39;00m \u001b[38;5;28misinstance\u001b[39m(\u001b[38;5;28mself\u001b[39m, rv_continuous):\n\u001b[0;32m--> 844\u001b[0m     \u001b[38;5;28;01mreturn\u001b[39;00m \u001b[43mrv_continuous_frozen\u001b[49m\u001b[43m(\u001b[49m\u001b[38;5;28;43mself\u001b[39;49m\u001b[43m,\u001b[49m\u001b[43m \u001b[49m\u001b[38;5;241;43m*\u001b[39;49m\u001b[43margs\u001b[49m\u001b[43m,\u001b[49m\u001b[43m \u001b[49m\u001b[38;5;241;43m*\u001b[39;49m\u001b[38;5;241;43m*\u001b[39;49m\u001b[43mkwds\u001b[49m\u001b[43m)\u001b[49m\n\u001b[1;32m    845\u001b[0m \u001b[38;5;28;01melse\u001b[39;00m:\n",
      "File \u001b[0;32m~/miniconda3/envs/causal-inference/lib/python3.9/site-packages/scipy/stats/_distn_infrastructure.py:463\u001b[0m, in \u001b[0;36mrv_frozen.__init__\u001b[0;34m(self, dist, *args, **kwds)\u001b[0m\n\u001b[1;32m    462\u001b[0m \u001b[38;5;66;03m# create a new instance\u001b[39;00m\n\u001b[0;32m--> 463\u001b[0m \u001b[38;5;28mself\u001b[39m\u001b[38;5;241m.\u001b[39mdist \u001b[38;5;241m=\u001b[39m \u001b[43mdist\u001b[49m\u001b[38;5;241;43m.\u001b[39;49m\u001b[38;5;18;43m__class__\u001b[39;49m\u001b[43m(\u001b[49m\u001b[38;5;241;43m*\u001b[39;49m\u001b[38;5;241;43m*\u001b[39;49m\u001b[43mdist\u001b[49m\u001b[38;5;241;43m.\u001b[39;49m\u001b[43m_updated_ctor_param\u001b[49m\u001b[43m(\u001b[49m\u001b[43m)\u001b[49m\u001b[43m)\u001b[49m\n\u001b[1;32m    465\u001b[0m shapes, _, _ \u001b[38;5;241m=\u001b[39m \u001b[38;5;28mself\u001b[39m\u001b[38;5;241m.\u001b[39mdist\u001b[38;5;241m.\u001b[39m_parse_args(\u001b[38;5;241m*\u001b[39margs, \u001b[38;5;241m*\u001b[39m\u001b[38;5;241m*\u001b[39mkwds)\n",
      "File \u001b[0;32m~/miniconda3/envs/causal-inference/lib/python3.9/site-packages/scipy/stats/_distn_infrastructure.py:1828\u001b[0m, in \u001b[0;36mrv_continuous.__init__\u001b[0;34m(self, momtype, a, b, xtol, badvalue, name, longname, shapes, seed)\u001b[0m\n\u001b[1;32m   1825\u001b[0m \u001b[38;5;28mself\u001b[39m\u001b[38;5;241m.\u001b[39m_construct_argparser(meths_to_inspect\u001b[38;5;241m=\u001b[39m[\u001b[38;5;28mself\u001b[39m\u001b[38;5;241m.\u001b[39m_pdf, \u001b[38;5;28mself\u001b[39m\u001b[38;5;241m.\u001b[39m_cdf],\n\u001b[1;32m   1826\u001b[0m                           locscale_in\u001b[38;5;241m=\u001b[39m\u001b[38;5;124m'\u001b[39m\u001b[38;5;124mloc=0, scale=1\u001b[39m\u001b[38;5;124m'\u001b[39m,\n\u001b[1;32m   1827\u001b[0m                           locscale_out\u001b[38;5;241m=\u001b[39m\u001b[38;5;124m'\u001b[39m\u001b[38;5;124mloc, scale\u001b[39m\u001b[38;5;124m'\u001b[39m)\n\u001b[0;32m-> 1828\u001b[0m \u001b[38;5;28;43mself\u001b[39;49m\u001b[38;5;241;43m.\u001b[39;49m\u001b[43m_attach_methods\u001b[49m\u001b[43m(\u001b[49m\u001b[43m)\u001b[49m\n\u001b[1;32m   1830\u001b[0m \u001b[38;5;28;01mif\u001b[39;00m longname \u001b[38;5;129;01mis\u001b[39;00m \u001b[38;5;28;01mNone\u001b[39;00m:\n",
      "File \u001b[0;32m~/miniconda3/envs/causal-inference/lib/python3.9/site-packages/scipy/stats/_distn_infrastructure.py:1862\u001b[0m, in \u001b[0;36mrv_continuous._attach_methods\u001b[0;34m(self)\u001b[0m\n\u001b[1;32m   1861\u001b[0m \u001b[38;5;66;03m# _attach_methods is responsible for calling _attach_argparser_methods\u001b[39;00m\n\u001b[0;32m-> 1862\u001b[0m \u001b[38;5;28;43mself\u001b[39;49m\u001b[38;5;241;43m.\u001b[39;49m\u001b[43m_attach_argparser_methods\u001b[49m\u001b[43m(\u001b[49m\u001b[43m)\u001b[49m\n\u001b[1;32m   1864\u001b[0m \u001b[38;5;66;03m# nin correction\u001b[39;00m\n",
      "File \u001b[0;32m~/miniconda3/envs/causal-inference/lib/python3.9/site-packages/scipy/stats/_distn_infrastructure.py:693\u001b[0m, in \u001b[0;36mrv_generic._attach_argparser_methods\u001b[0;34m(self)\u001b[0m\n\u001b[1;32m    692\u001b[0m ns \u001b[38;5;241m=\u001b[39m {}\n\u001b[0;32m--> 693\u001b[0m \u001b[43mexec\u001b[49m\u001b[43m(\u001b[49m\u001b[38;5;28;43mself\u001b[39;49m\u001b[38;5;241;43m.\u001b[39;49m\u001b[43m_parse_arg_template\u001b[49m\u001b[43m,\u001b[49m\u001b[43m \u001b[49m\u001b[43mns\u001b[49m\u001b[43m)\u001b[49m\n\u001b[1;32m    694\u001b[0m \u001b[38;5;66;03m# NB: attach to the instance, not class\u001b[39;00m\n",
      "File \u001b[0;32m<string>:2\u001b[0m\n",
      "\u001b[0;31mKeyboardInterrupt\u001b[0m: ",
      "\nDuring handling of the above exception, another exception occurred:\n",
      "\u001b[0;31mUnboundLocalError\u001b[0m                         Traceback (most recent call last)",
      "Cell \u001b[0;32mIn[2], line 3\u001b[0m\n\u001b[1;32m      1\u001b[0m \u001b[38;5;28;01mfor\u001b[39;00m data_name \u001b[38;5;129;01min\u001b[39;00m (data_names\u001b[38;5;241m:=\u001b[39m[\u001b[38;5;124m'\u001b[39m\u001b[38;5;124mpm25\u001b[39m\u001b[38;5;124m'\u001b[39m, \u001b[38;5;124m'\u001b[39m\u001b[38;5;124mmedical\u001b[39m\u001b[38;5;124m'\u001b[39m, \u001b[38;5;124m'\u001b[39m\u001b[38;5;124mtraffic\u001b[39m\u001b[38;5;124m'\u001b[39m]):\n\u001b[1;32m      2\u001b[0m     \u001b[38;5;28mprint\u001b[39m(\u001b[38;5;124m'\u001b[39m\u001b[38;5;124mExecuting benchmark of\u001b[39m\u001b[38;5;124m'\u001b[39m, data_name)\n\u001b[0;32m----> 3\u001b[0m     results, benchmark \u001b[38;5;241m=\u001b[39m \u001b[43mexecute_benchmark\u001b[49m\u001b[43m(\u001b[49m\u001b[43mdata_name\u001b[49m\u001b[43m)\u001b[49m\n\u001b[1;32m      4\u001b[0m     results_folder \u001b[38;5;241m=\u001b[39m \u001b[38;5;124mf\u001b[39m\u001b[38;5;124m'\u001b[39m\u001b[38;5;124mresults_\u001b[39m\u001b[38;5;132;01m{\u001b[39;00mdata_name\u001b[38;5;132;01m}\u001b[39;00m\u001b[38;5;124m'\u001b[39m\n\u001b[1;32m      6\u001b[0m     \u001b[38;5;66;03m# Plot graphs\u001b[39;00m\n\u001b[1;32m      7\u001b[0m     \u001b[38;5;66;03m# benchmark.plot_particular_result(results_folder, results_folder + '/summary',\u001b[39;00m\n\u001b[1;32m      8\u001b[0m     \u001b[38;5;66;03m#                                 scores=[f'{score}_summary' for score in \\\u001b[39;00m\n\u001b[1;32m      9\u001b[0m     \u001b[38;5;66;03m#                                                 ['shd', 'f1', 'precision', 'recall']],\u001b[39;00m\n\u001b[1;32m     10\u001b[0m     \u001b[38;5;66;03m#                                 dataset_iteration_to_plot=0)\u001b[39;00m\n",
      "Cell \u001b[0;32mIn[1], line 64\u001b[0m, in \u001b[0;36mexecute_benchmark\u001b[0;34m(data_name)\u001b[0m\n\u001b[1;32m     60\u001b[0m options_generator, options_kwargs \u001b[38;5;241m=\u001b[39m benchmark_options[chosen_option]\n\u001b[1;32m     61\u001b[0m parameters_iterator \u001b[38;5;241m=\u001b[39m options_generator(data_generation_options,\n\u001b[1;32m     62\u001b[0m                                             algorithms_parameters,\n\u001b[1;32m     63\u001b[0m                                             \u001b[38;5;241m*\u001b[39m\u001b[38;5;241m*\u001b[39moptions_kwargs)\n\u001b[0;32m---> 64\u001b[0m results \u001b[38;5;241m=\u001b[39m \u001b[43mbenchmark\u001b[49m\u001b[38;5;241;43m.\u001b[39;49m\u001b[43mbenchmark_causal_discovery\u001b[49m\u001b[43m(\u001b[49m\u001b[43malgorithms\u001b[49m\u001b[38;5;241;43m=\u001b[39;49m\u001b[43malgorithms\u001b[49m\u001b[43m,\u001b[49m\n\u001b[1;32m     65\u001b[0m \u001b[43m                                    \u001b[49m\u001b[43mparameters_iterator\u001b[49m\u001b[38;5;241;43m=\u001b[39;49m\u001b[43mparameters_iterator\u001b[49m\u001b[43m,\u001b[49m\n\u001b[1;32m     66\u001b[0m \u001b[43m                                    \u001b[49m\u001b[43mdatasets_folder\u001b[49m\u001b[38;5;241;43m=\u001b[39;49m\u001b[43mdatasets_folder\u001b[49m\u001b[43m,\u001b[49m\n\u001b[1;32m     67\u001b[0m \u001b[43m                                    \u001b[49m\u001b[43mgenerate_toy_data\u001b[49m\u001b[38;5;241;43m=\u001b[39;49m\u001b[38;5;28;43;01mFalse\u001b[39;49;00m\u001b[43m,\u001b[49m\n\u001b[1;32m     68\u001b[0m \u001b[43m                                    \u001b[49m\u001b[43mresults_folder\u001b[49m\u001b[38;5;241;43m=\u001b[39;49m\u001b[43mresults_folder\u001b[49m\u001b[43m,\u001b[49m\n\u001b[1;32m     69\u001b[0m \u001b[43m                                    \u001b[49m\u001b[43mn_executions\u001b[49m\u001b[38;5;241;43m=\u001b[39;49m\u001b[38;5;241;43m5\u001b[39;49m\u001b[43m,\u001b[49m\n\u001b[1;32m     70\u001b[0m \u001b[43m                                    \u001b[49m\u001b[43mverbose\u001b[49m\u001b[38;5;241;43m=\u001b[39;49m\u001b[38;5;241;43m1\u001b[39;49m\u001b[43m)\u001b[49m\n\u001b[1;32m     72\u001b[0m \u001b[38;5;28;01mreturn\u001b[39;00m results, benchmark\n",
      "File \u001b[0;32m~/Documents/Asignaturas/TFG UCO/Introduction-to-Causal-Inference/src/group-causation/group_causation/benchmark.py:115\u001b[0m, in \u001b[0;36mBenchmarkBase.benchmark_causal_discovery\u001b[0;34m(self, algorithms, parameters_iterator, generate_toy_data, datasets_folder, results_folder, n_executions, verbose)\u001b[0m\n\u001b[1;32m    113\u001b[0m     \u001b[38;5;28mself\u001b[39m\u001b[38;5;241m.\u001b[39mbenchmark_with_toy_data(algorithms, parameters_iterator, n_executions, datasets_folder)\n\u001b[1;32m    114\u001b[0m \u001b[38;5;28;01melse\u001b[39;00m:\n\u001b[0;32m--> 115\u001b[0m     \u001b[38;5;28;43mself\u001b[39;49m\u001b[38;5;241;43m.\u001b[39;49m\u001b[43mbenchmark_with_given_data\u001b[49m\u001b[43m(\u001b[49m\u001b[43malgorithms\u001b[49m\u001b[43m,\u001b[49m\u001b[43m \u001b[49m\u001b[43mparameters_iterator\u001b[49m\u001b[43m,\u001b[49m\u001b[43m \u001b[49m\u001b[43mn_executions\u001b[49m\u001b[43m,\u001b[49m\u001b[43m \u001b[49m\u001b[43mdatasets_folder\u001b[49m\u001b[43m)\u001b[49m\n\u001b[1;32m    117\u001b[0m \u001b[38;5;28;01mreturn\u001b[39;00m \u001b[38;5;28mself\u001b[39m\u001b[38;5;241m.\u001b[39mresults\n",
      "File \u001b[0;32m~/Documents/Asignaturas/TFG UCO/Introduction-to-Causal-Inference/src/group-causation/group_causation/benchmark.py:195\u001b[0m, in \u001b[0;36mBenchmarkBase.benchmark_with_given_data\u001b[0;34m(self, algorithms, parameters_iterator, n_executions_per_data_param, datasets_folder)\u001b[0m\n\u001b[1;32m    192\u001b[0m     \u001b[38;5;28mprint\u001b[39m(BLUE, \u001b[38;5;124m'\u001b[39m\u001b[38;5;124mDatasets have been loaded.\u001b[39m\u001b[38;5;124m'\u001b[39m, RESET)\n\u001b[1;32m    194\u001b[0m \u001b[38;5;66;03m# Generate and save results of all algorithms with given datasets\u001b[39;00m\n\u001b[0;32m--> 195\u001b[0m current_results \u001b[38;5;241m=\u001b[39m \u001b[38;5;28;43mself\u001b[39;49m\u001b[38;5;241;43m.\u001b[39;49m\u001b[43mtest_algorithms\u001b[49m\u001b[43m(\u001b[49m\u001b[43mcausal_datasets\u001b[49m\u001b[43m,\u001b[49m\u001b[43m \u001b[49m\u001b[43malgorithms\u001b[49m\u001b[43m,\u001b[49m\n\u001b[1;32m    196\u001b[0m \u001b[43m                                        \u001b[49m\u001b[43mcurrent_algorithms_parameters\u001b[49m\u001b[43m)\u001b[49m\n\u001b[1;32m    198\u001b[0m \u001b[38;5;28;01mfor\u001b[39;00m name, algorithm_results \u001b[38;5;129;01min\u001b[39;00m current_results\u001b[38;5;241m.\u001b[39mitems():\n\u001b[1;32m    199\u001b[0m     iteration \u001b[38;5;241m=\u001b[39m \u001b[38;5;241m-\u001b[39m\u001b[38;5;241m1\u001b[39m\n",
      "File \u001b[0;32m~/Documents/Asignaturas/TFG UCO/Introduction-to-Causal-Inference/src/group-causation/group_causation/benchmark.py:223\u001b[0m, in \u001b[0;36mBenchmarkBase.test_algorithms\u001b[0;34m(self, causal_datasets, algorithms, algorithms_parameters)\u001b[0m\n\u001b[1;32m    221\u001b[0m result \u001b[38;5;241m=\u001b[39m \u001b[38;5;28mdict\u001b[39m() \u001b[38;5;66;03m# keys are score names and values are the score values\u001b[39;00m\n\u001b[1;32m    222\u001b[0m \u001b[38;5;28;01mfor\u001b[39;00m name, algorithm \u001b[38;5;129;01min\u001b[39;00m algorithms\u001b[38;5;241m.\u001b[39mitems():\n\u001b[0;32m--> 223\u001b[0m     algorithm_results \u001b[38;5;241m=\u001b[39m \u001b[38;5;28;43mself\u001b[39;49m\u001b[38;5;241;43m.\u001b[39;49m\u001b[43mtest_particular_algorithm\u001b[49m\u001b[43m(\u001b[49m\u001b[43malgorithm_name\u001b[49m\u001b[38;5;241;43m=\u001b[39;49m\u001b[43mname\u001b[49m\u001b[43m,\u001b[49m\n\u001b[1;32m    224\u001b[0m \u001b[43m                            \u001b[49m\u001b[43mcausal_datasets\u001b[49m\u001b[38;5;241;43m=\u001b[39;49m\u001b[43mcausal_datasets\u001b[49m\u001b[43m,\u001b[49m\u001b[43m \u001b[49m\u001b[43mcausalDiscovery\u001b[49m\u001b[38;5;241;43m=\u001b[39;49m\u001b[43malgorithm\u001b[49m\u001b[43m,\u001b[49m\n\u001b[1;32m    225\u001b[0m \u001b[43m                            \u001b[49m\u001b[43malgorithm_parameters\u001b[49m\u001b[38;5;241;43m=\u001b[39;49m\u001b[43malgorithms_parameters\u001b[49m\u001b[43m[\u001b[49m\u001b[43mname\u001b[49m\u001b[43m]\u001b[49m\u001b[43m)\u001b[49m\n\u001b[1;32m    226\u001b[0m     result[name] \u001b[38;5;241m=\u001b[39m algorithm_results\n\u001b[1;32m    228\u001b[0m \u001b[38;5;28;01mreturn\u001b[39;00m result\n",
      "File \u001b[0;32m~/Documents/Asignaturas/TFG UCO/Introduction-to-Causal-Inference/src/group-causation/group_causation/benchmark.py:245\u001b[0m, in \u001b[0;36mBenchmarkBase.test_particular_algorithm\u001b[0;34m(self, algorithm_name, causal_datasets, causalDiscovery, algorithm_parameters)\u001b[0m\n\u001b[1;32m    243\u001b[0m results_per_execution \u001b[38;5;241m=\u001b[39m []\n\u001b[1;32m    244\u001b[0m \u001b[38;5;28;01mfor\u001b[39;00m causal_dataset \u001b[38;5;129;01min\u001b[39;00m tqdm(  causal_datasets ): \u001b[38;5;66;03m# tqdm is used to show a progress bar\u001b[39;00m\n\u001b[0;32m--> 245\u001b[0m     results_per_execution\u001b[38;5;241m.\u001b[39mappend( \u001b[38;5;28;43mself\u001b[39;49m\u001b[38;5;241;43m.\u001b[39;49m\u001b[43mtest_particular_algorithm_particular_dataset\u001b[49m\u001b[43m(\u001b[49m\u001b[43mcausal_dataset\u001b[49m\u001b[43m,\u001b[49m\u001b[43m \u001b[49m\u001b[43mcausalDiscovery\u001b[49m\u001b[43m,\u001b[49m\u001b[43m \u001b[49m\u001b[43malgorithm_parameters\u001b[49m\u001b[43m)\u001b[49m )\n\u001b[1;32m    247\u001b[0m \u001b[38;5;28;01mif\u001b[39;00m \u001b[38;5;28mself\u001b[39m\u001b[38;5;241m.\u001b[39mverbose \u001b[38;5;241m>\u001b[39m \u001b[38;5;241m1\u001b[39m:\n\u001b[1;32m    248\u001b[0m     \u001b[38;5;28mprint\u001b[39m(\u001b[38;5;124mf\u001b[39m\u001b[38;5;124m'\u001b[39m\u001b[38;5;132;01m{\u001b[39;00mresults_per_execution\u001b[38;5;132;01m=}\u001b[39;00m\u001b[38;5;124m'\u001b[39m)\n",
      "File \u001b[0;32m~/Documents/Asignaturas/TFG UCO/Introduction-to-Causal-Inference/src/group-causation/group_causation/benchmark.py:515\u001b[0m, in \u001b[0;36mBenchmarkGroupCausalDiscovery.test_particular_algorithm_particular_dataset\u001b[0;34m(self, causal_dataset, causalDiscovery, algorithm_parameters)\u001b[0m\n\u001b[1;32m    513\u001b[0m     memory \u001b[38;5;241m=\u001b[39m np\u001b[38;5;241m.\u001b[39mnan\n\u001b[1;32m    514\u001b[0m \u001b[38;5;28;01mfinally\u001b[39;00m:\n\u001b[0;32m--> 515\u001b[0m     \u001b[38;5;28mprint\u001b[39m(\u001b[38;5;124mf\u001b[39m\u001b[38;5;124m'\u001b[39m\u001b[38;5;132;01m{\u001b[39;00mpredicted_parents\u001b[38;5;132;01m=}\u001b[39;00m\u001b[38;5;124m'\u001b[39m)\n\u001b[1;32m    516\u001b[0m     \u001b[38;5;28mprint\u001b[39m(\u001b[38;5;124mf\u001b[39m\u001b[38;5;124m'\u001b[39m\u001b[38;5;132;01m{\u001b[39;00mcausal_dataset\u001b[38;5;241m.\u001b[39mparents_dict\u001b[38;5;132;01m=}\u001b[39;00m\u001b[38;5;124m'\u001b[39m)\n\u001b[1;32m    517\u001b[0m     result \u001b[38;5;241m=\u001b[39m {\u001b[38;5;124m'\u001b[39m\u001b[38;5;124mtime\u001b[39m\u001b[38;5;124m'\u001b[39m: time, \u001b[38;5;124m'\u001b[39m\u001b[38;5;124mmemory\u001b[39m\u001b[38;5;124m'\u001b[39m: memory}\n",
      "\u001b[0;31mUnboundLocalError\u001b[0m: local variable 'predicted_parents' referenced before assignment"
     ]
    }
   ],
   "source": [
    "from group_causation.benchmark import BenchmarkGroupCausalDiscovery\n",
    "\n",
    "plt.style.use('default')\n",
    "plt.rcParams['text.usetex'] = True\n",
    "plt.rcParams['font.family'] = 'serif'\n",
    "\n",
    "for data_name in (data_names:=['pm25', 'medical', 'traffic']):\n",
    "    print('Executing benchmark of', data_name)\n",
    "    results, benchmark = execute_benchmark(data_name)\n",
    "    \n",
    "# Plot graphs\n",
    "for data_name in (data_names:=['pm25', 'medical', 'traffic']):\n",
    "    results_folder = f'results_{data_name}'\n",
    "    benchmark = BenchmarkGroupCausalDiscovery()\n",
    "    # benchmark.plot_particular_result(results_folder, results_folder + '/summary',\n",
    "    #                                 scores=[f'{score}_summary' for score in \\\n",
    "    #                                                 ['shd', 'f1', 'precision', 'recall']],\n",
    "    #                                 dataset_iteration_to_plot=0)"
   ]
  }
 ],
 "metadata": {
  "kernelspec": {
   "display_name": "causal-inference",
   "language": "python",
   "name": "python3"
  },
  "language_info": {
   "codemirror_mode": {
    "name": "ipython",
    "version": 3
   },
   "file_extension": ".py",
   "mimetype": "text/x-python",
   "name": "python",
   "nbconvert_exporter": "python",
   "pygments_lexer": "ipython3",
   "version": "3.9.21"
  }
 },
 "nbformat": 4,
 "nbformat_minor": 5
}
