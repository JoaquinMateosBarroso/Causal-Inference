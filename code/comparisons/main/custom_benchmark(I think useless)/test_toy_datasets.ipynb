{
 "cells": [
  {
   "cell_type": "code",
   "execution_count": 1,
   "metadata": {},
   "outputs": [
    {
     "ename": "ModuleNotFoundError",
     "evalue": "No module named 'tigramite'",
     "output_type": "error",
     "traceback": [
      "\u001b[0;31m---------------------------------------------------------------------------\u001b[0m",
      "\u001b[0;31mModuleNotFoundError\u001b[0m                       Traceback (most recent call last)",
      "Cell \u001b[0;32mIn[1], line 1\u001b[0m\n\u001b[0;32m----> 1\u001b[0m \u001b[38;5;28;01mfrom\u001b[39;00m \u001b[38;5;21;01mcreate_toy_datasets\u001b[39;00m \u001b[38;5;28;01mimport\u001b[39;00m generate_toy_data\n\u001b[1;32m      2\u001b[0m \u001b[38;5;28;01mfrom\u001b[39;00m \u001b[38;5;21;01mfunctions_test_toy_data\u001b[39;00m \u001b[38;5;28;01mimport\u001b[39;00m test_toy_data, extract_parents_pcmci, extract_parents_pcmciplus, extract_parents_lpcmci\n\u001b[1;32m      4\u001b[0m \u001b[38;5;28;01mimport\u001b[39;00m \u001b[38;5;21;01mpandas\u001b[39;00m \u001b[38;5;28;01mas\u001b[39;00m \u001b[38;5;21;01mpd\u001b[39;00m\n",
      "File \u001b[0;32m~/Documents/Asignaturas/TFG UCO/Introduction-to-Causal-Inference/code/comparisons/tigramite-example/create_toy_datasets.py:3\u001b[0m\n\u001b[1;32m      1\u001b[0m \u001b[38;5;66;03m# %%\u001b[39;00m\n\u001b[1;32m      2\u001b[0m \u001b[38;5;28;01mimport\u001b[39;00m \u001b[38;5;21;01mpandas\u001b[39;00m \u001b[38;5;28;01mas\u001b[39;00m \u001b[38;5;21;01mpd\u001b[39;00m\n\u001b[0;32m----> 3\u001b[0m \u001b[38;5;28;01mfrom\u001b[39;00m \u001b[38;5;21;01mtigramite\u001b[39;00m\u001b[38;5;21;01m.\u001b[39;00m\u001b[38;5;21;01mtoymodels\u001b[39;00m\u001b[38;5;21;01m.\u001b[39;00m\u001b[38;5;21;01mstructural_causal_processes\u001b[39;00m \u001b[38;5;28;01mimport\u001b[39;00m generate_structural_causal_process, structural_causal_process\n\u001b[1;32m      5\u001b[0m \u001b[38;5;28;01mdef\u001b[39;00m \u001b[38;5;21mget_parents_dict\u001b[39m(causal_process):\n\u001b[1;32m      6\u001b[0m     parents_dict \u001b[38;5;241m=\u001b[39m \u001b[38;5;28mdict\u001b[39m()\n",
      "\u001b[0;31mModuleNotFoundError\u001b[0m: No module named 'tigramite'"
     ]
    }
   ],
   "source": [
    "from create_toy_datasets import generate_toy_data\n",
    "from functions_test_toy_data import test_toy_data\n",
    "from extract_parents_tigramite import extract_parents_lpcmci, extract_parents_pcmci, extract_parents_pcmciplus\n",
    "\n",
    "\n",
    "import pandas as pd"
   ]
  },
  {
   "cell_type": "code",
   "execution_count": 6,
   "metadata": {},
   "outputs": [
    {
     "name": "stdout",
     "output_type": "stream",
     "text": [
      "(3, ['nonlinear'], 2, 100, 5)\n",
      "(3, ['nonlinear'], 2, 100, 8)\n",
      "     T  N  L dependency_funcs  max_lag      time        f1  precision  \\\n",
      "0  100  5  2      [nonlinear]        3  0.824579  0.631579   0.857143   \n",
      "1  100  8  2      [nonlinear]        3  2.012926  0.750000   0.900000   \n",
      "\n",
      "     recall  \n",
      "0  0.500000  \n",
      "1  0.642857  \n"
     ]
    }
   ],
   "source": [
    "from itertools import product\n",
    "\n",
    "def create_and_test_toy_data():\n",
    "    values = {\n",
    "        'max_lag': [3],\n",
    "        'dependency_funcs': [['linear', 'nonlinear']],\n",
    "        'L': [5, 10, 15, 20],\n",
    "        'T': [100, 250, 500, 1000],\n",
    "        'N': [5, 10, 25, 50],\n",
    "    }\n",
    "    \n",
    "\n",
    "    algorithms = {\n",
    "        'pcmci': extract_parents_pcmci,\n",
    "        'pcmciplus': extract_parents_pcmciplus,\n",
    "        'lpcmci': extract_parents_lpcmci\n",
    "    }\n",
    "    \n",
    "    # A list whose items are the dictionaries of results of the different executions\n",
    "    results = {\n",
    "        'pcmci': [],\n",
    "        'pcmciplus': [],\n",
    "        'lpcmci': [],\n",
    "    }\n",
    "    \n",
    "    combinations = list(product(*values.values()))\n",
    "    \n",
    "    for iteration, combination in enumerate(combinations):\n",
    "        print(combination)\n",
    "        params = dict(zip(values.keys(), combination))\n",
    "        generate_toy_data(iteration, **params)\n",
    "        \n",
    "        for name, algorithm in algorithms.items():\n",
    "            algorithm_results = test_toy_data(iteration, algorithm)\n",
    "            algorithm_results.update(params) # Include the parameters in the information for results\n",
    "            results[name].append(algorithm_results)\n",
    "    \n",
    "    \n",
    "    # Save the results in a csv file\n",
    "    for name in algorithms.keys():\n",
    "        df = pd.DataFrame(results[name])\n",
    "        df = df[['T', 'N', 'L', 'dependency_funcs', 'max_lag', 'time', 'f1', 'precision', 'recall']]\n",
    "        df.to_csv(f'results_{name}.csv', index=False)\n",
    "        \n",
    "create_and_test_toy_data()"
   ]
  }
 ],
 "metadata": {
  "kernelspec": {
   "display_name": "tigramite",
   "language": "python",
   "name": "python3"
  },
  "language_info": {
   "codemirror_mode": {
    "name": "ipython",
    "version": 3
   },
   "file_extension": ".py",
   "mimetype": "text/x-python",
   "name": "python",
   "nbconvert_exporter": "python",
   "pygments_lexer": "ipython3",
   "version": "3.9.18"
  }
 },
 "nbformat": 4,
 "nbformat_minor": 4
}
