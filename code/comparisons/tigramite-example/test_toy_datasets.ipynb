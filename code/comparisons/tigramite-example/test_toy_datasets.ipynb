{
 "cells": [
  {
   "cell_type": "code",
   "execution_count": 1,
   "metadata": {},
   "outputs": [],
   "source": [
    "# Imports\n",
    "import numpy as np\n",
    "import matplotlib\n",
    "import pandas as pd\n",
    "from matplotlib import pyplot as plt\n",
    "%matplotlib inline\n",
    "# %matplotlib notebook\n",
    "## use `%matplotlib notebook` for interactive figures\n",
    "plt.style.use('ggplot')\n",
    "\n",
    "import tigramite\n",
    "from tigramite import data_processing as pp\n",
    "from tigramite import plotting as tp\n",
    "from tigramite.pcmci import PCMCI\n",
    "\n",
    "from tigramite.independence_tests.parcorr import ParCorr"
   ]
  },
  {
   "cell_type": "code",
   "execution_count": 2,
   "metadata": {},
   "outputs": [],
   "source": [
    "def get_precision(ground_truth_parents: dict, predicted_parents: dict):\n",
    "    # Precision = TP / (TP + FP)\n",
    "    true_positives = 0\n",
    "    for effect, causes in predicted_parents.items():\n",
    "        true_positives += len([cause for cause in causes if cause in ground_truth_parents.get(effect, [])])\n",
    "    \n",
    "    predicted_positives = sum([len(causes) for causes in predicted_parents.values()])\n",
    "    \n",
    "    return true_positives / predicted_positives\n",
    "\n",
    "def get_recall(ground_truth_parents: dict, predicted_parents: dict):\n",
    "    # Recall = TP / (TP + FN)\n",
    "    true_positives = 0\n",
    "    for effect, causes in predicted_parents.items():\n",
    "        true_positives += len([cause for cause in causes if cause in ground_truth_parents.get(effect, [])])\n",
    "        \n",
    "    ground_truth_positives = sum([len(causes) for causes in ground_truth_parents.values()])\n",
    "    \n",
    "    return true_positives / ground_truth_positives"
   ]
  },
  {
   "cell_type": "code",
   "execution_count": 3,
   "metadata": {},
   "outputs": [],
   "source": [
    "def test_toy_data(name, parents_extractor):\n",
    "    # Load causal process dictionary\n",
    "    with open(f'toy_data/causal_process{name}.txt') as f:\n",
    "        line = f.readline()\n",
    "        causal_process = eval(line)\n",
    "    # Load example data\n",
    "    df = pd.read_csv(f'toy_data/data{name}.csv', header=None)\n",
    "    dataframe = pp.DataFrame(df.values, var_names=df.columns)\n",
    "    dataframe.values[0].shape\n",
    "    \n",
    "    parents = parents_extractor(dataframe)\n",
    "    \n",
    "    # Compare results\n",
    "    print(f'Predicted parents: {parents}')\n",
    "    print(f'Causal process: {causal_process}')\n",
    "    \n",
    "    print(f'Precision: {get_precision(parents, causal_process)}')\n",
    "    print(f'Recall: {get_recall(parents, causal_process)}')\n",
    "    print(f'F1: {2 * get_precision(parents, causal_process) * get_recall(parents, causal_process) / (get_precision(parents, causal_process) + get_recall(parents, causal_process))}')"
   ]
  },
  {
   "cell_type": "code",
   "execution_count": 4,
   "metadata": {},
   "outputs": [],
   "source": [
    "def extract_parents_pcmci(dataframe):\n",
    "    parcorr = ParCorr(significance='analytic')\n",
    "    pcmci = PCMCI(\n",
    "        dataframe=dataframe,\n",
    "        cond_ind_test=parcorr,\n",
    "        verbosity=0\n",
    "    )\n",
    "\n",
    "    tau_max = 3\n",
    "    pc_alpha = None # Optimize in a list\n",
    "    results = pcmci.run_pcmci(tau_min=1, tau_max=tau_max, pc_alpha=pc_alpha)\n",
    "\n",
    "    parents = pcmci.return_parents_dict(graph=results['graph'], val_matrix=results['val_matrix'])\n",
    "    return parents"
   ]
  },
  {
   "cell_type": "code",
   "execution_count": 5,
   "metadata": {},
   "outputs": [
    {
     "name": "stdout",
     "output_type": "stream",
     "text": [
      "Predicted parents: {0: [(0, -1), (11, -2), (7, -1)], 1: [(1, -1), (8, -3), (2, -3), (11, -3)], 2: [(7, -2)], 3: [(13, -1)], 4: [(4, -1), (2, -3), (9, -1), (9, -2), (8, -3), (3, -1)], 5: [(3, -2), (5, -1), (9, -1)], 6: [(6, -1), (19, -2), (12, -2), (19, -3), (6, -2)], 7: [(7, -1), (12, -2), (13, -2)], 8: [(8, -1), (2, -2), (13, -1), (14, -3), (0, -1), (18, -2), (10, -1), (2, -1)], 9: [(9, -1), (11, -2), (4, -1), (11, -3), (12, -1), (2, -1), (18, -2), (7, -1), (3, -1)], 10: [(10, -1), (16, -1), (15, -1)], 11: [(11, -1)], 12: [(12, -1), (19, -3), (14, -3), (19, -1), (6, -1)], 13: [(3, -1), (6, -3), (13, -1), (18, -1), (8, -1), (10, -3), (4, -1), (5, -1), (13, -3), (6, -2)], 14: [(0, -3), (13, -3), (16, -3), (11, -2), (4, -2), (2, -1)], 15: [(15, -1), (14, -1), (8, -3), (8, -1), (12, -3)], 16: [(16, -1), (7, -3), (1, -2)], 17: [(17, -1), (18, -3), (4, -2), (12, -1), (12, -3), (15, -1)], 18: [(17, -1), (7, -2), (9, -3), (18, -1), (0, -1)], 19: [(19, -1), (0, -1), (6, -2), (10, -1), (11, -1), (17, -1)]}\n",
      "Causal process: {0: [(0, -1)], 1: [(1, -1)], 2: [(2, -1)], 3: [(3, -1)], 4: [(4, -1), (2, -3)], 5: [(5, -1)], 6: [(6, -1), (19, -2)], 7: [(7, -1)], 8: [(8, -1), (2, -2)], 9: [(9, -1)], 10: [(10, -1)], 11: [(11, -1)], 12: [(12, -1)], 13: [(13, -1)], 14: [(14, -1), (0, -3)], 15: [(15, -1)], 16: [(16, -1)], 17: [(17, -1), (18, -3)], 18: [(18, -1)], 19: [(19, -1)]}\n",
      "Precision: 0.88\n",
      "Recall: 0.23655913978494625\n",
      "F1: 0.3728813559322034\n"
     ]
    }
   ],
   "source": [
    "test_toy_data(1, extract_parents_pcmci)"
   ]
  },
  {
   "cell_type": "code",
   "execution_count": 14,
   "metadata": {},
   "outputs": [],
   "source": [
    "def extract_parents_pcmci_2(dataframe):\n",
    "    parcorr = ParCorr(significance='analytic')\n",
    "    pcmci = PCMCI(\n",
    "        dataframe=dataframe,\n",
    "        cond_ind_test=parcorr,\n",
    "        verbosity=0\n",
    "    )\n",
    "\n",
    "    tau_max = 3\n",
    "    pc_alpha = 0.05 # Default value\n",
    "    results = pcmci.run_pcmci(tau_min=1, tau_max=tau_max, pc_alpha=pc_alpha)\n",
    "\n",
    "    parents = pcmci.return_parents_dict(graph=results['graph'], val_matrix=results['val_matrix'])\n",
    "    return parents"
   ]
  },
  {
   "cell_type": "code",
   "execution_count": 15,
   "metadata": {},
   "outputs": [
    {
     "name": "stdout",
     "output_type": "stream",
     "text": [
      "Predicted parents: {0: [(0, -1)], 1: [(1, -1), (8, -3), (5, -1), (11, -2), (2, -3)], 2: [(2, -1), (17, -3), (16, -2), (1, -1), (16, -1)], 3: [(3, -1), (4, -2), (14, -2)], 4: [(4, -1), (2, -3), (9, -1), (5, -2)], 5: [(5, -1), (13, -2), (3, -2), (3, -1)], 6: [(6, -1), (19, -2), (11, -2), (6, -2)], 7: [(7, -1), (12, -2), (0, -1)], 8: [(8, -1), (2, -2), (13, -1), (18, -1), (11, -2), (10, -3)], 9: [(9, -1), (11, -1), (5, -3), (10, -3), (3, -1)], 10: [(10, -1), (16, -1), (5, -1)], 11: [(11, -1), (14, -1)], 12: [(12, -1), (19, -1), (14, -3), (6, -1), (19, -2)], 13: [(13, -1), (4, -3), (6, -3), (18, -1), (8, -1), (5, -1), (19, -2), (3, -1), (2, -3), (17, -1)], 14: [(0, -3), (13, -3), (16, -3), (14, -1), (12, -3), (3, -2), (6, -2), (10, -1), (11, -2)], 15: [(15, -1), (8, -3), (19, -3)], 16: [(16, -1), (7, -3), (1, -2)], 17: [(17, -1), (18, -3), (6, -2), (1, -3)], 18: [(18, -1), (14, -3), (7, -2), (5, -1)], 19: [(19, -1), (10, -1), (6, -2), (11, -1), (9, -1)]}\n",
      "Causal process: {0: [(0, -1)], 1: [(1, -1)], 2: [(2, -1)], 3: [(3, -1)], 4: [(4, -1), (2, -3)], 5: [(5, -1)], 6: [(6, -1), (19, -2)], 7: [(7, -1)], 8: [(8, -1), (2, -2)], 9: [(9, -1)], 10: [(10, -1)], 11: [(11, -1)], 12: [(12, -1)], 13: [(13, -1)], 14: [(14, -1), (0, -3)], 15: [(15, -1)], 16: [(16, -1)], 17: [(17, -1), (18, -3)], 18: [(18, -1)], 19: [(19, -1)]}\n",
      "Precision: 1.0\n",
      "Recall: 0.2840909090909091\n",
      "F1: 0.4424778761061947\n"
     ]
    }
   ],
   "source": [
    "test_toy_data(1, extract_parents_pcmci_2)"
   ]
  }
 ],
 "metadata": {
  "kernelspec": {
   "display_name": "tigramite",
   "language": "python",
   "name": "python3"
  },
  "language_info": {
   "codemirror_mode": {
    "name": "ipython",
    "version": 3
   },
   "file_extension": ".py",
   "mimetype": "text/x-python",
   "name": "python",
   "nbconvert_exporter": "python",
   "pygments_lexer": "ipython3",
   "version": "3.9.18"
  }
 },
 "nbformat": 4,
 "nbformat_minor": 2
}
