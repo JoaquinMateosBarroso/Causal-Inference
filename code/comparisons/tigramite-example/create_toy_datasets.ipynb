{
 "cells": [
  {
   "cell_type": "code",
   "execution_count": 1,
   "metadata": {},
   "outputs": [],
   "source": [
    "import pandas as pd\n",
    "from tigramite.toymodels.structural_causal_processes import generate_structural_causal_process, structural_causal_process\n",
    "\n",
    "def get_parents_dict(causal_process):\n",
    "    parents_dict = dict()\n",
    "    for key in causal_process.keys():\n",
    "        if key not in parents_dict:\n",
    "            parents_dict[key] = []\n",
    "        for i in range(len(causal_process[key])):\n",
    "            parents_dict[key].append(causal_process[key][i][0])\n",
    "    return parents_dict\n",
    "\n",
    "def generate_toy_data(name):\n",
    "    # Generate random causal process\n",
    "    causal_process = generate_structural_causal_process(N=20, L=5, max_lag=3, seed=0)[0]\n",
    "    actual_dict = get_parents_dict(causal_process)\n",
    "\n",
    "    # Generate time series data from the causal process\n",
    "    time_series = structural_causal_process(causal_process, T=100)[0]\n",
    "    \n",
    "    \n",
    "    # Save the causal process to a txt file\n",
    "    with open(f'toy_data/causal_process{name}.txt', 'w') as f:\n",
    "        f.write(actual_dict.__str__())\n",
    "    \n",
    "    # Save the time series data to a csv file\n",
    "    df = pd.DataFrame(time_series)\n",
    "    df.to_csv(f'toy_data/data{name}.csv', index=False, header=False)\n"
   ]
  },
  {
   "cell_type": "code",
   "execution_count": 2,
   "metadata": {},
   "outputs": [],
   "source": [
    "generate_toy_data(1)"
   ]
  }
 ],
 "metadata": {
  "kernelspec": {
   "display_name": "tigramite",
   "language": "python",
   "name": "python3"
  },
  "language_info": {
   "codemirror_mode": {
    "name": "ipython",
    "version": 3
   },
   "file_extension": ".py",
   "mimetype": "text/x-python",
   "name": "python",
   "nbconvert_exporter": "python",
   "pygments_lexer": "ipython3",
   "version": "3.9.18"
  }
 },
 "nbformat": 4,
 "nbformat_minor": 2
}
