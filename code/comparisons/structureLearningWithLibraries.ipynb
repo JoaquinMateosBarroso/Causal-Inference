{
 "cells": [
  {
   "cell_type": "markdown",
   "metadata": {},
   "source": [
    "### Imports y dataset"
   ]
  },
  {
   "cell_type": "code",
   "execution_count": 1,
   "metadata": {},
   "outputs": [],
   "source": [
    "import numpy as np\n",
    "import pandas as pd\n",
    "import matplotlib.pyplot as plt\n",
    "\n",
    "from pgmpy.estimators import BicScore, K2Score, AICScore\n",
    "from pgmpy.models import BayesianNetwork\n",
    "from pgmpy.estimators import HillClimbSearch, BayesianEstimator\n",
    "\n",
    "import networkx as nx\n",
    "\n",
    "numberOfSamplesPerDataset = 200"
   ]
  },
  {
   "cell_type": "code",
   "execution_count": 2,
   "metadata": {},
   "outputs": [],
   "source": [
    "data1 = pd.read_csv(\"/home/joaquin/Documents/Asignaturas/TFG UCO/Introduction-to-Causal-Inference/datasets/heart-disease(320k_rows)/2022/heart_2022_no_nans.csv\")\n",
    "data2 = pd.read_csv(\"/home/joaquin/Documents/Asignaturas/TFG UCO/Introduction-to-Causal-Inference/datasets/Agriculture Crop Yield(1M_rows)/crop_yield.csv\")\n",
    "\n",
    "datasets = {'Heart disease': data1, 'Agriculture Crop Yield': data2}"
   ]
  },
  {
   "cell_type": "code",
   "execution_count": 3,
   "metadata": {},
   "outputs": [],
   "source": [
    "for dataset in datasets.values():\n",
    "    # Drop non categorical columns\n",
    "    dataset.drop(dataset.dtypes[dataset.dtypes.apply(lambda x: x not in (bool, object))].index, axis=1, inplace=True)\n",
    "    \n",
    "# Stay with just a sample of each dataset\n",
    "datasets = {key: df.sample(n=numberOfSamplesPerDataset, random_state=0) for key, df in datasets.items()}"
   ]
  },
  {
   "cell_type": "markdown",
   "metadata": {},
   "source": [
    "## Algorithms"
   ]
  },
  {
   "cell_type": "markdown",
   "metadata": {},
   "source": [
    "### Hill Climbing"
   ]
  },
  {
   "cell_type": "code",
   "execution_count": 4,
   "metadata": {},
   "outputs": [
    {
     "data": {
      "application/vnd.jupyter.widget-view+json": {
       "model_id": "13b40f948bde418684f26ed19ed18280",
       "version_major": 2,
       "version_minor": 0
      },
      "text/plain": [
       "  0%|          | 0/100 [00:00<?, ?it/s]"
      ]
     },
     "metadata": {},
     "output_type": "display_data"
    },
    {
     "name": "stdout",
     "output_type": "stream",
     "text": [
      "'Heart disease' dataset finished\n"
     ]
    },
    {
     "data": {
      "application/vnd.jupyter.widget-view+json": {
       "model_id": "b64eff866e1c47549ee3b3f1d2ef133d",
       "version_major": 2,
       "version_minor": 0
      },
      "text/plain": [
       "  0%|          | 0/100 [00:00<?, ?it/s]"
      ]
     },
     "metadata": {},
     "output_type": "display_data"
    },
    {
     "name": "stdout",
     "output_type": "stream",
     "text": [
      "'Agriculture Crop Yield' dataset finished\n"
     ]
    }
   ],
   "source": [
    "models_hc = {}\n",
    "for name, dataset in datasets.items():\n",
    "    hc = HillClimbSearch(dataset)\n",
    "    models_hc[name] = hc.estimate(scoring_method=BicScore(dataset), epsilon=0.01, max_iter=100)\n",
    "    print(f\"'{name}' dataset finished\")"
   ]
  },
  {
   "cell_type": "markdown",
   "metadata": {},
   "source": [
    "### PC"
   ]
  },
  {
   "cell_type": "code",
   "execution_count": 5,
   "metadata": {},
   "outputs": [
    {
     "data": {
      "application/vnd.jupyter.widget-view+json": {
       "model_id": "43e3cdeaac7245c0bc1ca7cead9ebd62",
       "version_major": 2,
       "version_minor": 0
      },
      "text/plain": [
       "  0%|          | 0/5 [00:00<?, ?it/s]"
      ]
     },
     "metadata": {},
     "output_type": "display_data"
    },
    {
     "name": "stdout",
     "output_type": "stream",
     "text": [
      "'Heart disease' dataset finished\n"
     ]
    },
    {
     "data": {
      "application/vnd.jupyter.widget-view+json": {
       "model_id": "d0b0e90e07e6472ba1a146c557ba236a",
       "version_major": 2,
       "version_minor": 0
      },
      "text/plain": [
       "  0%|          | 0/5 [00:00<?, ?it/s]"
      ]
     },
     "metadata": {},
     "output_type": "display_data"
    },
    {
     "name": "stdout",
     "output_type": "stream",
     "text": [
      "'Agriculture Crop Yield' dataset finished\n"
     ]
    }
   ],
   "source": [
    "from pgmpy.estimators import PC\n",
    "\n",
    "models_pc = {}\n",
    "for name, dataset in datasets.items():\n",
    "    pc = PC(dataset)\n",
    "    models_pc[name] = pc.estimate(significance_level=0.1)\n",
    "    print(f\"'{name}' dataset finished\")"
   ]
  },
  {
   "cell_type": "markdown",
   "metadata": {},
   "source": [
    "## Scores"
   ]
  },
  {
   "cell_type": "code",
   "execution_count": 7,
   "metadata": {},
   "outputs": [
    {
     "name": "stdout",
     "output_type": "stream",
     "text": [
      "********************************************\n",
      "Dataset: Heart disease\n",
      "BicScore from HillClimbSearch: -4943.297219091195\n",
      "BicScore from PC: -5718.70999588342\n",
      "********************************************\n",
      "Dataset: Agriculture Crop Yield\n",
      "BicScore from HillClimbSearch: -1524.3060970387737\n",
      "BicScore from PC: -1532.4913282031068\n",
      "\n",
      "\n",
      "********************************************\n",
      "Dataset: Heart disease\n",
      "K2Score from HillClimbSearch: -4809.478161722633\n",
      "K2Score from PC: -4930.824756211887\n",
      "********************************************\n",
      "Dataset: Agriculture Crop Yield\n",
      "K2Score from HillClimbSearch: -1513.4833946903266\n",
      "K2Score from PC: -1514.555806816383\n",
      "\n",
      "\n",
      "********************************************\n",
      "Dataset: Heart disease\n",
      "AICScore from HillClimbSearch: -4694.274257916818\n",
      "AICScore from PC: -4950.202049477727\n",
      "********************************************\n",
      "Dataset: Agriculture Crop Yield\n",
      "AICScore from HillClimbSearch: -1496.2703994231154\n",
      "AICScore from PC: -1496.2098371710786\n"
     ]
    }
   ],
   "source": [
    "def printScoreForModels(datasets, score):\n",
    "    for name, dataset in datasets.items():\n",
    "        print('********************************************')\n",
    "        print(f\"Dataset: {name}\")\n",
    "        print(f\"{score.__name__} from HillClimbSearch: {score(dataset).score(models_hc[name])}\")\n",
    "        print(f\"{score.__name__} from PC: {score(dataset).score(models_pc[name])}\")\n",
    "        # print(f\"{score.__name__} from GES: {score(dataset).score(models_ges[name])}\")\n",
    "    \n",
    "printScoreForModels(datasets, BicScore)\n",
    "print('\\n')\n",
    "printScoreForModels(datasets, K2Score)\n",
    "print('\\n')\n",
    "printScoreForModels(datasets, AICScore)"
   ]
  },
  {
   "cell_type": "code",
   "execution_count": 5,
   "metadata": {},
   "outputs": [
    {
     "data": {
      "image/png": "[encoded data removed]",
      "text/plain": [
       "<Figure size 640x480 with 1 Axes>"
      ]
     },
     "metadata": {},
     "output_type": "display_data"
    }
   ],
   "source": [
    "graph = nx.DiGraph(best_model_pc.edges())\n",
    "\n",
    "nx.draw(graph, with_labels=True)"
   ]
  },
  {
   "cell_type": "code",
   "execution_count": null,
   "metadata": {},
   "outputs": [],
   "source": []
  }
 ],
 "metadata": {
  "kernelspec": {
   "display_name": "causal-inference",
   "language": "python",
   "name": "python3"
  },
  "language_info": {
   "codemirror_mode": {
    "name": "ipython",
    "version": 3
   },
   "file_extension": ".py",
   "mimetype": "text/x-python",
   "name": "python",
   "nbconvert_exporter": "python",
   "pygments_lexer": "ipython3",
   "version": "3.10.12"
  }
 },
 "nbformat": 4,
 "nbformat_minor": 2
}
