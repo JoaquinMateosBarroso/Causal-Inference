{
 "cells": [
  {
   "cell_type": "markdown",
   "metadata": {},
   "source": [
    "### Imports y dataset"
   ]
  },
  {
   "cell_type": "code",
   "execution_count": 1,
   "metadata": {},
   "outputs": [],
   "source": [
    "import numpy as np\n",
    "import pandas as pd\n",
    "import matplotlib.pyplot as plt\n",
    "import networkx as nx\n",
    "\n",
    "from causallearn.utils.Dataset import load_dataset\n",
    "from causallearn.search.ConstraintBased.PC import pc\n",
    "\n",
    "from pgmpy.estimators import BicScore, K2Score, AICScore\n",
    "from pgmpy.estimators import HillClimbSearch\n",
    "\n",
    "from generateSyntheticDataset import generateRandomDagAndData\n",
    "\n",
    "numberOfNodes = 5\n",
    "edgeProb = 0.5\n",
    "numberOfDatasets = 3\n",
    "numberOfSamplesPerDataset = 200"
   ]
  },
  {
   "cell_type": "code",
   "execution_count": 2,
   "metadata": {},
   "outputs": [],
   "source": [
    "data1 = pd.read_csv(\"/home/joaquin/Documents/Asignaturas/TFG UCO/Introduction-to-Causal-Inference/datasets/heart-disease(320k_rows)/2022/heart_2022_no_nans.csv\")\n",
    "data2 = pd.read_csv(\"/home/joaquin/Documents/Asignaturas/TFG UCO/Introduction-to-Causal-Inference/datasets/Agriculture Crop Yield(1M_rows)/crop_yield.csv\")\n",
    "\n",
    "datasets = {'Heart disease': data1, 'Agriculture Crop Yield': data2}"
   ]
  },
  {
   "cell_type": "code",
   "execution_count": 3,
   "metadata": {},
   "outputs": [],
   "source": [
    "for dataset in datasets:\n",
    "    # Drop non categorical columns\n",
    "    dataset.drop(dataset.dtypes[dataset.dtypes.apply(lambda x: x not in (bool, object))].index, axis=1, inplace=True)\n",
    "    \n",
    "# Stay with just a sample of each dataset\n",
    "datasets = {key: df.sample(n=numberOfSamplesPerDataset, random_state=0) for key, df in datasets.items()}"
   ]
  },
  {
   "cell_type": "markdown",
   "metadata": {},
   "source": [
    "## Algorithms"
   ]
  },
  {
   "cell_type": "markdown",
   "metadata": {},
   "source": [
    "### Hill Climbing"
   ]
  },
  {
   "cell_type": "code",
   "execution_count": 2,
   "metadata": {},
   "outputs": [
    {
     "data": {
      "application/vnd.jupyter.widget-view+json": {
       "model_id": "dcd47d035f774d97b6e2ca85f7af18c1",
       "version_major": 2,
       "version_minor": 0
      },
      "text/plain": [
       "  0%|          | 0/100 [00:00<?, ?it/s]"
      ]
     },
     "metadata": {},
     "output_type": "display_data"
    },
    {
     "name": "stdout",
     "output_type": "stream",
     "text": [
      "'synthetic1' dataset finished\n",
      "[('0', '4'), ('1', '6'), ('1', '8'), ('1', '5'), ('3', '5'), ('4', '7'), ('6', '5'), ('6', '3'), ('7', '9'), ('8', '6')]\n"
     ]
    }
   ],
   "source": [
    "models_hc = {}\n",
    "\n",
    "datasets = {'synthetic1': pd.read_csv('data/synthetic1.csv')}\n",
    "\n",
    "for name, dataset in datasets.items():\n",
    "    hc = HillClimbSearch(dataset)\n",
    "    models_hc[name] = hc.estimate(scoring_method=BicScore(dataset), epsilon=0.01, max_iter=100)\n",
    "    print(f\"'{name}' dataset finished\")\n",
    "    print(models_hc[name].edges)"
   ]
  },
  {
   "cell_type": "markdown",
   "metadata": {},
   "source": [
    "### PC"
   ]
  },
  {
   "cell_type": "code",
   "execution_count": 9,
   "metadata": {},
   "outputs": [
    {
     "data": {
      "application/vnd.jupyter.widget-view+json": {
       "model_id": "0e156be7d7384162bd8d48c5b292d70f",
       "version_major": 2,
       "version_minor": 0
      },
      "text/plain": [
       "  0%|          | 0/5 [00:00<?, ?it/s]"
      ]
     },
     "metadata": {},
     "output_type": "display_data"
    },
    {
     "name": "stdout",
     "output_type": "stream",
     "text": [
      "[('6', '5'), ('6', '8'), ('1', '8'), ('1', '5'), ('3', '5'), ('4', '0'), ('7', '4'), ('9', '7')]\n"
     ]
    }
   ],
   "source": [
    "from pgmpy.estimators import PC\n",
    "\n",
    "datasets = {'synthetic1': pd.read_csv('data/synthetic1.csv')}\n",
    "\n",
    "models_pc = {}\n",
    "for name, dataset in datasets.items():\n",
    "    pc = PC(dataset)\n",
    "    graph = pc.estimate(significance_level=0.01).to_directed()\n",
    "    models_pc[name] = graph\n",
    "    print(graph.edges)"
   ]
  },
  {
   "cell_type": "markdown",
   "metadata": {},
   "source": [
    "## Scores"
   ]
  },
  {
   "cell_type": "code",
   "execution_count": 10,
   "metadata": {},
   "outputs": [
    {
     "name": "stdout",
     "output_type": "stream",
     "text": [
      "********************************************\n",
      "Dataset: synthetic1\n",
      "BicScore from HillClimbSearch: -58149.79766739368\n",
      "BicScore from PC: -58164.08764887776\n",
      "\n",
      "\n",
      "********************************************\n",
      "Dataset: synthetic1\n",
      "K2Score from HillClimbSearch: -58132.5908052942\n",
      "K2Score from PC: -58149.14626473762\n",
      "\n",
      "\n",
      "********************************************\n",
      "Dataset: synthetic1\n",
      "AICScore from HillClimbSearch: -58059.66841274398\n",
      "AICScore from PC: -58081.16873460003\n"
     ]
    }
   ],
   "source": [
    "def printScoreForModels(datasets, score):\n",
    "    for name, dataset in datasets.items():\n",
    "        print('********************************************')\n",
    "        print(f\"Dataset: {name}\")\n",
    "        print(f\"{score.__name__} from HillClimbSearch: {score(dataset).score(models_hc[name])}\")\n",
    "        print(f\"{score.__name__} from PC: {score(dataset).score(models_pc[name])}\")\n",
    "        # print(f\"{score.__name__} from GES: {score(dataset).score(models_ges[name])}\")\n",
    "    \n",
    "printScoreForModels(datasets, BicScore)\n",
    "print('\\n')\n",
    "printScoreForModels(datasets, K2Score)\n",
    "print('\\n')\n",
    "printScoreForModels(datasets, AICScore)"
   ]
  }
 ],
 "metadata": {
  "kernelspec": {
   "display_name": "causal-inference",
   "language": "python",
   "name": "python3"
  },
  "language_info": {
   "codemirror_mode": {
    "name": "ipython",
    "version": 3
   },
   "file_extension": ".py",
   "mimetype": "text/x-python",
   "name": "python",
   "nbconvert_exporter": "python",
   "pygments_lexer": "ipython3",
   "version": "3.10.12"
  }
 },
 "nbformat": 4,
 "nbformat_minor": 2
}
