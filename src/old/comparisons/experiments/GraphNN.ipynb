{
 "cells": [
  {
   "cell_type": "markdown",
   "metadata": {},
   "source": [
    "Let's first try if a Neural Network is able to obtain better results than our causal model."
   ]
  },
  {
   "cell_type": "markdown",
   "metadata": {},
   "source": [
    "### Imports and stuff"
   ]
  },
  {
   "cell_type": "code",
   "execution_count": 1,
   "metadata": {},
   "outputs": [],
   "source": [
    "from PC_deletable import PC\n",
    "import pandas as pd\n",
    "import networkx as nx\n",
    "import matplotlib.pyplot as plt\n",
    "import numpy as np\n",
    "\n",
    "np.random.seed(42)"
   ]
  },
  {
   "cell_type": "code",
   "execution_count": 2,
   "metadata": {},
   "outputs": [],
   "source": [
    "data = pd.read_csv('../data/train.csv')\n",
    "data.drop(columns=['PassengerId', 'Name', 'Ticket', 'Cabin', 'Embarked'], inplace=True)\n",
    "\n",
    "data['Sex'] = data['Sex'].apply(lambda x: 1 if x=='male' else 0)\n",
    "\n",
    "data.dropna(inplace=True)\n",
    "\n",
    "data_train = data.sample(frac=0.8, random_state=42)\n",
    "data_test = data.drop(data_train.index)"
   ]
  },
  {
   "cell_type": "markdown",
   "metadata": {},
   "source": [
    "### Basic Neural Network"
   ]
  },
  {
   "cell_type": "code",
   "execution_count": 3,
   "metadata": {},
   "outputs": [
    {
     "name": "stderr",
     "output_type": "stream",
     "text": [
      "c:\\Users\\jmate\\miniconda3\\envs\\causal-inference\\Lib\\site-packages\\keras\\src\\layers\\core\\dense.py:87: UserWarning: Do not pass an `input_shape`/`input_dim` argument to a layer. When using Sequential models, prefer using an `Input(shape)` object as the first layer in the model instead.\n",
      "  super().__init__(activity_regularizer=activity_regularizer, **kwargs)\n"
     ]
    },
    {
     "name": "stdout",
     "output_type": "stream",
     "text": [
      "Epoch 1/10\n",
      "\u001b[1m18/18\u001b[0m \u001b[32m━━━━━━━━━━━━━━━━━━━━\u001b[0m\u001b[37m\u001b[0m \u001b[1m2s\u001b[0m 3ms/step - accuracy: 0.6207 - loss: 0.8132\n",
      "Epoch 2/10\n",
      "\u001b[1m18/18\u001b[0m \u001b[32m━━━━━━━━━━━━━━━━━━━━\u001b[0m\u001b[37m\u001b[0m \u001b[1m0s\u001b[0m 3ms/step - accuracy: 0.6407 - loss: 0.7428 \n",
      "Epoch 3/10\n",
      "\u001b[1m18/18\u001b[0m \u001b[32m━━━━━━━━━━━━━━━━━━━━\u001b[0m\u001b[37m\u001b[0m \u001b[1m0s\u001b[0m 2ms/step - accuracy: 0.6644 - loss: 0.6730 \n",
      "Epoch 4/10\n",
      "\u001b[1m18/18\u001b[0m \u001b[32m━━━━━━━━━━━━━━━━━━━━\u001b[0m\u001b[37m\u001b[0m \u001b[1m0s\u001b[0m 3ms/step - accuracy: 0.7026 - loss: 0.7251 \n",
      "Epoch 5/10\n",
      "\u001b[1m18/18\u001b[0m \u001b[32m━━━━━━━━━━━━━━━━━━━━\u001b[0m\u001b[37m\u001b[0m \u001b[1m0s\u001b[0m 2ms/step - accuracy: 0.6945 - loss: 0.6012 \n",
      "Epoch 6/10\n",
      "\u001b[1m18/18\u001b[0m \u001b[32m━━━━━━━━━━━━━━━━━━━━\u001b[0m\u001b[37m\u001b[0m \u001b[1m0s\u001b[0m 2ms/step - accuracy: 0.6896 - loss: 0.6268 \n",
      "Epoch 7/10\n",
      "\u001b[1m18/18\u001b[0m \u001b[32m━━━━━━━━━━━━━━━━━━━━\u001b[0m\u001b[37m\u001b[0m \u001b[1m0s\u001b[0m 2ms/step - accuracy: 0.6628 - loss: 0.6108 \n",
      "Epoch 8/10\n",
      "\u001b[1m18/18\u001b[0m \u001b[32m━━━━━━━━━━━━━━━━━━━━\u001b[0m\u001b[37m\u001b[0m \u001b[1m0s\u001b[0m 2ms/step - accuracy: 0.6929 - loss: 0.7013 \n",
      "Epoch 9/10\n",
      "\u001b[1m18/18\u001b[0m \u001b[32m━━━━━━━━━━━━━━━━━━━━\u001b[0m\u001b[37m\u001b[0m \u001b[1m0s\u001b[0m 2ms/step - accuracy: 0.7062 - loss: 0.5559 \n",
      "Epoch 10/10\n",
      "\u001b[1m18/18\u001b[0m \u001b[32m━━━━━━━━━━━━━━━━━━━━\u001b[0m\u001b[37m\u001b[0m \u001b[1m0s\u001b[0m 2ms/step - accuracy: 0.6998 - loss: 0.6432 \n",
      "\u001b[1m5/5\u001b[0m \u001b[32m━━━━━━━━━━━━━━━━━━━━\u001b[0m\u001b[37m\u001b[0m \u001b[1m0s\u001b[0m 15ms/step\n"
     ]
    },
    {
     "data": {
      "text/plain": [
       "0.5684210526315789"
      ]
     },
     "execution_count": 3,
     "metadata": {},
     "output_type": "execute_result"
    }
   ],
   "source": [
    "import tensorflow as tf\n",
    "from tensorflow.keras.models import Sequential\n",
    "from tensorflow.keras.layers import Dense\n",
    "from sklearn.metrics import f1_score\n",
    "\n",
    "# Define the input shape\n",
    "input_shape = (len(data.columns) - 1,)\n",
    "\n",
    "# Create the model\n",
    "model = Sequential()\n",
    "model.add(Dense(64, activation='relu', input_shape=input_shape))\n",
    "model.add(Dense(512, activation='relu'))\n",
    "model.add(Dense(1, activation='sigmoid'))\n",
    "\n",
    "# Compile the model\n",
    "model.compile(optimizer='adam', loss='binary_crossentropy', metrics=['accuracy'])\n",
    "\n",
    "# Prepare the input and target data\n",
    "X = data_train.drop(columns=['Survived']).values\n",
    "y = data_train['Survived'].values\n",
    "\n",
    "# Train the model\n",
    "model.fit(X, y, epochs=10, batch_size=32)\n",
    "\n",
    "# Evaluate F1 score of the model\n",
    "X_test = data_test.drop(columns=['Survived']).values\n",
    "y_test = data_test['Survived'].values\n",
    "y_pred = model.predict(X_test) > 0.5\n",
    "f1_score(y_test, y_pred)"
   ]
  },
  {
   "cell_type": "markdown",
   "metadata": {},
   "source": [
    "### Extract the causal graph"
   ]
  },
  {
   "cell_type": "code",
   "execution_count": 4,
   "metadata": {},
   "outputs": [
    {
     "name": "stdout",
     "output_type": "stream",
     "text": [
      "Depth 0 completed\n",
      "Depth 1 completed\n"
     ]
    }
   ],
   "source": [
    "def getEdges(dictGraph):\n",
    "    edges = []\n",
    "    for node1, addjacents in dictGraph.items():\n",
    "        for node2 in addjacents:\n",
    "            edges.append((node1, node2))\n",
    "    return edges\n",
    "\n",
    "originalGraph = {column: set(data.columns.drop(column)) \\\n",
    "                            for column in data.columns}\n",
    "\n",
    "G = nx.DiGraph(getEdges(originalGraph))\n",
    "\n",
    "\n",
    "def discretize(data, column, bins):\n",
    "    data[column] = pd.cut(data[column], bins, labels=False)\n",
    "\n",
    "# Age and Fare discretization\n",
    "discretize(data, 'Age', 5)\n",
    "discretize(data, 'Fare', 5)\n",
    "\n",
    "pc = PC(0.25, exogeneous=['Age', 'Sex'], endogeneous=['Survived'], directional=True, maxSeparatingDepth=2)\n",
    "\n",
    "graph, separatingSets = pc.causalDiscovery(data_train)"
   ]
  },
  {
   "cell_type": "markdown",
   "metadata": {},
   "source": [
    "### Train the GNN with the causal graph"
   ]
  },
  {
   "cell_type": "code",
   "execution_count": 5,
   "metadata": {},
   "outputs": [
    {
     "ename": "ImportError",
     "evalue": "cannot import name 'GraphConvolution' from 'tf_geometric.layers' (c:\\Users\\jmate\\miniconda3\\envs\\causal-inference\\Lib\\site-packages\\tf_geometric\\layers\\__init__.py)",
     "output_type": "error",
     "traceback": [
      "\u001b[1;31m---------------------------------------------------------------------------\u001b[0m",
      "\u001b[1;31mImportError\u001b[0m                               Traceback (most recent call last)",
      "Cell \u001b[1;32mIn[5], line 2\u001b[0m\n\u001b[0;32m      1\u001b[0m \u001b[38;5;28;01mimport\u001b[39;00m \u001b[38;5;21;01mtensorflow\u001b[39;00m \u001b[38;5;28;01mas\u001b[39;00m \u001b[38;5;21;01mtf\u001b[39;00m\n\u001b[1;32m----> 2\u001b[0m \u001b[38;5;28;01mfrom\u001b[39;00m \u001b[38;5;21;01mtf_geometric\u001b[39;00m\u001b[38;5;21;01m.\u001b[39;00m\u001b[38;5;21;01mlayers\u001b[39;00m \u001b[38;5;28;01mimport\u001b[39;00m GraphConvolution\n\u001b[0;32m      3\u001b[0m \u001b[38;5;28;01mfrom\u001b[39;00m \u001b[38;5;21;01mtf_geometric\u001b[39;00m\u001b[38;5;21;01m.\u001b[39;00m\u001b[38;5;21;01mutils\u001b[39;00m \u001b[38;5;28;01mimport\u001b[39;00m normalized_adjacency\n\u001b[0;32m      5\u001b[0m \u001b[38;5;66;03m# Define the Graph Neural Network model\u001b[39;00m\n",
      "\u001b[1;31mImportError\u001b[0m: cannot import name 'GraphConvolution' from 'tf_geometric.layers' (c:\\Users\\jmate\\miniconda3\\envs\\causal-inference\\Lib\\site-packages\\tf_geometric\\layers\\__init__.py)"
     ]
    }
   ],
   "source": [
    "import tensorflow as tf\n",
    "from tf_geometric.layers import GraphConvolution\n",
    "from tf_geometric.utils import normalized_adjacency\n",
    "\n",
    "# Define the Graph Neural Network model\n",
    "class GNN(tf.keras.Model):\n",
    "    def __init__(self, num_features, num_classes):\n",
    "        super(GNN, self).__init__()\n",
    "        self.conv1 = GraphConvolution(64, activation='relu')\n",
    "        self.conv2 = GraphConvolution(64, activation='relu')\n",
    "        self.fc = tf.keras.layers.Dense(num_classes, activation='softmax')\n",
    "\n",
    "    def call(self, inputs, adjacency):\n",
    "        x = self.conv1(inputs, adjacency)\n",
    "        x = self.conv2(x, adjacency)\n",
    "        x = tf.reduce_mean(x, axis=1)\n",
    "        x = self.fc(x)\n",
    "        return x\n",
    "\n",
    "# Create the GNN model\n",
    "gnn = GNN(num_features=input_shape[0], num_classes=2)\n",
    "\n",
    "# Define the loss function and optimizer\n",
    "loss_fn = tf.keras.losses.SparseCategoricalCrossentropy()\n",
    "optimizer = tf.keras.optimizers.Adam()\n",
    "\n",
    "# Convert the data to TensorFlow tensors\n",
    "X = tf.convert_to_tensor(X, dtype=tf.float32)\n",
    "y = tf.convert_to_tensor(y, dtype=tf.int32)\n",
    "adjacency = normalized_adjacency(graph)\n",
    "\n",
    "# Train the GNN model\n",
    "for epoch in range(10):\n",
    "    with tf.GradientTape() as tape:\n",
    "        logits = gnn(X, adjacency)\n",
    "        loss_value = loss_fn(y, logits)\n",
    "    grads = tape.gradient(loss_value, gnn.trainable_variables)\n",
    "    optimizer.apply_gradients(zip(grads, gnn.trainable_variables))\n",
    "\n",
    "# Evaluate the GNN model\n",
    "X_test = tf.convert_to_tensor(X_test, dtype=tf.float32)\n",
    "y_test = tf.convert_to_tensor(y_test, dtype=tf.int32)\n",
    "logits_test = gnn(X_test, adjacency)\n",
    "predictions_test = tf.argmax(logits_test, axis=1)\n",
    "accuracy = tf.reduce_mean(tf.cast(tf.equal(predictions_test, y_test), dtype=tf.float32))\n",
    "accuracy.numpy()"
   ]
  }
 ],
 "metadata": {
  "kernelspec": {
   "display_name": "causal-inference",
   "language": "python",
   "name": "python3"
  },
  "language_info": {
   "codemirror_mode": {
    "name": "ipython",
    "version": 3
   },
   "file_extension": ".py",
   "mimetype": "text/x-python",
   "name": "python",
   "nbconvert_exporter": "python",
   "pygments_lexer": "ipython3",
   "version": "3.12.4"
  }
 },
 "nbformat": 4,
 "nbformat_minor": 2
}
